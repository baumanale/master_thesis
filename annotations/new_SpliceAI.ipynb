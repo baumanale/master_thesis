{
 "cells": [
  {
   "cell_type": "code",
   "execution_count": null,
   "id": "89a6081e",
   "metadata": {},
   "outputs": [],
   "source": [
    "import pandas as pd\n",
    "import pysam as ps\n",
    "import numpy as np"
   ]
  },
  {
   "cell_type": "code",
   "execution_count": null,
   "id": "95230fa6",
   "metadata": {},
   "outputs": [],
   "source": [
    "# previously filtered variants without spliceAI score\n",
    "vars_splai = pd.read_csv('variants_wo_splai_score.txt', sep='\\t', \n",
    "                         names=['#CHROM', 'POS', 'ID', 'REF', 'ALT'])\n",
    "all_vars = pd.read_pickle('DataFrame_all_variants')"
   ]
  },
  {
   "cell_type": "code",
   "execution_count": null,
   "id": "a15c22a3",
   "metadata": {},
   "outputs": [],
   "source": [
    "# create VCF file of variants without SpliceAI score\n",
    "vcf_header = ps.VariantHeader()\n",
    "for i in vars_splai['#CHROM'].unique():\n",
    "    vcf_header.add_meta('contig', items = [('ID', i)])\n",
    "vcf_header.add_meta('reference', value='reference_GRCh37.fa')\n",
    "\n",
    "vcf_out = ps.VariantFile('variants_wo_splai.vcf', 'w', header=vcf_header)\n",
    "\n",
    "for i in vars_splai.index:\n",
    "    rec = vcf_out.new_record()\n",
    "    el = vars_splai.loc[i]\n",
    "    rec.chrom = str(el['#CHROM'])\n",
    "    rec.start = el['POS']-1\n",
    "    rec.stop = el['POS']\n",
    "    rec.ref = el['REF']\n",
    "    rec.alts = el['ALT']\n",
    "    vcf_out.write(rec)\n",
    "vcf_out.close()"
   ]
  },
  {
   "cell_type": "code",
   "execution_count": null,
   "id": "71daace7",
   "metadata": {},
   "outputs": [],
   "source": [
    "# ALT sequences were comma-separated -> delete comma\n",
    "with open('variants_wo_splai.vcf', 'w') as w:\n",
    "    with open('new_variants_wo_splai.txt') as o:\n",
    "        for line in o.readlines():\n",
    "            if line.startswith('#'):\n",
    "                w.write(line)\n",
    "                line = line.replace(',','')\n",
    "                w.write(line)"
   ]
  },
  {
   "cell_type": "code",
   "execution_count": null,
   "id": "7fdf5f87",
   "metadata": {},
   "outputs": [],
   "source": [
    "# convert 'new_variants_wo_splai.txt' to VCF file\n",
    "# Python SpliceAI run:\n",
    "# ran: OMP_NUM_THREADS=1 spliceai -I new_variants_wo_splai..vcf -O new_splai_score.vcf -R reference_GRCh37.fa -A grch37\n",
    "# duration: ca. 15 minutes\n",
    "splAI_out = pd.read_csv('new_splai_score.vcf', sep='\\t', skiprows=27)\n",
    "# convert SpliceAI output into DataFrame with columns\n",
    "for i,cat in enumerate(['ALLELE','SYMBOL','DS_AG','DS_AL','DS_DG','DS_DL','DP_AG','DP_AL','DP_DG','DP_DL']):\n",
    "    splAI_out[cat] = splAI_out.INFO.str.split('|', expand=True)[i]\n",
    "splAI_out = splAI_out.drop(columns='INFO')\n",
    "splAI_out = splAI_out.replace({'.':np.nan, 'None':np.nan})\n",
    "\n",
    "# make spliceAI prediction scores into floats\n",
    "for i in ['AG', 'AL', 'DG', 'DL']:\n",
    "    splAI_out[('DS_'+i)]=splAI_out[('DS_'+i)].astype(float)\n",
    "    \n",
    "splAI_out.to_pickle('DataFrame_new_SpliceAI')"
   ]
  }
 ],
 "metadata": {
  "kernelspec": {
   "display_name": "Python 3",
   "language": "python",
   "name": "python3"
  },
  "language_info": {
   "codemirror_mode": {
    "name": "ipython",
    "version": 3
   },
   "file_extension": ".py",
   "mimetype": "text/x-python",
   "name": "python",
   "nbconvert_exporter": "python",
   "pygments_lexer": "ipython3",
   "version": "3.9.1"
  }
 },
 "nbformat": 4,
 "nbformat_minor": 5
}
