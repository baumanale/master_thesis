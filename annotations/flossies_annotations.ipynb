{
 "cells": [
  {
   "cell_type": "code",
   "execution_count": null,
   "id": "6e62b764",
   "metadata": {},
   "outputs": [],
   "source": [
    "import pandas as pd\n",
    "import pysam as ps\n",
    "import numpy as np\n",
    "import os"
   ]
  },
  {
   "cell_type": "code",
   "execution_count": null,
   "id": "67a8bed9",
   "metadata": {},
   "outputs": [],
   "source": [
    "# hg19 (GRCh37) reference sequence fasta\n",
    "ref_fasta = ps.FastaFile('reference_GRCh37.fa')\n",
    "\n",
    "# directory to FLOSSIES database downloads per gene\n",
    "# dictionary for genes and dataframes\n",
    "dfs = dict([(file.strip('.csv').split('_')[1].upper(), pd.read_csv('flossies_directory/'+file)) \n",
    "            for file in os.listdir('flossies_directory')])"
   ]
  },
  {
   "cell_type": "code",
   "execution_count": null,
   "id": "9be544e2",
   "metadata": {},
   "outputs": [],
   "source": [
    "# especially indels not VCF-conform #CHROM, POS, REF, ALT -> with hg19 reference sequence VCF-conform format\n",
    "def FlossiesDataCleaning(df):\n",
    "    dfn = df.copy()\n",
    "    dfn.rename(columns = {'Annotation':'Consequence_Flossies', 'Splice Change':'Splice_Change_Flossies', \n",
    "                         'European (n=7325)':'European_(n=7325)_Flossies',\n",
    "                         'African (n=2559)':'African_(n=2559)_Flossies', \n",
    "                         'Overall Frequency':'Overall_Frequency_Flossies', \n",
    "                         'Chrom':'CHROM', 'Position':'POS', \n",
    "                         'Reference':'REF', 'Alternate':'ALT'}, inplace = True)\n",
    "    # for deletion\n",
    "    # position = position - 1\n",
    "    dfn['POS'].loc[dfn['ALT'].isna()] = dfn['POS'].astype(int) - 1\n",
    "    df_del = dfn.loc[dfn['ALT'].isna()].copy()\n",
    "\n",
    "    new_ref_del_l = []\n",
    "    new_alt_del_l = []\n",
    "    for d in range(len(df_del)):\n",
    "        # position of nucleotide of first element of dataframe in which 'Alternate' not filled out\n",
    "        pos_flossies = df_del.iloc[d]['POS']\n",
    "        # reference nucleotide at specific position\n",
    "        ref_refseq = ref_fasta.fetch(reference=str(df_del.iloc[d]['CHROM']), start=pos_flossies-1, end=pos_flossies)\n",
    "        # for alternative nucleotide reference nucleotide\n",
    "        new_alt_del_l.append(ref_refseq)\n",
    "        # reference nucleotide of first element of dataframe in which 'Alternate' not filled out\n",
    "        ref_flossies = df_del.iloc[d]['REF']\n",
    "        # new reference nucleotides for vcf annotation\n",
    "        new_ref_del = ref_refseq + ref_flossies\n",
    "        new_ref_del_l.append(new_ref_del)\n",
    "    # add new columns\n",
    "    df_del['REF_n'] = new_ref_del_l\n",
    "    df_del['ALT_n'] = new_alt_del_l\n",
    "    df_del.drop(columns = ['REF', 'ALT'], inplace = True)\n",
    "    df_del.rename(columns = {'REF_n':'REF', 'ALT_n':'ALT'}, inplace = True)\n",
    "    \n",
    "    # for insertion\n",
    "    # position = position, because something was inserted at this position\n",
    "    df_ins = dfn.loc[dfn['REF'].isna()].copy()\n",
    "\n",
    "    new_alt_ins_l = []\n",
    "    new_ref_ins_l = []\n",
    "    for i in range(len(df_ins)):\n",
    "        # position of nucleotide of first element of dataframe in which 'Reference' missing\n",
    "        pos_flossies = df_ins.iloc[i]['POS']\n",
    "        # reference nucleotide at specific position\n",
    "        ref_refseq = ref_fasta.fetch(reference=str(df_ins.iloc[i]['CHROM']), start=pos_flossies-1, end=pos_flossies)\n",
    "        # for reference nucleotide reference nucleotide\n",
    "        new_ref_ins_l.append(ref_refseq)\n",
    "        # reference nucleotide of first element of dataframe in which 'Reference' missing\n",
    "        alt_flossies = df_ins.iloc[i]['ALT']\n",
    "        # new alternate nucleotides for vcf annotation\n",
    "        new_alt_ins = ref_refseq + alt_flossies\n",
    "        new_alt_ins_l.append(new_alt_ins)\n",
    "    # add new columns\n",
    "    df_ins['ALT_n'] = new_alt_ins_l\n",
    "    df_ins['REF_n'] = new_ref_ins_l\n",
    "    df_ins.drop(columns = ['REF', 'ALT'], inplace = True)\n",
    "    df_ins.rename(columns = {'REF_n':'REF', 'ALT_n':'ALT'}, inplace = True)\n",
    "    \n",
    "    df_snv = dfn.loc[dfn['ALT'].notna()].loc[dfn['REF'].notna()].copy()\n",
    "\n",
    "    dfn_new = df_snv.append([df_del, df_ins])\n",
    "    dfn_new = dfn_new.sort_index()\n",
    "    return dfn_new"
   ]
  },
  {
   "cell_type": "code",
   "execution_count": null,
   "id": "c3bdb3e6",
   "metadata": {},
   "outputs": [],
   "source": [
    "# Flossies Data Cleaning -> create new dictionary with all dataframes for each genes\n",
    "floss_dict = {gene:FlossiesDataCleaning(dfs[gene]) for gene in dfs.keys()}\n",
    "# append all dataframes\n",
    "floss_df = pd.DataFrame()\n",
    "for g in floss_dict.keys():\n",
    "    floss_df = floss_df.append(floss_dict[g], ignore_index=True)\n",
    "#sum([len(i) for i in floss_dict.values()]), len(floss_df)"
   ]
  },
  {
   "cell_type": "code",
   "execution_count": null,
   "id": "a3754a80",
   "metadata": {},
   "outputs": [],
   "source": [
    "# save FLOSSIES annotations in DataFrame\n",
    "floss_df.to_pickle('DataFrame_flossies')"
   ]
  }
 ],
 "metadata": {
  "kernelspec": {
   "display_name": "Python 3",
   "language": "python",
   "name": "python3"
  },
  "language_info": {
   "codemirror_mode": {
    "name": "ipython",
    "version": 3
   },
   "file_extension": ".py",
   "mimetype": "text/x-python",
   "name": "python",
   "nbconvert_exporter": "python",
   "pygments_lexer": "ipython3",
   "version": "3.9.1"
  }
 },
 "nbformat": 4,
 "nbformat_minor": 5
}
