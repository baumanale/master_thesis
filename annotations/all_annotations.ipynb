{
 "cells": [
  {
   "cell_type": "code",
   "execution_count": 1,
   "id": "b119e12d",
   "metadata": {},
   "outputs": [],
   "source": [
    "import pandas as pd\n",
    "import pysam as ps\n",
    "import matplotlib.pyplot as plt\n",
    "import numpy as np"
   ]
  },
  {
   "cell_type": "code",
   "execution_count": null,
   "id": "14728757",
   "metadata": {},
   "outputs": [],
   "source": [
    "naga_vars = pd.read_pickle('../03_andreas_HBOC_vars/00_SplicingNonCodingVariants/naga_vars_RNA')\n",
    "naga_vars = naga_vars.sort_values(by=['#CHROM', 'POS'], ignore_index=True)"
   ]
  },
  {
   "cell_type": "markdown",
   "id": "b56a8c3c",
   "metadata": {},
   "source": [
    "### VEP TXT"
   ]
  },
  {
   "cell_type": "code",
   "execution_count": null,
   "id": "50fb0462",
   "metadata": {},
   "outputs": [],
   "source": [
    "# data from vep\n",
    "vep = pd.read_table('02_vep/vep_naga_vars.txt')"
   ]
  },
  {
   "cell_type": "code",
   "execution_count": null,
   "id": "1c11d8bc",
   "metadata": {},
   "outputs": [],
   "source": [
    "# some variants not with HGSg in VEP --> in VCF format for VEP\n",
    "not_in_vep = naga_vars[~naga_vars['HGVSg'].isin(list(vep['#Uploaded_variation']))].copy()\n",
    "not_in_vep.drop_duplicates(subset=['#CHROM', 'POS', 'REF', 'ALT'], inplace=True, ignore_index=True)\n",
    "not_in_vep['ID'] = not_in_vep['HGVSg']\n",
    "not_in_vep[['#CHROM', 'POS', 'ID', 'REF', 'ALT']].to_csv('02_vep/vep_ins.txt', sep='\\t', header=False, index=False)"
   ]
  },
  {
   "cell_type": "code",
   "execution_count": null,
   "id": "1ed61904",
   "metadata": {},
   "outputs": [],
   "source": [
    "vep_ins = pd.read_table('02_vep/vep_ins_naga_vars.txt')"
   ]
  },
  {
   "cell_type": "code",
   "execution_count": null,
   "id": "74506b73",
   "metadata": {},
   "outputs": [],
   "source": [
    "vep = vep.append(vep_ins, ignore_index=True)\n",
    "vep[['transcr']] = vep['Feature'].str.split('.', expand=True)[0]\n",
    "vep_ref = vep[vep['transcr'].isin(naga_vars['RefSeq accession'])].copy()\n",
    "vep_ref.drop_duplicates(inplace=True)\n",
    "vep_ref = vep_ref.reset_index(drop=True)\n",
    "vep_ref = vep_ref.replace('-', np.nan)"
   ]
  },
  {
   "cell_type": "code",
   "execution_count": null,
   "id": "63a2c7d6",
   "metadata": {},
   "outputs": [],
   "source": [
    "# one RefSeq not in vep_ref, but in naga_vep (NM_020732) for gene ARID1B\n",
    "# 25 unique variants are missing\n",
    "# --> RefSeq has been replaced by NM_001374820\n",
    "wrong_refseq = set(vep_ref['transcr']) ^ set(naga_vars['RefSeq accession'])\n",
    "wrong_refseq_vars = naga_vars[naga_vars['RefSeq accession']==list(wrong_refseq)[0]]\n",
    "vep_wrong_refseq = vep[(vep['#Uploaded_variation'].isin(list(wrong_refseq_vars['HGVSg'])))&\n",
    "                       (vep['SYMBOL']==wrong_refseq_vars['HUGO_Symbol'].unique()[0])]\n",
    "vep_wrong_refseq = vep_wrong_refseq[vep_wrong_refseq['transcr']=='NM_001374820']\n",
    "# change RefSeq to Naga's RefSeq\n",
    "new_refs = vep_wrong_refseq.copy()\n",
    "new_refs['transcr'] = 'NM_020732'"
   ]
  },
  {
   "cell_type": "code",
   "execution_count": null,
   "id": "7f69b471",
   "metadata": {},
   "outputs": [],
   "source": [
    "vep_ref = vep_ref.append(new_refs, ignore_index=True)\n",
    "vep_ref = vep_ref.rename(columns={'#Uploaded_variation':'HGVSg', 'transcr':'RefSeq accession'})"
   ]
  },
  {
   "cell_type": "code",
   "execution_count": null,
   "id": "a3275fae",
   "metadata": {},
   "outputs": [],
   "source": [
    "# merge VEP annotations to Naga variants with RNA info\n",
    "naga_vep = pd.merge(naga_vars, vep_ref[['IMPACT', 'EXON', 'INTRON', 'cDNA_position', 'CDS_position',\n",
    "                                        'Protein_position', 'Amino_acids', 'Codons', 'DISTANCE', 'STRAND', \n",
    "                                        'SIFT', 'PolyPhen', 'HGVS_OFFSET', 'SpliceAI_pred_DP_AG', \n",
    "                                        'SpliceAI_pred_DP_AL', 'SpliceAI_pred_DP_DG', 'SpliceAI_pred_DP_DL', \n",
    "                                        'SpliceAI_pred_DS_AG', 'SpliceAI_pred_DS_AL', 'SpliceAI_pred_DS_DG', \n",
    "                                        'SpliceAI_pred_DS_DL', 'SpliceAI_pred_SYMBOL', 'CADD_PHRED', 'CADD_RAW', \n",
    "                                        'MaxEntScan_alt', 'MaxEntScan_diff', 'MaxEntScan_ref', 'ada_score', \n",
    "                                        'rf_score', 'HGVSg', 'RefSeq accession']], \n",
    "                    how='left', on=['HGVSg', 'RefSeq accession'])\n",
    "naga_vep = naga_vep.drop_duplicates()"
   ]
  },
  {
   "cell_type": "markdown",
   "id": "6a49a5df",
   "metadata": {},
   "source": [
    "### FLOSSIES"
   ]
  },
  {
   "cell_type": "code",
   "execution_count": null,
   "id": "02cbc1fa",
   "metadata": {},
   "outputs": [],
   "source": [
    "# (previously as pickle)\n",
    "floss = pd.read_pickle('00_dataframes/flossies_df')\n",
    "floss.rename(columns={'CHROM':'#CHROM'}, inplace=True)\n",
    "for df in [floss, naga_vep]:\n",
    "    df['POS'] = df['POS'].astype(int)\n",
    "    df[['#CHROM','REF','ALT']] = df[['#CHROM','REF','ALT']].astype(str)"
   ]
  },
  {
   "cell_type": "code",
   "execution_count": null,
   "id": "157b2cea",
   "metadata": {},
   "outputs": [],
   "source": [
    "naga_vep_floss = pd.merge(naga_vep, floss[['#CHROM', 'POS', 'REF', 'ALT', 'Splice_Change_Flossies', \n",
    "                                           'European_(n=7325)_Flossies', 'African_(n=2559)_Flossies',\n",
    "                                           'Overall_Frequency_Flossies', 'European (n=3646)', \n",
    "                                           'African (n=1283)']], \n",
    "                          how='left', on=['#CHROM','POS','REF','ALT'])\n",
    "naga_vep_floss = naga_vep_floss.replace('-', np.nan)\n",
    "naga_vep_floss = naga_vep_floss.replace('.', np.nan)"
   ]
  },
  {
   "cell_type": "markdown",
   "id": "d4104d8c",
   "metadata": {},
   "source": [
    "### Andreas' HBOC variants"
   ]
  },
  {
   "cell_type": "code",
   "execution_count": 14,
   "id": "9e48a31b",
   "metadata": {},
   "outputs": [],
   "source": [
    "hboc = pd.read_excel('../03_andreas_HBOC_vars/00_SplicingNonCodingVariants/2021-02-17-AR-HBOC-Variants_for_SAV_project.xlsx')\n",
    "hboc['POS'] = hboc['POS'].astype(int)\n",
    "hboc[['#CHROM','REF','ALT']] = hboc[['#CHROM','REF','ALT']].astype(str)"
   ]
  },
  {
   "cell_type": "markdown",
   "id": "80204aac",
   "metadata": {},
   "source": [
    "find duplicates"
   ]
  },
  {
   "cell_type": "code",
   "execution_count": 15,
   "id": "e2b5edf3",
   "metadata": {},
   "outputs": [],
   "source": [
    "hboc2 = hboc.copy()\n",
    "hboc2 = hboc2.reset_index(drop=False)\n",
    "dupl2 = hboc2.groupby(['#CHROM', 'POS', 'REF', 'ALT'])\n",
    "dupl_cpra2 = [i for i,df in dupl2 if len(df)>1]\n",
    "#dupl2.get_group(dupl_cpra2[0])"
   ]
  },
  {
   "cell_type": "code",
   "execution_count": 16,
   "id": "0e6ef80b",
   "metadata": {},
   "outputs": [],
   "source": [
    "for_drop = []\n",
    "for i in dupl_cpra2:\n",
    "    df = dupl2.get_group(i)\n",
    "    if not df[df['ART']=='keine Angabe'].empty and len(df[df['ART']=='keine Angabe'])<2:\n",
    "        for_drop.append(df[df['ART']=='keine Angabe'].iloc[0]['index'])\n",
    "hboc2.drop(index=for_drop, inplace=True)\n",
    "#len(hboc2), len(hboc), len(for_drop)"
   ]
  },
  {
   "cell_type": "code",
   "execution_count": 17,
   "id": "e3726fc7",
   "metadata": {},
   "outputs": [],
   "source": [
    "dupl3 = hboc2.groupby(['#CHROM', 'POS', 'REF', 'ALT'])\n",
    "dupl_cpra3 = [i for i,df in dupl3 if len(df)>1]\n",
    "#len(dupl_cpra3)\n",
    "#dupl3.get_group(dupl_cpra3[37])\n",
    "#set(hboc.loc[30]) ^ set(hboc.loc[634])"
   ]
  },
  {
   "cell_type": "code",
   "execution_count": 18,
   "id": "881424e4",
   "metadata": {},
   "outputs": [],
   "source": [
    "# index 293/294 (gr1) classes 3/2\n",
    "# index 515/516 (gr6) classes 2/3\n",
    "# index 3366/3367 (gr20) classes 2/3\n",
    "for_drop2 = [176, 348, 466, 468, 492, 623, 4001, 1190, 1240, 1248, 1302, 1329, 1372, 1373, 1371, 1444, 1462, \n",
    "             1465, 1537, 3419, 3276, 801, 818, 851, 1045, 1061, 1120, 1125, 1135, 1651, 2778, 2905, 1936, 2044, \n",
    "             30, 3035]\n",
    "hboc2.drop(index=for_drop2, inplace=True)\n",
    "#len(hboc2), len(hboc), len(for_drop2)"
   ]
  },
  {
   "cell_type": "code",
   "execution_count": 19,
   "id": "9615b2a3",
   "metadata": {},
   "outputs": [],
   "source": [
    "hboc2 = hboc2.rename(columns={'ART':'kind_hboc', 'KLASSIFIKATION':'classification_hboc', \n",
    "                              'ERFASSUNG':'aquisition_hboc', 'TASKFORCE_REVIEWED':'taskforce_review_hboc', \n",
    "                              'DATUM_TASKFORCE_REVIEW':'date_taskforce_hboc', \n",
    "                              'BEMERKUNG_TASKFORCE':'note_hboc', 'SONSTIGE_BEMERKUNGEN':'add_note_hboc', \n",
    "                              'SPLICE_PREDICTION_ALAMUT':'splice_pred_alamut_hboc', \n",
    "                              'PREDICTION_UMD_PREDICTOR':'prediction_hboc', 'KOMMENTAR':'comment_hboc', \n",
    "                              'LITERATUR_ERGEBNIS':'literature_hboc', \n",
    "                              'EVIDENZLEVEL_LITERATUR':'evidence_level_lit_hboc', \n",
    "                              'HANDLUNGSEMPFEHLUNG':'recomm_action_hboc', 'ID':'ID_hboc'})\n",
    "hboc2 = hboc2[['#CHROM', 'POS', 'REF','ALT', 'ID_hboc', 'kind_hboc', 'classification_hboc', 'aquisition_hboc', \n",
    "               'taskforce_review_hboc', 'date_taskforce_hboc', 'note_hboc', 'add_note_hboc', \n",
    "               'splice_pred_alamut_hboc', 'prediction_hboc', 'literature_hboc', 'evidence_level_lit_hboc', \n",
    "               'comment_hboc', 'recomm_action_hboc']]"
   ]
  },
  {
   "cell_type": "code",
   "execution_count": 21,
   "id": "bdf59a9a",
   "metadata": {},
   "outputs": [],
   "source": [
    "hboc2.to_pickle('00_dataframes/hboc_vars')"
   ]
  },
  {
   "cell_type": "code",
   "execution_count": null,
   "id": "c44fe5f0",
   "metadata": {},
   "outputs": [],
   "source": [
    "naga_vep_floss_hboc = pd.merge(naga_vep_floss, hboc2, on=['#CHROM','POS','REF','ALT'], how='left')"
   ]
  },
  {
   "cell_type": "markdown",
   "id": "631b9668",
   "metadata": {},
   "source": [
    "### New SpliceAI scores (for variants without SplicaAI score)"
   ]
  },
  {
   "cell_type": "code",
   "execution_count": null,
   "id": "232d40db",
   "metadata": {},
   "outputs": [],
   "source": [
    "splai = pd.read_pickle('00_dataframes/new_splAI_scores')"
   ]
  },
  {
   "cell_type": "code",
   "execution_count": null,
   "id": "14ac7ab5",
   "metadata": {},
   "outputs": [],
   "source": [
    "new_splai = pd.merge(naga_vep_floss_hboc[naga_vep_floss_hboc['SpliceAI_pred_DP_AG'].isnull()].copy(), \n",
    "                     splai[['#CHROM', 'POS', 'REF', 'ALT', 'DS_AG', 'DS_AL', 'DS_DG', 'DS_DL', 'DP_AG', 'DP_AL', \n",
    "                            'DP_DG', 'DP_DL', 'SYMBOL']], on=['#CHROM', 'POS', 'REF', 'ALT'], how='left')\n",
    "new_splai = new_splai.drop(columns=['SpliceAI_pred_DP_AG','SpliceAI_pred_DP_AL','SpliceAI_pred_DP_DG',\n",
    "                                    'SpliceAI_pred_DP_DL','SpliceAI_pred_DS_AG','SpliceAI_pred_DS_AL',\n",
    "                                    'SpliceAI_pred_DS_DG','SpliceAI_pred_DS_DL','SpliceAI_pred_SYMBOL'], )\n",
    "new_splai = new_splai.rename(columns={i:'SpliceAI_pred_'+i for i in ['DS_AG','DS_AL','DS_DG','DS_DL','DP_AG',\n",
    "                                                                     'DP_AL','DP_DG','DP_DL','SYMBOL']})\n",
    "with_splai = naga_vep_floss_hboc[naga_vep_floss_hboc['SpliceAI_pred_DP_AG'].notnull()].copy()"
   ]
  },
  {
   "cell_type": "code",
   "execution_count": null,
   "id": "aee8ddef",
   "metadata": {},
   "outputs": [],
   "source": [
    "naga_vep_floss_hboc_splai = with_splai.append(new_splai)\n",
    "naga_vep_floss_hboc_splai['#CHROM'] = pd.Categorical(naga_vep_floss_hboc_splai['#CHROM'],\n",
    "                                      categories=['1','2','3','4','5','6','7','8','9','10','11','12', '13', '14', \n",
    "                                                  '15', '16', '17', '18', '19', '20', '21', '22', 'X', 'Y'],\n",
    "                                      ordered=True)\n",
    "naga_vep_floss_hboc_splai.sort_values(by=['#CHROM', 'POS', 'REF', 'ALT'], inplace=True, ignore_index=True, \n",
    "                       ascending=True)"
   ]
  },
  {
   "cell_type": "markdown",
   "id": "ac2bf101",
   "metadata": {},
   "source": [
    "### All annotations together"
   ]
  },
  {
   "cell_type": "code",
   "execution_count": null,
   "id": "65b11477",
   "metadata": {
    "scrolled": true
   },
   "outputs": [],
   "source": [
    "len(naga_vars), len(naga_vep), len(naga_vep_floss), len(naga_vep_floss_hboc), len(naga_vep_floss_hboc_splai)"
   ]
  },
  {
   "cell_type": "code",
   "execution_count": null,
   "id": "3da79fb7",
   "metadata": {},
   "outputs": [],
   "source": [
    "naga_vep_floss_hboc_splai.to_pickle('00_dataframes/naga_vep_floss_hboc_splai')"
   ]
  }
 ],
 "metadata": {
  "kernelspec": {
   "display_name": "Python 3",
   "language": "python",
   "name": "python3"
  },
  "language_info": {
   "codemirror_mode": {
    "name": "ipython",
    "version": 3
   },
   "file_extension": ".py",
   "mimetype": "text/x-python",
   "name": "python",
   "nbconvert_exporter": "python",
   "pygments_lexer": "ipython3",
   "version": "3.9.5"
  }
 },
 "nbformat": 4,
 "nbformat_minor": 5
}
