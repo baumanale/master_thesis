{
 "cells": [
  {
   "cell_type": "code",
   "execution_count": 1,
   "id": "9481b88b",
   "metadata": {},
   "outputs": [],
   "source": [
    "import matplotlib.pyplot as plt\n",
    "import matplotlib.patches as pplt\n",
    "import seaborn as sns\n",
    "import pandas as pd\n",
    "import numpy as np\n",
    "import pickle\n",
    "from gtfparse import read_gtf"
   ]
  },
  {
   "cell_type": "code",
   "execution_count": 2,
   "id": "bf7328e8",
   "metadata": {},
   "outputs": [],
   "source": [
    "imp_vars = pd.read_excel('02_output_analysis/vars_facts_together.xlsx')\n",
    "var_seq = pd.read_pickle('00_dataframes/cDNA_protSeq_first_vars')\n",
    "#variants = pd.read_pickle('03_for_cDNA/vars_prot_ips')\n",
    "#ips_dict = pickle.load(open('00_dataframes/ips_dict', 'rb'))\n",
    "#all_vars = pd.read_pickle('00_dataframes/all_annotated_vars')"
   ]
  },
  {
   "cell_type": "code",
   "execution_count": 3,
   "id": "1dfa56a8",
   "metadata": {},
   "outputs": [],
   "source": [
    "imp_vars = pd.merge(imp_vars, var_seq[['shortcut', 'protein_seq', 'termin_prot', 'ref_cDNA', 'ref_protein_seq']], \n",
    "                    left_on='shortcut_v', right_on='shortcut', how='left')"
   ]
  },
  {
   "cell_type": "code",
   "execution_count": 4,
   "id": "7610ac85",
   "metadata": {},
   "outputs": [],
   "source": [
    "def search_col(df, inp):\n",
    "    return [i for i in df.columns if inp.lower() in (i.lower())]"
   ]
  },
  {
   "cell_type": "markdown",
   "id": "a636cda8",
   "metadata": {},
   "source": [
    "### InterProScan dictionary"
   ]
  },
  {
   "cell_type": "code",
   "execution_count": 4,
   "id": "e0e9aa4f",
   "metadata": {},
   "outputs": [],
   "source": [
    "#dom_eff = variants[(variants['domains_effected'].astype(str)!='[]')|(variants['domains_deleted'].astype(str)!='[]')\n",
    "#                  ].copy().reset_index(drop=True)"
   ]
  },
  {
   "cell_type": "code",
   "execution_count": null,
   "id": "a552ccee",
   "metadata": {},
   "outputs": [],
   "source": [
    "# for ips selection: 'where_data_from' --> ProSiteProfiles, MobiDBLite"
   ]
  },
  {
   "cell_type": "markdown",
   "id": "15f930a0",
   "metadata": {},
   "source": [
    "### UniProt domains"
   ]
  },
  {
   "cell_type": "code",
   "execution_count": 5,
   "id": "6603927c",
   "metadata": {},
   "outputs": [],
   "source": [
    "# genes for UniProt ID\n",
    "with open('03_for_cDNA/uniprot_ids.txt', 'w') as o:\n",
    "    for i in sorted(set(imp_vars['HUGO_Symbol'])):\n",
    "        o.write(i+'\\n')"
   ]
  },
  {
   "cell_type": "code",
   "execution_count": 6,
   "id": "8ea375d9",
   "metadata": {},
   "outputs": [
    {
     "name": "stderr",
     "output_type": "stream",
     "text": [
      "/software/miniconda3/envs/Alexandra_DEV/lib/python3.9/site-packages/openpyxl/styles/stylesheet.py:221: UserWarning: Workbook contains no default style, apply openpyxl's default\n",
      "  warn(\"Workbook contains no default style, apply openpyxl's default\")\n"
     ]
    }
   ],
   "source": [
    "# IDs as df\n",
    "exc_uniprot = pd.read_excel('03_for_cDNA/gene_id_uniprot.xlsx')\n",
    "exc_uniprot = exc_uniprot.drop(columns=['Entry name', 'Status', 'Gene names', 'Organism'])\n",
    "exc_uniprot = exc_uniprot.rename(columns={'yourlist:M20211028F248CABF64506F29A91F8037F07B67D1258226A':'HUGO_Symbol'})"
   ]
  },
  {
   "cell_type": "code",
   "execution_count": 7,
   "id": "5bd38a90",
   "metadata": {},
   "outputs": [],
   "source": [
    "# gff format of UniProt outcome with domains\n",
    "gff = pd.read_csv('03_for_cDNA/uniprot_proteins.gff', sep='\\t', comment='#', \n",
    "                  names=['Entry', 'where_from', 'item', 'start_pos', 'end_pos', 'o0', 'o1', 'o2', 'ids', 'o3'], \n",
    "                  usecols=['Entry', 'item', 'start_pos', 'end_pos', 'ids'])\n",
    "gff = gff[gff['item'].isin(['Domain', 'Nucleotide binding', 'Region', 'Active site', 'Binding site', 'Zinc finger',\n",
    "                            'Site', 'Metal binding', 'Motif', 'Compositional bias', 'Signal peptide', 'Propeptide', \n",
    "                            'Topological domain', 'Transmembrane', 'DNA binding', 'Transit peptide', \n",
    "                            'Initiator methionine'])]"
   ]
  },
  {
   "cell_type": "code",
   "execution_count": 8,
   "id": "c132c510",
   "metadata": {},
   "outputs": [],
   "source": [
    "# merged gene name and domains\n",
    "up_df = pd.merge(gff, exc_uniprot, on='Entry', how='right')\n",
    "up_df = up_df.drop_duplicates()\n",
    "up_df = up_df[up_df['start_pos'].notnull()]\n",
    "up_df[['start_pos', 'end_pos', 'Length']] = up_df[['start_pos', 'end_pos', 'Length']].astype(int)\n",
    "up_df['info_domain'] = up_df['ids'].str.split('=', expand=True)[1].str.split(';', expand=True)[0]\n",
    "up_df = up_df[['HUGO_Symbol', 'Entry', 'start_pos', 'end_pos', 'item', 'info_domain', 'Length', 'Protein names', \n",
    "               'ids']]\n",
    "up_df = up_df.sort_values(by=['HUGO_Symbol', 'start_pos', 'end_pos']).reset_index(drop=True)"
   ]
  },
  {
   "cell_type": "code",
   "execution_count": 130,
   "id": "2dda4997",
   "metadata": {},
   "outputs": [],
   "source": [
    "#up_df.to_pickle('00_dataframes/uniprot_domains')"
   ]
  },
  {
   "cell_type": "code",
   "execution_count": 10,
   "id": "3c70968e",
   "metadata": {},
   "outputs": [],
   "source": [
    "#pd.read_pickle('00_dataframes/uniprot_domains').to_excel('02_output_analysis/domains_uniprot.xlsx')"
   ]
  },
  {
   "cell_type": "markdown",
   "id": "981cb0a1",
   "metadata": {},
   "source": [
    "### Protein domain analysis"
   ]
  },
  {
   "cell_type": "code",
   "execution_count": 9,
   "id": "2713751d",
   "metadata": {},
   "outputs": [],
   "source": [
    "up_df = pd.read_pickle('00_dataframes/uniprot_domains')"
   ]
  },
  {
   "cell_type": "markdown",
   "id": "6ca40a40",
   "metadata": {},
   "source": [
    "### NMD line"
   ]
  },
  {
   "cell_type": "code",
   "execution_count": 10,
   "id": "fadede57",
   "metadata": {},
   "outputs": [
    {
     "name": "stderr",
     "output_type": "stream",
     "text": [
      "INFO:root:Extracted GTF attributes: ['gene_id', 'db_xref', 'description', 'gbkey', 'gene', 'gene_biotype', 'pseudo', 'transcript_id', 'product', 'exon_number', 'gene_synonym', 'tag', 'protein_id', 'exception', 'inference', 'note', 'partial', 'The', 'transl_except', 'isoform', 'anticodon', 'non-AUG', 'standard_name', 'source', 'similar', 'transferase', 'codons', '12S', '16S', 'transl_table', 'ATPase']\n"
     ]
    }
   ],
   "source": [
    "# GTF file with sequence information\n",
    "gtf_df = read_gtf('/mnt/g27prist/CMTD/Stephan/bcbio_installation/genomes/Hsapiens/GRCh37/StephanDatabase/GRCH37'+\n",
    "                  '/annotation/GRCh37_latest_genomic_replace.gtf')\n",
    "# only those reference transcripts within variant file\n",
    "gtf_df['transcript_id'] = gtf_df['transcript_id'].str.split('.',expand=True)[0]\n",
    "gtf_df = gtf_df[gtf_df['transcript_id'].isin(set(imp_vars['RefSeq accession']))]\n",
    "gtf_df = gtf_df[gtf_df['feature']=='CDS']\n",
    "gtf_df = gtf_df[gtf_df['seqname']!='NW_003871056.3']\n",
    "gtf_df['exon_number'] = gtf_df['exon_number'].astype(int)"
   ]
  },
  {
   "cell_type": "code",
   "execution_count": 12,
   "id": "6974d0b5",
   "metadata": {},
   "outputs": [],
   "source": [
    "def nmd_pos(gene):\n",
    "    gtf_spec = gtf_df[gtf_df['gene']==gene]\n",
    "    nmd_exon = max(gtf_spec['exon_number'].unique())-1\n",
    "    len_exon = (int(gtf_spec['end'][gtf_spec['exon_number']==nmd_exon])-\n",
    "                int(gtf_spec['start'][gtf_spec['exon_number']==nmd_exon]))\n",
    "    strand = gtf_spec['strand'].unique()[0]\n",
    "    len_cdna = 0\n",
    "\n",
    "    for i in gtf_spec['exon_number'].unique():\n",
    "        if i < nmd_exon:\n",
    "            len_cdna += (int(gtf_spec['end'][gtf_spec['exon_number']==i])-\n",
    "                         int(gtf_spec['start'][gtf_spec['exon_number']==i]))\n",
    "\n",
    "    if len_exon > 50:\n",
    "        if strand=='+':\n",
    "            nmd_pos = int(gtf_spec['end'][gtf_df['exon_number']==nmd_exon])-50\n",
    "            len_cdna += (nmd_pos-int(gtf_spec['start'][gtf_df['exon_number']==nmd_exon]))\n",
    "        else:\n",
    "            nmd_pos = int(gtf_spec['start'][gtf_df['exon_number']==nmd_exon])+50\n",
    "            len_cdna += (int(gtf_spec['end'][gtf_df['exon_number']==nmd_exon])-nmd_pos)\n",
    "\n",
    "    return (len_cdna, round(len_cdna/3))"
   ]
  },
  {
   "cell_type": "code",
   "execution_count": 13,
   "id": "3733d09b",
   "metadata": {},
   "outputs": [],
   "source": [
    "nmd_lst = []\n",
    "for g in imp_vars['HUGO_Symbol'].unique():\n",
    "    c,p = nmd_pos(g)\n",
    "    nmd_lst.append([g,c,p])\n",
    "\n",
    "nmd_df = pd.DataFrame(nmd_lst, columns=['gene', 'NMD_cDNA', 'NMD_protein'])"
   ]
  },
  {
   "cell_type": "code",
   "execution_count": 14,
   "id": "d3678f20",
   "metadata": {},
   "outputs": [],
   "source": [
    "nmd_df.to_pickle('00_dataframes/nmd_df')"
   ]
  },
  {
   "cell_type": "code",
   "execution_count": null,
   "id": "f24c9917",
   "metadata": {},
   "outputs": [],
   "source": []
  },
  {
   "cell_type": "code",
   "execution_count": null,
   "id": "c078978a",
   "metadata": {},
   "outputs": [],
   "source": []
  },
  {
   "cell_type": "code",
   "execution_count": 15,
   "id": "c3ec766f",
   "metadata": {},
   "outputs": [],
   "source": [
    "nmd_df = pd.read_pickle('00_dataframes/nmd_df')"
   ]
  },
  {
   "cell_type": "markdown",
   "id": "4bdaece7",
   "metadata": {},
   "source": [
    "### Visualization Exons"
   ]
  },
  {
   "cell_type": "code",
   "execution_count": 19,
   "id": "1547c086",
   "metadata": {},
   "outputs": [],
   "source": [
    "def prot_domains(ind, df_var, up_df):\n",
    "    if ind in df_var.index:\n",
    "        prot = df_var.iloc[ind]['HUGO_Symbol']\n",
    "        ips_prot = up_df[up_df['HUGO_Symbol']==prot]\n",
    "        shortcut = df_var.iloc[ind]['shortcut_v']\n",
    "        \n",
    "        nmd_pos = int(nmd_df['NMD_protein'][nmd_df['gene']==prot])\n",
    "\n",
    "        prot_change_pos = df_var.iloc[ind]['prot_change_pos']\n",
    "        aa_next_pos = df_var.iloc[ind]['aa_next_pos']\n",
    "        termin_pos = df_var.iloc[ind]['ter_p_len']\n",
    "\n",
    "        max_pos = df_var.iloc[ind]['ref_p_len']\n",
    "\n",
    "        seq_alt = df_var.iloc[ind]['protein_seq']\n",
    "        seq_ref = df_var.iloc[ind]['ref_protein_seq']\n",
    "    \n",
    "        if type(prot_change_pos)==int:\n",
    "            try:\n",
    "                seq_alt = seq_alt[prot_change_pos-10:prot_change_pos+9]\n",
    "                seq_ref = seq_ref[prot_change_pos-10:prot_change_pos+9]\n",
    "            except:\n",
    "                seq_alt = seq_alt[prot_change_pos-10:]\n",
    "                seq_ref = seq_ref[prot_change_pos-10:]\n",
    "            seq_match = ''\n",
    "            for a,r in zip(seq_alt, seq_ref):\n",
    "                if a==r:\n",
    "                    seq_match += '|'\n",
    "                else:\n",
    "                    seq_match += ' '\n",
    "\n",
    "            inds = ips_prot.index\n",
    "            starts = ips_prot['start_pos']\n",
    "            ends = ips_prot['end_pos']\n",
    "            ids = ips_prot['info_domain']\n",
    "            ys = np.arange(0.01,1,1/len(ips_prot))\n",
    "\n",
    "            fig = plt.subplots(figsize=(14, 6))\n",
    "            ax1 = plt.subplot(1,1,1)\n",
    "\n",
    "            plt.ylim([0,1])\n",
    "            plt.xlim([0,max_pos])\n",
    "            ax1.get_yaxis().set_visible(False)\n",
    "            ax1.set_xlabel('amino acid position', fontsize=12)\n",
    "            ax1.xaxis.set_label_coords(0.5, -0.1)\n",
    "\n",
    "            ax1.set_title('Protein domains of %s (%s)' %(prot, shortcut), fontsize = 18, fontweight = 'bold', \n",
    "                          loc = 'center')\n",
    "\n",
    "            for i,s,e,y,t in zip(inds, starts, ends, ys, ids):\n",
    "                ax1.add_patch(pplt.Rectangle((s, y), e-s, 0.01, fc = 'black', ec = 'black', alpha = 1))\n",
    "                plt.text(max_pos+5, y, t, size = 13, ha='left')\n",
    "            if prot_change_pos != 'no_change':\n",
    "                ax1.add_patch(pplt.Rectangle((prot_change_pos, 0), 0.01, 1, fc = 'green', ec = 'green', alpha = 1))\n",
    "                plt.text(x=prot_change_pos, y=-0.10, s='aa substitution', ha='center', c='green')\n",
    "                if aa_next_pos not in ['probably frameshift', 'error']:\n",
    "                    ax1.add_patch(pplt.Rectangle((prot_change_pos, 0), aa_next_pos-prot_change_pos, 1, \n",
    "                                                 fc = 'green', ec = 'green', alpha = 0.5))\n",
    "                elif aa_next_pos == 'probably frameshift':\n",
    "                    ax1.add_patch(pplt.Rectangle((prot_change_pos, 0), termin_pos-prot_change_pos, 1, \n",
    "                                                 fc = 'magenta', ec = 'magenta', alpha = 0.5))\n",
    "            if aa_next_pos not in ['probably frameshift', 'error']:\n",
    "                ax1.add_patch(pplt.Rectangle((termin_pos+(aa_next_pos-prot_change_pos), 0), 0.01, 1, fc = 'red', \n",
    "                                             ec = 'red', alpha = 1))\n",
    "                plt.text(x=termin_pos+(aa_next_pos-prot_change_pos), y=-0.07, s='stop', ha='center', c='red')\n",
    "            elif aa_next_pos == 'probably frameshift':\n",
    "                ax1.add_patch(pplt.Rectangle((termin_pos, 0), 0.01, 1, fc = 'red', ec = 'red', alpha = 1))\n",
    "                plt.text(x=termin_pos, y=-0.07, s='stop', ha='center', c='red')\n",
    "            \n",
    "            ax1.add_patch(pplt.Rectangle((nmd_pos, 0), 0.01, 1, fc = 'blue', ec = 'blue', alpha = 1))\n",
    "            plt.text(x=nmd_pos, y=-0.13, s='NMD', ha='center', c='blue')\n",
    "            plt.text(x=1, y=0.9, s=seq_alt, size = 15, ha='left', family='monospace')\n",
    "            plt.text(x=1, y=0.85, s=seq_match, size = 15, ha='left', family='monospace')\n",
    "            plt.text(x=1, y=0.8, s=seq_ref, size = 15, ha='left', family='monospace')\n",
    "            plt.gcf().subplots_adjust(bottom = 0.12, top = 0.94, left = 0.01, right = 0.6)\n",
    "            plt.savefig('02_output_analysis/00_domain_figs/dom_%s.png'%shortcut)\n",
    "        else:\n",
    "            print('no change in protein sequence')\n",
    "    else:\n",
    "        print('index not in dataframe')"
   ]
  },
  {
   "cell_type": "code",
   "execution_count": 91,
   "id": "d40aab5c",
   "metadata": {},
   "outputs": [
    {
     "data": {
      "text/html": [
       "<div>\n",
       "<style scoped>\n",
       "    .dataframe tbody tr th:only-of-type {\n",
       "        vertical-align: middle;\n",
       "    }\n",
       "\n",
       "    .dataframe tbody tr th {\n",
       "        vertical-align: top;\n",
       "    }\n",
       "\n",
       "    .dataframe thead th {\n",
       "        text-align: right;\n",
       "    }\n",
       "</style>\n",
       "<table border=\"1\" class=\"dataframe\">\n",
       "  <thead>\n",
       "    <tr style=\"text-align: right;\">\n",
       "      <th></th>\n",
       "      <th>#CHROM</th>\n",
       "      <th>POS</th>\n",
       "      <th>REF</th>\n",
       "      <th>ALT</th>\n",
       "      <th>MaxEntScan_alt</th>\n",
       "      <th>MaxEntScan_diff</th>\n",
       "      <th>MaxEntScan_ref</th>\n",
       "      <th>CADD_PHRED</th>\n",
       "      <th>SpliceAI_pred_DP_AG</th>\n",
       "      <th>SpliceAI_pred_DP_AL</th>\n",
       "      <th>...</th>\n",
       "      <th>own_ACMG_class</th>\n",
       "      <th>qci_disease</th>\n",
       "      <th>cancer_types</th>\n",
       "      <th>ID_Person</th>\n",
       "      <th>KGE_HBOC</th>\n",
       "      <th>shortcut_y</th>\n",
       "      <th>protein_seq</th>\n",
       "      <th>termin_prot</th>\n",
       "      <th>ref_cDNA</th>\n",
       "      <th>ref_protein_seq</th>\n",
       "    </tr>\n",
       "  </thead>\n",
       "  <tbody>\n",
       "    <tr>\n",
       "      <th>25</th>\n",
       "      <td>10</td>\n",
       "      <td>104389820</td>\n",
       "      <td>C</td>\n",
       "      <td>A</td>\n",
       "      <td>7.241</td>\n",
       "      <td>3.259</td>\n",
       "      <td>10.5</td>\n",
       "      <td>23.8</td>\n",
       "      <td>19</td>\n",
       "      <td>3</td>\n",
       "      <td>...</td>\n",
       "      <td>pathogenic</td>\n",
       "      <td>Basal cell nevus syndrome</td>\n",
       "      <td>pleural cancer, skin cancer, stomach cancer, c...</td>\n",
       "      <td>NaN</td>\n",
       "      <td>NaN</td>\n",
       "      <td>10_104389820_C_A_0</td>\n",
       "      <td>MAELRPSGAPGPTAPPAPGPTAPPAFASLFPPGLHAIYGECRRLYP...</td>\n",
       "      <td>MAELRPSGAPGPTAPPAPGPTAPPAFASLFPPGLHAIYGECRRLYP...</td>\n",
       "      <td>ATGGCGGAGCTGCGGCCTAGCGGCGCCCCCGGCCCCACCGCGCCCC...</td>\n",
       "      <td>MAELRPSGAPGPTAPPAPGPTAPPAFASLFPPGLHAIYGECRRLYP...</td>\n",
       "    </tr>\n",
       "  </tbody>\n",
       "</table>\n",
       "<p>1 rows × 105 columns</p>\n",
       "</div>"
      ],
      "text/plain": [
       "    #CHROM        POS REF ALT  MaxEntScan_alt  MaxEntScan_diff  \\\n",
       "25      10  104389820   C   A           7.241            3.259   \n",
       "\n",
       "    MaxEntScan_ref  CADD_PHRED  SpliceAI_pred_DP_AG  SpliceAI_pred_DP_AL  ...  \\\n",
       "25            10.5        23.8                   19                    3  ...   \n",
       "\n",
       "    own_ACMG_class                qci_disease  \\\n",
       "25      pathogenic  Basal cell nevus syndrome   \n",
       "\n",
       "                                         cancer_types  ID_Person  KGE_HBOC  \\\n",
       "25  pleural cancer, skin cancer, stomach cancer, c...        NaN       NaN   \n",
       "\n",
       "            shortcut_y                                        protein_seq  \\\n",
       "25  10_104389820_C_A_0  MAELRPSGAPGPTAPPAPGPTAPPAFASLFPPGLHAIYGECRRLYP...   \n",
       "\n",
       "                                          termin_prot  \\\n",
       "25  MAELRPSGAPGPTAPPAPGPTAPPAFASLFPPGLHAIYGECRRLYP...   \n",
       "\n",
       "                                             ref_cDNA  \\\n",
       "25  ATGGCGGAGCTGCGGCCTAGCGGCGCCCCCGGCCCCACCGCGCCCC...   \n",
       "\n",
       "                                      ref_protein_seq  \n",
       "25  MAELRPSGAPGPTAPPAPGPTAPPAFASLFPPGLHAIYGECRRLYP...  \n",
       "\n",
       "[1 rows x 105 columns]"
      ]
     },
     "execution_count": 91,
     "metadata": {},
     "output_type": "execute_result"
    }
   ],
   "source": [
    "imp_vars[imp_vars['HUGO_Symbol']=='SUFU']"
   ]
  },
  {
   "cell_type": "code",
   "execution_count": 92,
   "id": "47634b53",
   "metadata": {
    "scrolled": false
   },
   "outputs": [
    {
     "data": {
      "image/png": "[encoded data removed]",
      "text/plain": [
       "<Figure size 1008x432 with 1 Axes>"
      ]
     },
     "metadata": {
      "needs_background": "light"
     },
     "output_type": "display_data"
    }
   ],
   "source": [
    "prot_domains(25, imp_vars, up_df)"
   ]
  }
 ],
 "metadata": {
  "kernelspec": {
   "display_name": "Python 3",
   "language": "python",
   "name": "python3"
  },
  "language_info": {
   "codemirror_mode": {
    "name": "ipython",
    "version": 3
   },
   "file_extension": ".py",
   "mimetype": "text/x-python",
   "name": "python",
   "nbconvert_exporter": "python",
   "pygments_lexer": "ipython3",
   "version": "3.9.5"
  }
 },
 "nbformat": 4,
 "nbformat_minor": 5
}
