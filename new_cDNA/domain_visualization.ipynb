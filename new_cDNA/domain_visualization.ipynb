{
 "cells": [
  {
   "cell_type": "code",
   "execution_count": null,
   "id": "9481b88b",
   "metadata": {},
   "outputs": [],
   "source": [
    "import matplotlib.pyplot as plt\n",
    "import matplotlib.patches as pplt\n",
    "import seaborn as sns\n",
    "import pandas as pd\n",
    "import numpy as np\n",
    "import pickle\n",
    "from gtfparse import read_gtf"
   ]
  },
  {
   "cell_type": "code",
   "execution_count": null,
   "id": "bf7328e8",
   "metadata": {},
   "outputs": [],
   "source": [
    "# variants for visualization\n",
    "variants = pd.read_excel('02_output_analysis/vars_facts_together.xlsx')\n",
    "# cDNA and protein sequences\n",
    "var_seq = pd.read_pickle('00_dataframes/cDNA_protSeq_first_vars')\n",
    "\n",
    "variants = pd.merge(variants, var_seq[['shortcut', 'protein_seq', 'termin_prot', 'ref_cDNA', 'ref_protein_seq']], \n",
    "                    left_on='shortcut_v', right_on='shortcut', how='left')"
   ]
  },
  {
   "cell_type": "markdown",
   "id": "15f930a0",
   "metadata": {},
   "source": [
    "#### UniProt domains"
   ]
  },
  {
   "cell_type": "code",
   "execution_count": null,
   "id": "6603927c",
   "metadata": {},
   "outputs": [],
   "source": [
    "# genes for UniProt ID\n",
    "with open('03_for_cDNA/uniprot_ids.txt', 'w') as o:\n",
    "    for i in sorted(set(variants['HUGO_Symbol'])):\n",
    "        o.write(i+'\\n')"
   ]
  },
  {
   "cell_type": "code",
   "execution_count": null,
   "id": "8ea375d9",
   "metadata": {},
   "outputs": [],
   "source": [
    "# Gene IDs for uniprot as DataFrame\n",
    "exc_uniprot = pd.read_excel('03_for_cDNA/gene_id_uniprot.xlsx')\n",
    "exc_uniprot = exc_uniprot.drop(columns=['Entry name', 'Status', 'Gene names', 'Organism'])\n",
    "exc_uniprot = exc_uniprot.rename(columns={'yourlist:M20211028F248CABF64506F29A91F8037F07B67D1258226A':'HUGO_Symbol'})"
   ]
  },
  {
   "cell_type": "code",
   "execution_count": null,
   "id": "5bd38a90",
   "metadata": {},
   "outputs": [],
   "source": [
    "# gff format of UniProt outcome with domains\n",
    "gff = pd.read_csv('03_for_cDNA/uniprot_proteins.gff', sep='\\t', comment='#', \n",
    "                  names=['Entry', 'where_from', 'item', 'start_pos', 'end_pos', 'o0', 'o1', 'o2', 'ids', 'o3'], \n",
    "                  usecols=['Entry', 'item', 'start_pos', 'end_pos', 'ids'])\n",
    "gff = gff[gff['item'].isin(['Domain', 'Nucleotide binding', 'Region', 'Active site', 'Binding site', 'Zinc finger',\n",
    "                            'Site', 'Metal binding', 'Motif', 'Compositional bias', 'Signal peptide', 'Propeptide', \n",
    "                            'Topological domain', 'Transmembrane', 'DNA binding', 'Transit peptide', \n",
    "                            'Initiator methionine'])]"
   ]
  },
  {
   "cell_type": "code",
   "execution_count": null,
   "id": "c132c510",
   "metadata": {},
   "outputs": [],
   "source": [
    "# merged gene name and domains of UniProt\n",
    "uni_prot = pd.merge(gff, exc_uniprot, on='Entry', how='right')\n",
    "uni_prot = uni_prot.drop_duplicates()\n",
    "uni_prot = uni_prot[uni_prot['start_pos'].notnull()]\n",
    "uni_prot[['start_pos', 'end_pos', 'Length']] = uni_prot[['start_pos', 'end_pos', 'Length']].astype(int)\n",
    "uni_prot['info_domain'] = uni_prot['ids'].str.split('=', expand=True)[1].str.split(';', expand=True)[0]\n",
    "uni_prot = uni_prot[['HUGO_Symbol', 'Entry', 'start_pos', 'end_pos', 'item', 'info_domain', 'Length', \n",
    "                     'Protein names', 'ids']]\n",
    "uni_prot = uni_prot.sort_values(by=['HUGO_Symbol', 'start_pos', 'end_pos']).reset_index(drop=True)"
   ]
  },
  {
   "cell_type": "markdown",
   "id": "6ca40a40",
   "metadata": {},
   "source": [
    "#### Nonsense-mediated decay line"
   ]
  },
  {
   "cell_type": "code",
   "execution_count": null,
   "id": "fadede57",
   "metadata": {},
   "outputs": [],
   "source": [
    "# GTF file with sequence information\n",
    "gtf_df = read_gtf('GRCh37_sequence_information.gtf')\n",
    "# only those reference transcripts within variant file\n",
    "gtf_df['transcript_id'] = gtf_df['transcript_id'].str.split('.',expand=True)[0]\n",
    "gtf_df = gtf_df[gtf_df['transcript_id'].isin(set(variants['RefSeq accession']))]\n",
    "gtf_df = gtf_df[gtf_df['feature']=='CDS']\n",
    "gtf_df = gtf_df[gtf_df['seqname']!='NW_003871056.3']\n",
    "gtf_df['exon_number'] = gtf_df['exon_number'].astype(int)"
   ]
  },
  {
   "cell_type": "code",
   "execution_count": null,
   "id": "6974d0b5",
   "metadata": {},
   "outputs": [],
   "source": [
    "# nonsense mediated decay after 50 bp before last exon-intron boundary\n",
    "def nmd_pos(gene):\n",
    "    gtf_spec = gtf_df[gtf_df['gene']==gene]\n",
    "    nmd_exon = max(gtf_spec['exon_number'].unique())-1\n",
    "    len_exon = (int(gtf_spec['end'][gtf_spec['exon_number']==nmd_exon])-\n",
    "                int(gtf_spec['start'][gtf_spec['exon_number']==nmd_exon]))\n",
    "    strand = gtf_spec['strand'].unique()[0]\n",
    "    len_cdna = 0\n",
    "\n",
    "    for i in gtf_spec['exon_number'].unique():\n",
    "        if i < nmd_exon:\n",
    "            len_cdna += (int(gtf_spec['end'][gtf_spec['exon_number']==i])-\n",
    "                         int(gtf_spec['start'][gtf_spec['exon_number']==i]))\n",
    "\n",
    "    if len_exon > 50:\n",
    "        if strand=='+':\n",
    "            nmd_pos = int(gtf_spec['end'][gtf_df['exon_number']==nmd_exon])-50\n",
    "            len_cdna += (nmd_pos-int(gtf_spec['start'][gtf_df['exon_number']==nmd_exon]))\n",
    "        else:\n",
    "            nmd_pos = int(gtf_spec['start'][gtf_df['exon_number']==nmd_exon])+50\n",
    "            len_cdna += (int(gtf_spec['end'][gtf_df['exon_number']==nmd_exon])-nmd_pos)\n",
    "\n",
    "    return (len_cdna, round(len_cdna/3))"
   ]
  },
  {
   "cell_type": "code",
   "execution_count": null,
   "id": "3733d09b",
   "metadata": {},
   "outputs": [],
   "source": [
    "nmd_lst = []\n",
    "for g in variants['HUGO_Symbol'].unique():\n",
    "    c,p = nmd_pos(g)\n",
    "    nmd_lst.append([g,c,p])\n",
    "\n",
    "nmd_df = pd.DataFrame(nmd_lst, columns=['gene', 'NMD_cDNA', 'NMD_protein'])\n",
    "\n",
    "nmd_df.to_pickle('DataFrame_nonsense_mediated_decay')"
   ]
  },
  {
   "cell_type": "markdown",
   "id": "4bdaece7",
   "metadata": {},
   "source": [
    "#### Visualization of protein domains"
   ]
  },
  {
   "cell_type": "code",
   "execution_count": null,
   "id": "1547c086",
   "metadata": {},
   "outputs": [],
   "source": [
    "# ind = index, variants = DataFrame of variants to analyze, uni_prot = DataFrame of protein domain information\n",
    "def prot_domains(ind, variants, uni_prot):\n",
    "    if ind in variants.index:\n",
    "        prot = variants.iloc[ind]['HUGO_Symbol']\n",
    "        ips_prot = uni_prot[uni_prot['HUGO_Symbol']==prot]\n",
    "        shortcut = variants.iloc[ind]['shortcut_v']\n",
    "        \n",
    "        nmd_pos = int(nmd_df['NMD_protein'][nmd_df['gene']==prot])\n",
    "\n",
    "        prot_change_pos = variants.iloc[ind]['prot_change_pos']\n",
    "        aa_next_pos = variants.iloc[ind]['aa_next_pos']\n",
    "        termin_pos = variants.iloc[ind]['ter_p_len']\n",
    "\n",
    "        max_pos = variants.iloc[ind]['ref_p_len']\n",
    "\n",
    "        seq_alt = variants.iloc[ind]['protein_seq']\n",
    "        seq_ref = variants.iloc[ind]['ref_protein_seq']\n",
    "    \n",
    "        if type(prot_change_pos)==int:\n",
    "            try:\n",
    "                seq_alt = seq_alt[prot_change_pos-10:prot_change_pos+9]\n",
    "                seq_ref = seq_ref[prot_change_pos-10:prot_change_pos+9]\n",
    "            except:\n",
    "                seq_alt = seq_alt[prot_change_pos-10:]\n",
    "                seq_ref = seq_ref[prot_change_pos-10:]\n",
    "            seq_match = ''\n",
    "            for a,r in zip(seq_alt, seq_ref):\n",
    "                if a==r:\n",
    "                    seq_match += '|'\n",
    "                else:\n",
    "                    seq_match += ' '\n",
    "\n",
    "            inds = ips_prot.index\n",
    "            starts = ips_prot['start_pos']\n",
    "            ends = ips_prot['end_pos']\n",
    "            ids = ips_prot['info_domain']\n",
    "            ys = np.arange(0.01,1,1/len(ips_prot))\n",
    "\n",
    "            fig = plt.subplots(figsize=(14, 6))\n",
    "            ax1 = plt.subplot(1,1,1)\n",
    "\n",
    "            plt.ylim([0,1])\n",
    "            plt.xlim([0,max_pos])\n",
    "            ax1.get_yaxis().set_visible(False)\n",
    "            ax1.set_xlabel('amino acid position', fontsize=12)\n",
    "            ax1.xaxis.set_label_coords(0.5, -0.1)\n",
    "\n",
    "            ax1.set_title('Protein domains of %s (%s)' %(prot, shortcut), fontsize = 18, fontweight = 'bold', \n",
    "                          loc = 'center')\n",
    "\n",
    "            for i,s,e,y,t in zip(inds, starts, ends, ys, ids):\n",
    "                ax1.add_patch(pplt.Rectangle((s, y), e-s, 0.01, fc = 'black', ec = 'black', alpha = 1))\n",
    "                plt.text(max_pos+5, y, t, size = 13, ha='left')\n",
    "            if prot_change_pos != 'no_change':\n",
    "                ax1.add_patch(pplt.Rectangle((prot_change_pos, 0), 0.01, 1, fc = 'green', ec = 'green', alpha = 1))\n",
    "                plt.text(x=prot_change_pos, y=-0.10, s='aa substitution', ha='center', c='green')\n",
    "                if aa_next_pos not in ['probably frameshift', 'error']:\n",
    "                    ax1.add_patch(pplt.Rectangle((prot_change_pos, 0), aa_next_pos-prot_change_pos, 1, \n",
    "                                                 fc = 'green', ec = 'green', alpha = 0.5))\n",
    "                elif aa_next_pos == 'probably frameshift':\n",
    "                    ax1.add_patch(pplt.Rectangle((prot_change_pos, 0), termin_pos-prot_change_pos, 1, \n",
    "                                                 fc = 'magenta', ec = 'magenta', alpha = 0.5))\n",
    "            if aa_next_pos not in ['probably frameshift', 'error']:\n",
    "                ax1.add_patch(pplt.Rectangle((termin_pos+(aa_next_pos-prot_change_pos), 0), 0.01, 1, fc = 'red', \n",
    "                                             ec = 'red', alpha = 1))\n",
    "                plt.text(x=termin_pos+(aa_next_pos-prot_change_pos), y=-0.07, s='stop', ha='center', c='red')\n",
    "            elif aa_next_pos == 'probably frameshift':\n",
    "                ax1.add_patch(pplt.Rectangle((termin_pos, 0), 0.01, 1, fc = 'red', ec = 'red', alpha = 1))\n",
    "                plt.text(x=termin_pos, y=-0.07, s='stop', ha='center', c='red')\n",
    "            \n",
    "            ax1.add_patch(pplt.Rectangle((nmd_pos, 0), 0.01, 1, fc = 'blue', ec = 'blue', alpha = 1))\n",
    "            plt.text(x=nmd_pos, y=-0.13, s='NMD', ha='center', c='blue')\n",
    "            plt.text(x=1, y=0.9, s=seq_alt, size = 15, ha='left', family='monospace')\n",
    "            plt.text(x=1, y=0.85, s=seq_match, size = 15, ha='left', family='monospace')\n",
    "            plt.text(x=1, y=0.8, s=seq_ref, size = 15, ha='left', family='monospace')\n",
    "            plt.gcf().subplots_adjust(bottom = 0.12, top = 0.94, left = 0.01, right = 0.6)\n",
    "            plt.savefig('02_output_analysis/00_domain_figs/dom_%s.png'%shortcut)\n",
    "        else:\n",
    "            print('no change in protein sequence')\n",
    "    else:\n",
    "        print('index not in dataframe')"
   ]
  },
  {
   "cell_type": "code",
   "execution_count": null,
   "id": "47634b53",
   "metadata": {
    "scrolled": false
   },
   "outputs": [],
   "source": [
    "# to start visualization of first variant (0) in variant DataFrame (variants) with UniProt domain DataFrame (uni_prot)\n",
    "prot_domains(0, variants, uni_prot)"
   ]
  }
 ],
 "metadata": {
  "kernelspec": {
   "display_name": "Python 3",
   "language": "python",
   "name": "python3"
  },
  "language_info": {
   "codemirror_mode": {
    "name": "ipython",
    "version": 3
   },
   "file_extension": ".py",
   "mimetype": "text/x-python",
   "name": "python",
   "nbconvert_exporter": "python",
   "pygments_lexer": "ipython3",
   "version": "3.9.1"
  }
 },
 "nbformat": 4,
 "nbformat_minor": 5
}
