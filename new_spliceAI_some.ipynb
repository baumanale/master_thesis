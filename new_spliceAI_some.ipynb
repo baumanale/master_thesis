{
 "cells": [
  {
   "cell_type": "code",
   "execution_count": 1,
   "id": "7bec3c72",
   "metadata": {},
   "outputs": [],
   "source": [
    "import pandas as pd\n",
    "import pysam as ps\n",
    "import numpy as np"
   ]
  },
  {
   "cell_type": "code",
   "execution_count": 2,
   "id": "73342ae8",
   "metadata": {},
   "outputs": [],
   "source": [
    "vars_splai = pd.read_csv('03_prioritized_xlsx/wo_splai_score.txt', sep='\\t', \n",
    "                         names=['#CHROM', 'POS', 'ID', 'REF', 'ALT'])\n",
    "all_vars = pd.read_pickle('00_dataframes/naga_vep_floss_hboc')"
   ]
  },
  {
   "cell_type": "code",
   "execution_count": 30,
   "id": "4d8cf164",
   "metadata": {},
   "outputs": [],
   "source": [
    "# function to make excel tables with one variant per row\n",
    "columns_df_prior = ['#CHROM', 'POS', 'REF', 'ALT', 'MaxEntScan_alt', 'MaxEntScan_diff', 'MaxEntScan_ref', \n",
    "                    'CADD_PHRED', 'DP_AG', 'DP_AL', 'DP_DG', 'DP_DL', 'DS_AG', 'DS_AL', 'DS_DG', 'DS_DL', \n",
    "                    'SYMBOL', 'ada_score', 'rf_score', 'PosExonRefSeqAccession', 'PosExon_type', \n",
    "                    'ClinVar_Pathogenicity', 'ClinVar_Traits', 'PID']\n",
    "columns_df_xlsx = columns_df_prior[:-1]\n",
    "columns_df_xlsx.extend(['PIDs', 'ct_PIDs'])\n",
    "cols_cpra = ['#CHROM', 'POS', 'REF', 'ALT']\n",
    "\n",
    "def xlsx_df(prio_df):\n",
    "    lists = []\n",
    "    for p,df in prio_df.groupby(by=['#CHROM', 'POS', 'REF', 'ALT']):\n",
    "        df = df.reset_index(drop=True)\n",
    "        list_df = [df.iloc[0][i] for i in columns_df_prior[:-1]]\n",
    "        list_df.append(list(df['PID']))\n",
    "        lists.append(list_df)\n",
    "    return pd.DataFrame(lists, columns=columns_df_xlsx)\n",
    "\n",
    "def xlsx_vars(prio_vars_df, name):\n",
    "    #merged = pd.merge(for_igv_splai_xlsx[columns_df_prior], prio_vars_df, how='left')\n",
    "    lists = []\n",
    "    for p,df in prio_vars_df.groupby(by=['#CHROM', 'POS', 'REF', 'ALT']):\n",
    "        df = df.reset_index(drop=True)\n",
    "        list_df = [df.iloc[0][i] for i in columns_df_prior[:-1]]\n",
    "        list_df.extend([list(df['PID']), len(df['PID'])])\n",
    "        lists.append(list_df)\n",
    "    new_df = pd.DataFrame(lists, columns=columns_df_xlsx)\n",
    "    new_df['#CHROM'] = pd.Categorical(new_df['#CHROM'],\n",
    "                                      categories=['1','2','3','4','5','6','7','8','9','10','11','12', '13', '14', \n",
    "                                                  '15', '16', '17', '18', '19', '20', '21', '22', 'X', 'Y'],\n",
    "                                      ordered=True)\n",
    "    new_df.sort_values(by=['ct_PIDs', '#CHROM', 'POS', 'REF', 'ALT'], inplace=True, ignore_index=True, \n",
    "                       ascending=[False, True, True, True, True])\n",
    "    new_df.drop(axis='columns', columns='ct_PIDs', inplace=True)\n",
    "    new_df.to_excel('03_prioritized_xlsx/%s.xlsx'%name, index=False)"
   ]
  },
  {
   "cell_type": "code",
   "execution_count": 4,
   "id": "5b0251cc",
   "metadata": {},
   "outputs": [],
   "source": [
    "vcf_header = ps.VariantHeader()\n",
    "for i in vars_splai['#CHROM'].unique():\n",
    "    vcf_header.add_meta('contig', items = [('ID', i)])\n",
    "vcf_header.add_meta('reference', \n",
    "                    value='/mnt/g27prist/CMTD/Stephan/bcbio_installation/genomes/Hsapiens/GRCh37/seq/GRCh37.fa')\n",
    "\n",
    "vcf_out = ps.VariantFile('03_prioritized_xlsx/for_splai.vcf', 'w', header=vcf_header)\n",
    "\n",
    "for i in vars_splai.index:\n",
    "    rec = vcf_out.new_record()\n",
    "    el = vars_splai.loc[i]\n",
    "    rec.chrom = str(el['#CHROM'])\n",
    "    rec.start = el['POS']-1\n",
    "    rec.stop = el['POS']\n",
    "    rec.ref = el['REF']\n",
    "    rec.alts = el['ALT']\n",
    "    vcf_out.write(rec)\n",
    "vcf_out.close()"
   ]
  },
  {
   "cell_type": "code",
   "execution_count": 5,
   "id": "149580cc",
   "metadata": {},
   "outputs": [],
   "source": [
    "# ALT sequences were comma-separated --> \n",
    "with open('03_prioritized_xlsx/for_splai_new.vcf', 'w') as w:\n",
    "    with open('03_prioritized_xlsx/for_splai_new.txt') as o:\n",
    "        for line in o.readlines():\n",
    "            if line.startswith('#'):\n",
    "                w.write(line)\n",
    "                line = line.replace(',','')\n",
    "                w.write(line)"
   ]
  },
  {
   "cell_type": "code",
   "execution_count": 2,
   "id": "9002aa2c",
   "metadata": {},
   "outputs": [],
   "source": [
    "# ran: OMP_NUM_THREADS=1 spliceai -I for_splai_new.vcf -O 2021-08-16_splai_rest.vcf -R /mnt/g27prist/CMTD/Stephan/bcbio_installation/genomes/Hsapiens/GRCh37/seq/GRCh37.fa -A grch37\n",
    "# duration: ca. 15 minutes\n",
    "splAI_out = pd.read_csv('03_prioritized_xlsx/2021-08-16_splai_rest.vcf', sep='\\t', skiprows=27)\n",
    "# \n",
    "for i,cat in enumerate(['ALLELE','SYMBOL','DS_AG','DS_AL','DS_DG','DS_DL','DP_AG','DP_AL','DP_DG','DP_DL']):\n",
    "    splAI_out[cat] = splAI_out.INFO.str.split('|', expand=True)[i]\n",
    "splAI_out = splAI_out.drop(columns='INFO')\n",
    "splAI_out = splAI_out.replace({'.':np.nan, 'None':np.nan})\n",
    "\n",
    "# make spliceAI prediction scores into floats\n",
    "for i in ['AG', 'AL', 'DG', 'DL']:\n",
    "    splAI_out[('DS_'+i)]=splAI_out[('DS_'+i)].astype(float)"
   ]
  },
  {
   "cell_type": "code",
   "execution_count": 5,
   "id": "5606f5b0",
   "metadata": {},
   "outputs": [],
   "source": [
    "#splAI_out[splAI_out['DS_AG'].notnull()].to_pickle('00_dataframes/new_splAI_scores')"
   ]
  },
  {
   "cell_type": "code",
   "execution_count": 7,
   "id": "26440c38",
   "metadata": {},
   "outputs": [
    {
     "data": {
      "text/plain": [
       "(260, 68, 10)"
      ]
     },
     "execution_count": 7,
     "metadata": {},
     "output_type": "execute_result"
    }
   ],
   "source": [
    "len(splAI_out), len(splAI_out[splAI_out['DS_AG'].isnull()]), len(splAI_out[(splAI_out['DS_AG']>0.9)|\n",
    "                                                                           (splAI_out['DS_AL']>0.9)|\n",
    "                                                                           (splAI_out['DS_DG']>0.9)|\n",
    "                                                                           (splAI_out['DS_DL']>0.9)])"
   ]
  },
  {
   "cell_type": "code",
   "execution_count": 8,
   "id": "7c1bdd43",
   "metadata": {},
   "outputs": [],
   "source": [
    "splai_high = (splAI_out[((splAI_out['DS_AG']>=0.2)|\n",
    "                         (splAI_out['DS_AL']>=0.2)|\n",
    "                         (splAI_out['DS_DG']>=0.2)|\n",
    "                         (splAI_out['DS_DL']>=0.2))])"
   ]
  },
  {
   "cell_type": "code",
   "execution_count": 9,
   "id": "d184efa1",
   "metadata": {},
   "outputs": [],
   "source": [
    "#for i in np.arange(0,1,0.1):\n",
    "#    print(i, len(splAI_out[(splAI_out['DS_AG']>i)|\n",
    "#                           (splAI_out['DS_AL']>i)|\n",
    "#                           (splAI_out['DS_DG']>i)|\n",
    "#                           (splAI_out['DS_DL']>i)]))"
   ]
  },
  {
   "cell_type": "code",
   "execution_count": 10,
   "id": "1f062f0e",
   "metadata": {},
   "outputs": [],
   "source": [
    "for_igv_splai_xlsx = pd.merge(splai_high[['#CHROM', 'POS', 'REF', 'ALT', 'ALLELE', 'SYMBOL', 'DS_AG', 'DS_AL',\n",
    "                                          'DS_DG', 'DS_DL', 'DP_AG', 'DP_AL', 'DP_DG', 'DP_DL']], \n",
    "                              all_vars[['#CHROM', 'POS', 'REF', 'ALT', 'MaxEntScan_alt', \n",
    "                                        'MaxEntScan_diff', 'MaxEntScan_ref', 'CADD_PHRED', 'ada_score', \n",
    "                                        'rf_score', 'PosExonRefSeqAccession', 'PosExon_type', \n",
    "                                        'ClinVar_Pathogenicity', 'ClinVar_Traits', 'PID']], \n",
    "                              on=['#CHROM','POS','REF','ALT'], how='left').drop_duplicates()"
   ]
  },
  {
   "cell_type": "code",
   "execution_count": 11,
   "id": "9245b523",
   "metadata": {},
   "outputs": [],
   "source": [
    "for_igv_splai_xlsx[['consensus_sequence_IGV_region_left', \n",
    "                    'consensus_sequence_IGV_sequence_left', \n",
    "                    'consensus_sequence_IGV_region_right', \n",
    "                    'consensus_sequence_IGV_sequence_right', \n",
    "                    'INFO_IGV', 'too_low_coverage', 'splice_change']] = np.nan\n",
    "for_igv_splai_xlsx['shortcut'] = (for_igv_splai_xlsx['#CHROM']+'_'+for_igv_splai_xlsx['POS'].astype(str)+'_'+\n",
    "                                  for_igv_splai_xlsx['REF']+'_'+for_igv_splai_xlsx['ALT'])"
   ]
  },
  {
   "cell_type": "code",
   "execution_count": 12,
   "id": "d63dd454",
   "metadata": {},
   "outputs": [],
   "source": [
    "splai_grpd = for_igv_splai_xlsx.groupby(['#CHROM', 'POS', 'REF', 'ALT'])\n",
    "lst_splai_grpd = [i for i, df in splai_grpd]"
   ]
  },
  {
   "cell_type": "code",
   "execution_count": 13,
   "id": "bb117e33",
   "metadata": {},
   "outputs": [],
   "source": [
    "igv_for_excel = for_igv_splai_xlsx.drop_duplicates(subset=['#CHROM', 'POS', 'REF', 'ALT'])\n",
    "#xlsx_vars(igv_for_excel, 'new_splai_some')"
   ]
  },
  {
   "cell_type": "markdown",
   "id": "fe94d411",
   "metadata": {},
   "source": [
    "### Variants still without SpliceAI score"
   ]
  },
  {
   "cell_type": "code",
   "execution_count": 18,
   "id": "ad5ce961",
   "metadata": {},
   "outputs": [],
   "source": [
    "igv_wo_splai = splAI_out[splAI_out['DS_DG'].isnull()]"
   ]
  },
  {
   "cell_type": "code",
   "execution_count": 19,
   "id": "4dc0319f",
   "metadata": {},
   "outputs": [],
   "source": [
    "igv_wo_splai_xlsx = pd.merge(igv_wo_splai[['#CHROM', 'POS', 'REF', 'ALT', 'ALLELE', 'SYMBOL', 'DS_AG', 'DS_AL',\n",
    "                                          'DS_DG', 'DS_DL', 'DP_AG', 'DP_AL', 'DP_DG', 'DP_DL']], \n",
    "                              all_vars[['#CHROM', 'POS', 'REF', 'ALT', 'MaxEntScan_alt', \n",
    "                                        'MaxEntScan_diff', 'MaxEntScan_ref', 'CADD_PHRED', 'ada_score', \n",
    "                                        'rf_score', 'PosExonRefSeqAccession', 'PosExon_type', \n",
    "                                        'ClinVar_Pathogenicity', 'ClinVar_Traits', 'PID']], \n",
    "                              on=['#CHROM','POS','REF','ALT'], how='left').drop_duplicates()"
   ]
  },
  {
   "cell_type": "code",
   "execution_count": 31,
   "id": "f3edf5af",
   "metadata": {},
   "outputs": [],
   "source": [
    "xlsx_vars(igv_wo_splai_xlsx, 'no_splai_score')"
   ]
  }
 ],
 "metadata": {
  "kernelspec": {
   "display_name": "Python 3",
   "language": "python",
   "name": "python3"
  },
  "language_info": {
   "codemirror_mode": {
    "name": "ipython",
    "version": 3
   },
   "file_extension": ".py",
   "mimetype": "text/x-python",
   "name": "python",
   "nbconvert_exporter": "python",
   "pygments_lexer": "ipython3",
   "version": "3.9.5"
  }
 },
 "nbformat": 4,
 "nbformat_minor": 5
}
