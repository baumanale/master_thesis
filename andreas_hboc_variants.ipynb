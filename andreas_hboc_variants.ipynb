{
 "cells": [
  {
   "cell_type": "code",
   "execution_count": null,
   "metadata": {},
   "outputs": [],
   "source": [
    "import pandas as pd\n",
    "import pysam as ps\n",
    "import matplotlib.pyplot as plt"
   ]
  },
  {
   "cell_type": "code",
   "execution_count": null,
   "metadata": {},
   "outputs": [],
   "source": [
    "sav_xlsx = pd.read_excel('2021-02-17-AR-HBOC-Variants_for_SAV_project.xlsx')\n",
    "nonred_exin = pd.read_excel('2021-02-17-AR-nonredundant_intron_exon_junctions_in_387_cancer_disposition-genes.xlsx')\n",
    "brca_seq = pd.read_excel('BRCA-SEQ_2021-02-07.xlsx')"
   ]
  },
  {
   "cell_type": "code",
   "execution_count": null,
   "metadata": {},
   "outputs": [],
   "source": [
    "naga_vars = pd.read_pickle(r'../../00_StephanData/01_nagaData/01_DataCleaningAnnotating/dfmerge')"
   ]
  },
  {
   "cell_type": "code",
   "execution_count": null,
   "metadata": {},
   "outputs": [],
   "source": [
    "naga_RNAexpr = pd.read_table(r'../../00_StephanData/01_nagaData/hot_warm_variants.RNA_VAF.tsv')"
   ]
  },
  {
   "cell_type": "code",
   "execution_count": null,
   "metadata": {},
   "outputs": [],
   "source": [
    "# for VEP annotations\n",
    "naga_vars['HGVSg'].drop_duplicates().to_csv('naga_vars_VEP_conf.txt', header=False, index=False)"
   ]
  },
  {
   "cell_type": "code",
   "execution_count": null,
   "metadata": {},
   "outputs": [],
   "source": [
    "# which columns would be duplicated\n",
    "list(set.intersection(set(naga_vars.columns), set(naga_RNAexpr.columns)))"
   ]
  },
  {
   "cell_type": "code",
   "execution_count": null,
   "metadata": {},
   "outputs": [],
   "source": [
    "naga_RNAexpr = naga_RNAexpr.rename(columns={'PID':'PID_trans'})"
   ]
  },
  {
   "cell_type": "code",
   "execution_count": null,
   "metadata": {},
   "outputs": [],
   "source": [
    "# merge RNA expression to naga table\n",
    "\n",
    "naga_RNA_merge = pd.merge(naga_vars, naga_RNAexpr[['#CHROM', 'POS', 'REF', 'ALT', 'PID_trans', 'AF_C', 'AF_T', \n",
    "                                                   'Alt_T', 'Cov_T', 'Alt_C', 'Cov_C', 'AF_RNA', \n",
    "                                                   'AF_RNA_noSkipReads']], \n",
    "                          how='left', on=['#CHROM', 'POS', 'REF', 'ALT', 'PID_trans']).drop_duplicates()\n",
    "naga_RNA_merge.to_pickle('naga_vars_RNA')"
   ]
  },
  {
   "cell_type": "markdown",
   "metadata": {},
   "source": [
    "up to here important"
   ]
  },
  {
   "cell_type": "code",
   "execution_count": null,
   "metadata": {},
   "outputs": [],
   "source": []
  },
  {
   "cell_type": "code",
   "execution_count": null,
   "metadata": {},
   "outputs": [],
   "source": []
  },
  {
   "cell_type": "code",
   "execution_count": null,
   "metadata": {},
   "outputs": [],
   "source": []
  },
  {
   "cell_type": "code",
   "execution_count": null,
   "metadata": {},
   "outputs": [],
   "source": []
  },
  {
   "cell_type": "code",
   "execution_count": null,
   "metadata": {},
   "outputs": [],
   "source": [
    "# FLOSSIES annotations\n",
    "#for g in ['BRCA1', 'BRCA2', 'ATM', 'ATR', 'BAP1', 'BARD1', 'BRIP1', 'CDH1', 'CHEK1', 'CHEK2', 'CTNNA1', 'FAM175A',\n",
    "#          'FANCM', 'GEN1', 'MRE11A', 'NBN', 'PALB2', 'PTEN', 'RAD51B', 'RAD51C', 'RAD51D', 'RECQL', 'RINT1', \n",
    "#          'SLX4', 'STK11', 'TP53', 'XRCC2']:\n",
    "#    print(g) if g in naga_vars['Approved symbol (HGNC)'].unique() else print('No')"
   ]
  },
  {
   "cell_type": "code",
   "execution_count": null,
   "metadata": {},
   "outputs": [],
   "source": [
    "len(sav_xlsx), len(nonred_exin), len(brca_seq), len(naga_vars)"
   ]
  },
  {
   "cell_type": "code",
   "execution_count": null,
   "metadata": {},
   "outputs": [],
   "source": [
    "brca_seq.head()"
   ]
  },
  {
   "cell_type": "code",
   "execution_count": null,
   "metadata": {},
   "outputs": [],
   "source": [
    "brca_seq.columns"
   ]
  },
  {
   "cell_type": "code",
   "execution_count": null,
   "metadata": {},
   "outputs": [],
   "source": [
    "brca_seq['PREDICTION_MUTATIONTASTER'].unique()[:5]"
   ]
  },
  {
   "cell_type": "code",
   "execution_count": null,
   "metadata": {},
   "outputs": [],
   "source": [
    "nonred_exin.head()"
   ]
  },
  {
   "cell_type": "code",
   "execution_count": null,
   "metadata": {},
   "outputs": [],
   "source": [
    "nonred_exin.columns"
   ]
  },
  {
   "cell_type": "code",
   "execution_count": null,
   "metadata": {},
   "outputs": [],
   "source": [
    "sav_xlsx.head()"
   ]
  },
  {
   "cell_type": "code",
   "execution_count": null,
   "metadata": {},
   "outputs": [],
   "source": [
    "sav_xlsx.columns"
   ]
  },
  {
   "cell_type": "markdown",
   "metadata": {},
   "source": [
    "### Short visualization"
   ]
  },
  {
   "cell_type": "code",
   "execution_count": null,
   "metadata": {},
   "outputs": [],
   "source": [
    "classif = pd.DataFrame(sav_xlsx['KLASSIFIKATION'].value_counts())\n",
    "classif['classes'] = classif.index\n",
    "classif.reset_index(drop=True, inplace=True)"
   ]
  },
  {
   "cell_type": "code",
   "execution_count": null,
   "metadata": {},
   "outputs": [],
   "source": [
    "classif['classes'] = pd.Categorical(classif['classes'], categories=['Class 1','Class 2','Class 3 Tendenz 2',\n",
    "                                                                    'Class 3','Class 3 Tendenz 4','Class 4',\n",
    "                                                                    'Class 5','pathogen','Poly/neutral','VUS',\n",
    "                                                                    'keine Angabe'], ordered=True)\n",
    "classif = classif.sort_values('classes', ignore_index=True)\n",
    "classif = classif[['classes', 'KLASSIFIKATION']]"
   ]
  },
  {
   "cell_type": "code",
   "execution_count": null,
   "metadata": {},
   "outputs": [],
   "source": [
    "fig = plt.figure()\n",
    "plt.title('Classification of all variants')\n",
    "plt.bar(classif['classes'], classif['KLASSIFIKATION'])\n",
    "plt.xticks(rotation=45, ha='right');"
   ]
  },
  {
   "cell_type": "code",
   "execution_count": null,
   "metadata": {},
   "outputs": [],
   "source": [
    "chrom_uni = pd.DataFrame(sav_xlsx['#CHROM'].value_counts())\n",
    "chrom_uni['chrom'] = chrom_uni.index\n",
    "chrom_uni.sort_values(by='chrom', inplace=True)\n",
    "chrom_uni.reset_index(drop=True, inplace=True)\n",
    "#.sort()"
   ]
  },
  {
   "cell_type": "code",
   "execution_count": null,
   "metadata": {
    "scrolled": true
   },
   "outputs": [],
   "source": [
    "fig = plt.figure()\n",
    "plt.title('Amount of variants per chromosome')\n",
    "plt.bar(chrom_uni['chrom'], chrom_uni['#CHROM']);"
   ]
  },
  {
   "cell_type": "markdown",
   "metadata": {},
   "source": [
    "### Combination with Naga data"
   ]
  },
  {
   "cell_type": "code",
   "execution_count": null,
   "metadata": {},
   "outputs": [],
   "source": [
    "naga_vars['#CHROM']=naga_vars['#CHROM'].astype(str)\n",
    "naga_vars['POS']=naga_vars['POS'].astype(int)\n",
    "naga_vars['REF']=naga_vars['REF'].astype(str)\n",
    "naga_vars['ALT']=naga_vars['ALT'].astype(str)\n",
    "\n",
    "sav_xlsx['#CHROM']=sav_xlsx['#CHROM'].astype(str)\n",
    "sav_xlsx['POS']=sav_xlsx['POS'].astype(int)\n",
    "sav_xlsx['REF']=sav_xlsx['REF'].astype(str)\n",
    "sav_xlsx['ALT']=sav_xlsx['ALT'].astype(str)\n",
    "\n",
    "\n",
    "merge_naga_hboc = pd.merge(naga_vars, sav_xlsx, how='inner', on=['#CHROM', 'POS', 'REF', 'ALT'])"
   ]
  },
  {
   "cell_type": "code",
   "execution_count": null,
   "metadata": {},
   "outputs": [],
   "source": [
    "len(sav_xlsx), len(naga_vars), len(merge_naga_hboc)"
   ]
  },
  {
   "cell_type": "code",
   "execution_count": null,
   "metadata": {},
   "outputs": [],
   "source": [
    "merge_naga_hboc_nodup_pat = merge_naga_hboc.drop_duplicates(subset=['#CHROM', 'POS', 'REF', 'ALT', 'PID'])\n",
    "merge_naga_hboc_nodup_var = merge_naga_hboc_nodup_pat.drop_duplicates(subset=['#CHROM', 'POS', 'REF', 'ALT'])\n",
    "len(merge_naga_hboc_nodup_pat), len(merge_naga_hboc_nodup_var)"
   ]
  },
  {
   "cell_type": "code",
   "execution_count": null,
   "metadata": {},
   "outputs": [],
   "source": [
    "naga_vars_dup = naga_vars.drop_duplicates(subset=['#CHROM', 'POS', 'REF', 'ALT'])\n",
    "len(naga_vars.drop_duplicates(subset=['#CHROM', 'POS', 'REF', 'ALT']))"
   ]
  },
  {
   "cell_type": "code",
   "execution_count": null,
   "metadata": {},
   "outputs": [],
   "source": [
    "[(t,len(naga_vars_dup[naga_vars_dup['Splice Project Gene Priority']==t])) for t in \n",
    " naga_vars_dup['Splice Project Gene Priority'].unique()]"
   ]
  },
  {
   "cell_type": "code",
   "execution_count": null,
   "metadata": {},
   "outputs": [],
   "source": [
    "[(t,len(naga_vars[naga_vars['Splice Project Gene Priority']==t])) for t in \n",
    " naga_vars['Splice Project Gene Priority'].unique()]"
   ]
  },
  {
   "cell_type": "code",
   "execution_count": null,
   "metadata": {},
   "outputs": [],
   "source": [
    "for_naga = naga_vars[['#CHROM', 'POS', 'REF', 'ALT', \n",
    "                      'PID']][naga_vars['Splice Project Gene Priority']!='Cold (387-ACMG-MASTER)'].copy()\n",
    "for_naga.to_csv('vars_hot_warm_AB.tsv', sep='\\t', index=False)"
   ]
  },
  {
   "cell_type": "code",
   "execution_count": null,
   "metadata": {},
   "outputs": [],
   "source": [
    "for_naga['gHGNV']= for_naga['#CHROM'].astype(str)+':'+for_naga['POS'].astype(str)+' '+for_naga['REF']+'>'+for_naga['ALT']"
   ]
  },
  {
   "cell_type": "code",
   "execution_count": null,
   "metadata": {},
   "outputs": [],
   "source": [
    "len(merge_naga_hboc['PID'].unique())"
   ]
  },
  {
   "cell_type": "code",
   "execution_count": null,
   "metadata": {},
   "outputs": [],
   "source": [
    "for i in merge_naga_hboc.columns:\n",
    "    if 'Splice' in i:\n",
    "        print(i)"
   ]
  },
  {
   "cell_type": "code",
   "execution_count": null,
   "metadata": {},
   "outputs": [],
   "source": [
    "[(t,len(merge_naga_hboc_nodup_var[merge_naga_hboc_nodup_var['Splice Project Gene Priority']==t])) for t in \n",
    " merge_naga_hboc_nodup_var['Splice Project Gene Priority'].unique()]"
   ]
  },
  {
   "cell_type": "code",
   "execution_count": null,
   "metadata": {},
   "outputs": [],
   "source": [
    "# patients per variant\n",
    "pat_var_ct = pd.DataFrame(merge_naga_hboc_nodup_pat['HGVSg'].value_counts())\n",
    "len(pat_var_ct.loc[pat_var_ct['HGVSg']>1])"
   ]
  },
  {
   "cell_type": "code",
   "execution_count": null,
   "metadata": {},
   "outputs": [],
   "source": [
    "naga_pat_var_ct = pd.DataFrame(naga_vars[naga_vars['Splice Project Gene Priority']=='Hot (ACMG / MASTER)'].drop_duplicates(subset=['#CHROM', 'POS', 'REF', 'ALT', 'PID'])['HGVSg'].value_counts())\n",
    "len(naga_pat_var_ct[(naga_pat_var_ct['HGVSg']>5)])"
   ]
  },
  {
   "cell_type": "code",
   "execution_count": null,
   "metadata": {},
   "outputs": [],
   "source": [
    "naga_hot_5 = naga_vars[naga_vars['HGVSg'].isin(naga_pat_var_ct.index[(naga_pat_var_ct['HGVSg']>5)])]# for i in naga_pat_var_ct[(naga_pat_var_ct['HGVSg']>5)]]"
   ]
  },
  {
   "cell_type": "code",
   "execution_count": null,
   "metadata": {},
   "outputs": [],
   "source": [
    "merge_naga_hboc.columns"
   ]
  },
  {
   "cell_type": "code",
   "execution_count": null,
   "metadata": {},
   "outputs": [],
   "source": [
    "merge_naga_hboc[['HGVSg', 'PosExonRefSeqAccession', 'PosExon_type', \n",
    "                 'VEP_Most_Severe_Consequence']][(merge_naga_hboc['PosExonRefSeqAccession']==1)&\n",
    "                                                 (merge_naga_hboc['VEP_Most_Severe_Consequence']!='missense_variant')]"
   ]
  },
  {
   "cell_type": "code",
   "execution_count": null,
   "metadata": {},
   "outputs": [],
   "source": []
  },
  {
   "cell_type": "markdown",
   "metadata": {},
   "source": [
    "## Combination with Naga data cleaning"
   ]
  },
  {
   "cell_type": "markdown",
   "metadata": {},
   "source": [
    "--> not important"
   ]
  },
  {
   "cell_type": "code",
   "execution_count": null,
   "metadata": {},
   "outputs": [],
   "source": [
    "from tqdm import tqdm\n",
    "from gtfparse import read_gtf"
   ]
  },
  {
   "cell_type": "code",
   "execution_count": null,
   "metadata": {},
   "outputs": [],
   "source": [
    "sav_vars = sav_xlsx.copy()\n",
    "sav_vars['refseq'] = sav_vars['ID'].str.split(':', expand=True)[0]\n",
    "sav_vars = sav_vars.drop_duplicates(subset=['#CHROM','POS','ID','REF','ALT'])\n"
   ]
  },
  {
   "cell_type": "code",
   "execution_count": null,
   "metadata": {},
   "outputs": [],
   "source": [
    "gtf_df=read_gtf('/mnt/g27prist/CMTD/Stephan/bcbio_installation/genomes/Hsapiens/GRCh37/StephanDatabase/GRCH37/annotation/GRCh37_latest_genomic_replace.gtf')\n",
    "gtf_df['transcript_id']=gtf_df['transcript_id'].str.split('.',expand=True)[0]\n",
    "gtf_df=gtf_df[gtf_df['transcript_id'].isin(set(sav_vars['refseq']))]"
   ]
  },
  {
   "cell_type": "code",
   "execution_count": null,
   "metadata": {},
   "outputs": [],
   "source": [
    "len(gtf_df['transcript_id'].unique()), len(sav_vars['refseq'].unique())"
   ]
  },
  {
   "cell_type": "code",
   "execution_count": null,
   "metadata": {},
   "outputs": [],
   "source": [
    "def exonPos(trans,pos):\n",
    "    temp=gtf_df[(gtf_df['transcript_id']==trans)&(gtf_df['seqname'].str.len()<=3)&(gtf_df['feature']=='CDS')]\n",
    "    if temp.empty:\n",
    "        print(trans)\n",
    "        return('err','err')\n",
    "    strand=temp['strand'].values[0]\n",
    "\n",
    "    if strand=='+':\n",
    "        StartEx=temp['start'].min()\n",
    "        StopEx=temp['end'].max()\n",
    "    if strand=='-':\n",
    "        StartEx=temp['end'].max()\n",
    "        StopEx=temp['start'].min()\n",
    "    \n",
    "    \n",
    "    if strand == '+':\n",
    "        if pos < StartEx and pos > (StartEx -30):\n",
    "            dist=StartEx-pos\n",
    "            return (dist, '5utr_startcodon')\n",
    "        if pos > StopEx and pos < (StopEx + 30):\n",
    "            dist=pos-StopEx\n",
    "            return (dist, '3utr_stopcodon')\n",
    "        \n",
    "        OutsideAcceptor=temp[((temp['start']-30)<=pos)&((temp['start'])>pos)]\n",
    "        InsideAcceptor=temp[((temp['start']+30)>=pos)&((temp['start'])<=pos)]\n",
    "        \n",
    "        OutsideDonor=temp[((temp['end']+30)>=pos)&((temp['end'])<pos)]\n",
    "        InsideDonor=temp[((temp['end']-30)<=pos)&((temp['end'])>=pos)]\n",
    "        \n",
    "        if not OutsideAcceptor.empty:\n",
    "            dist=OutsideAcceptor['start'].values[0]-pos\n",
    "            return (dist,'outsideAcceptorSite')\n",
    "        if not InsideAcceptor.empty:\n",
    "            dist=pos-InsideAcceptor['start'].values[0]\n",
    "            return (dist,'insideAcceptorSite')\n",
    "            \n",
    "        \n",
    "        if not OutsideDonor.empty:\n",
    "            dist=pos-OutsideDonor['end'].values[0]\n",
    "            return (dist,'outsideDonorSite')\n",
    "            \n",
    "        if not InsideDonor.empty:\n",
    "            dist=InsideDonor['end'].values[0]-pos\n",
    "            return (dist,'insideDonorSite')\n",
    "    \n",
    "    \n",
    "    if strand =='-':\n",
    "        if pos > StartEx and pos < (StartEx + 30):\n",
    "            dist=pos-StartEx\n",
    "            return (dist, '5utr_startcodon')\n",
    "        if pos < StopEx and pos > (StopEx+30):\n",
    "            dist=StopEx-pos\n",
    "            return (dist, '3utr_stopcodon')\n",
    "        \n",
    "        OutsideDonor=temp[((temp['start']-30)<=pos)&((temp['start'])>pos)]\n",
    "        InsideDonor=temp[((temp['start']+30)>=pos)&((temp['start'])<=pos)]\n",
    "        \n",
    "        OutsideAcceptor=temp[((temp['end']+30)>=pos)&((temp['end'])<pos)]\n",
    "        InsideAcceptor=temp[((temp['end']-30)<=pos)&((temp['end'])>=pos)]\n",
    "        \n",
    "        if not OutsideAcceptor.empty:\n",
    "            dist=pos-OutsideAcceptor['end'].values[0]\n",
    "            return (dist,'outsideAcceptorSite')\n",
    "        if not InsideAcceptor.empty:\n",
    "            dist=InsideAcceptor['end'].values[0]-pos\n",
    "            return (dist,'insideAcceptorSite')\n",
    "            \n",
    "        \n",
    "        if not OutsideDonor.empty:\n",
    "            dist=OutsideDonor['start'].values[0]-pos\n",
    "            return (dist,'outsideDonor')\n",
    "            \n",
    "        if not InsideDonor.empty:\n",
    "            dist=pos-InsideDonor['start'].values[0]\n",
    "            return (dist,'insideDonor')\n",
    "    \n",
    "    return ('01','01')"
   ]
  },
  {
   "cell_type": "code",
   "execution_count": null,
   "metadata": {},
   "outputs": [],
   "source": [
    "posRelativeRefSeq = []\n",
    "Utr_cod=[]\n",
    "\n",
    "for pos,trans in tqdm(zip(sav_vars[\"POS\"],sav_vars[\"refseq\"]),total=len(sav_vars)):\n",
    "    ex_pos=exonPos(trans,int(pos))\n",
    "    posRelativeRefSeq.append(ex_pos[0])\n",
    "    Utr_cod.append(ex_pos[1])\n",
    "#df_merge['PosExonRefSeqAccession']=posRelativeRefSeq\n",
    "\n",
    "sav_vars['PosExonRefSeqAccession']=posRelativeRefSeq\n",
    "sav_vars['PosExon_type']=Utr_cod\n",
    "\n",
    "sav_vars=sav_vars[sav_vars['PosExon_type']!='01']"
   ]
  },
  {
   "cell_type": "code",
   "execution_count": null,
   "metadata": {},
   "outputs": [],
   "source": [
    "sav_vars.to_pickle('sav_vars_PosExon')"
   ]
  },
  {
   "cell_type": "markdown",
   "metadata": {},
   "source": [
    "## Visualization"
   ]
  },
  {
   "cell_type": "code",
   "execution_count": null,
   "metadata": {},
   "outputs": [],
   "source": [
    "import pandas as pd\n",
    "import matplotlib.pyplot as plt\n",
    "import matplotlib.patches as patches\n",
    "from matplotlib.backends.backend_pdf import PdfPages\n",
    "import seaborn as sns\n",
    "import numpy as np\n",
    "pd.set_option('display.max_columns', None)\n"
   ]
  },
  {
   "cell_type": "code",
   "execution_count": null,
   "metadata": {},
   "outputs": [],
   "source": [
    "# set style of figures\n",
    "plt.style.use('bmh')\n",
    "SMALL_SIZE = 8\n",
    "MEDIUM_SIZE = 10\n",
    "BIGGER_SIZE = 20\n",
    "plt.rc('font', size=SMALL_SIZE)          # controls default text sizes\n",
    "plt.rc('axes', titlesize=MEDIUM_SIZE)     # fontsize of the axes title\n",
    "plt.rc('axes', labelsize=MEDIUM_SIZE)    # fontsize of the x and y labels\n",
    "plt.rc('xtick', labelsize=SMALL_SIZE)    # fontsize of the tick labels\n",
    "plt.rc('ytick', labelsize=SMALL_SIZE)    # fontsize of the tick labels\n",
    "plt.rc('legend', fontsize=SMALL_SIZE)    # legend fontsize\n",
    "plt.rc('figure', titlesize=BIGGER_SIZE)"
   ]
  },
  {
   "cell_type": "code",
   "execution_count": null,
   "metadata": {},
   "outputs": [],
   "source": [
    "# integrate merged df\n",
    "#sav_vars=pd.read_pickle('sav_vars_PosExon')\n",
    "#sav_vars['max_gnomAD_AF']=sav_vars['max_gnomAD_AF'].replace('.',np.nan).astype('float')\n",
    "sav_vars['Splice Project Gene Priority'] = 'Hot (ACMG / MASTER)'"
   ]
  },
  {
   "cell_type": "code",
   "execution_count": null,
   "metadata": {},
   "outputs": [],
   "source": [
    "# plot exon and region where variants are (outside/inside and acceptor/donor)\n",
    "def plotEx(ax,pos=None,Type=None):\n",
    "    ax.arrow(0, 8, 5, 0, head_width=1, head_length=0.4, fc='b', ec='k',linewidth=2)\n",
    "    ax.plot((0,10),(4,4), linewidth=5,color='black')\n",
    "    #ax.plot((3,6),(4,4), linewidth=10,color='blue')\n",
    "    ax.axis('off')\n",
    "    ax.text(5,4,'EXON', color='white',fontdict={'size':16},ha='center', va='center')\n",
    "    ax.add_patch(patches.Rectangle((3, 2), 4, 4, linewidth=1, edgecolor='b', facecolor='b', alpha=1, zorder=3))\n",
    "    if pos == 'outside' and Type=='donor':\n",
    "        ax.add_patch(patches.Rectangle((7, 1), 1, 6, linewidth=3, edgecolor='black', facecolor='r', alpha=0.2, zorder=3))\n",
    "        ax.add_patch(patches.Rectangle((7, 1), 1, 6, linewidth=1, edgecolor='black', facecolor='none', alpha=1, zorder=3))\n",
    "        \n",
    "    if pos == 'inside' and Type =='donor':\n",
    "        ax.add_patch(patches.Rectangle((6, 1), 1, 6, linewidth=3, edgecolor='black', facecolor='r', alpha=0.2, zorder=3))\n",
    "        ax.add_patch(patches.Rectangle((6, 1), 1, 6, linewidth=1, edgecolor='black', alpha=1,facecolor='none', zorder=3))\n",
    "        \n",
    "    if pos == 'inside' and Type=='acceptor':\n",
    "        ax.add_patch(patches.Rectangle((3, 1), 1, 6, linewidth=3, edgecolor='black', facecolor='r', alpha=0.2, zorder=3))\n",
    "        ax.add_patch(patches.Rectangle((3, 1), 1, 6, linewidth=1, edgecolor='black', facecolor='none', alpha=1, zorder=3))\n",
    "        \n",
    "    if pos == 'outside' and Type =='acceptor':\n",
    "        ax.add_patch(patches.Rectangle((2, 1), 1, 6, linewidth=3, edgecolor='black', facecolor='r', alpha=0.2, zorder=3))\n",
    "        ax.add_patch(patches.Rectangle((2, 1), 1, 6, linewidth=1, edgecolor='black', alpha=1,facecolor='none', zorder=3))    \n",
    "        \n",
    "    ax.set(ylim=(0,10))"
   ]
  },
  {
   "cell_type": "code",
   "execution_count": null,
   "metadata": {},
   "outputs": [],
   "source": [
    "# similar to DistanceDist(), but improved (df as attribute, x = range() not negative)\n",
    "# PosExonRefSeqAccession = distance from exon-intron boundary\n",
    "# count all variants with same distance from exon-intron boundary\n",
    "def PlotAccDon(df,ax,key=None,value=None, col='grey'):\n",
    "    if key==None:\n",
    "        v=dict(df['PosExonRefSeqAccession'].value_counts())\n",
    "        x=list(range(0,26))\n",
    "        y=[v[x] if x in v else 0 for x in x]\n",
    "        \n",
    "        ax.bar(x,y, color=col)\n",
    "        ax.set(title='position of variants - all gene-baskets',\n",
    "               xlabel='position relative to Intron-Exon boundary',ylabel='number of variants')        \n",
    "    else:\n",
    "        df_temp=df[df[key]==value]\n",
    "        v=dict(df_temp['PosExonRefSeqAccession'].value_counts())\n",
    "        x=list(range(0,26))\n",
    "        y=[v[x] if x in v else 0 for x in x]\n",
    "        ax.bar(x,y, color=col)\n",
    "        ax.set(title='position of variants - {}'.format(value),\n",
    "               xlabel='position relative to Intron-Exon boundary', ylabel='number of variants') "
   ]
  },
  {
   "cell_type": "code",
   "execution_count": null,
   "metadata": {},
   "outputs": [],
   "source": [
    "# horizontal bar plot with value counts for different consequences of variants\n",
    "colDict={}\n",
    "for x,y in zip(sns.color_palette(n_colors=len(sav_vars['KONSEQUENZ'].unique())),\n",
    "               list(dict(sav_vars['KONSEQUENZ'].value_counts()))):\n",
    "    colDict[y]=x\n",
    "def StackedPlot(df,ax,key=None,value=None):\n",
    "    left=0\n",
    "    l=[]\n",
    "    df_temp=df[df[key]==value]\n",
    "    \n",
    "    for k,v in df_temp['KONSEQUENZ'].value_counts().items():\n",
    "        p=ax.barh(1,v,4,left=left,label=k,color=colDict[k])\n",
    "        left=left+v\n",
    "    ax.set_yticklabels([''])\n",
    "    for tic in ax.yaxis.get_major_ticks():\n",
    "                tic.tick1line.set_visible(False)\n",
    "    ax.legend(loc='lower left',bbox_to_anchor=(1,0),ncol=1)"
   ]
  },
  {
   "cell_type": "code",
   "execution_count": null,
   "metadata": {},
   "outputs": [],
   "source": [
    "# brca1/2 only hot splice project priority --> \n",
    "# combine previous plots to subplots\n",
    "with PdfPages('allSAVs_Andreas.pdf') as pdf:\n",
    "    #for temperature in ['Hot (ACMG / MASTER)','Warm (MASTER-ACMG)','Cold (387-ACMG-MASTER)']:\n",
    "    df=sav_vars#[df_merge_brca12['Splice Project Gene Priority']=='Hot (ACMG / MASTER)']        \n",
    "    fig,ax=plt.subplots(4,3,figsize=(20,20))\n",
    "    plt.suptitle('Hot (ACMG / MASTER)')\n",
    "        \n",
    "    v=plotEx(ax[0,0],pos='outside', Type='acceptor')\n",
    "    PlotAccDon(df,ax[0,1],key='PosExon_type',value='outsideAcceptorSite')\n",
    "    StackedPlot(df,ax[0,2],key='PosExon_type',value='outsideAcceptorSite')        \n",
    "        \n",
    "    v=plotEx(ax[1,0],pos='inside', Type='acceptor')\n",
    "    PlotAccDon(df,ax[1,1],key='PosExon_type',value='insideAcceptorSite')\n",
    "    StackedPlot(df,ax[1,2],key='PosExon_type',value='insideAcceptorSite')        \n",
    "        \n",
    "    v=plotEx(ax[2,0],pos='outside', Type='donor')\n",
    "    PlotAccDon(df,ax[2,1],key='PosExon_type',value='outsideDonorSite')\n",
    "    StackedPlot(df,ax[2,2],key='PosExon_type',value='outsideDonorSite')        \n",
    "        \n",
    "    v=plotEx(ax[3,0],pos='inside', Type='donor')\n",
    "    PlotAccDon(df,ax[3,1],key='PosExon_type',value='insideDonor')\n",
    "    StackedPlot(df,ax[3,2],key='PosExon_type',value='insideDonor')        \n",
    "    \n",
    "    plt.tight_layout()\n",
    "    plt.subplots_adjust(top=.9)\n",
    "    pdf.savefig()\n",
    "    plt.close()"
   ]
  },
  {
   "cell_type": "code",
   "execution_count": null,
   "metadata": {},
   "outputs": [],
   "source": []
  },
  {
   "cell_type": "code",
   "execution_count": null,
   "metadata": {},
   "outputs": [],
   "source": []
  },
  {
   "cell_type": "code",
   "execution_count": null,
   "metadata": {},
   "outputs": [],
   "source": []
  },
  {
   "cell_type": "code",
   "execution_count": null,
   "metadata": {},
   "outputs": [],
   "source": []
  }
 ],
 "metadata": {
  "kernelspec": {
   "display_name": "Python 3",
   "language": "python",
   "name": "python3"
  },
  "language_info": {
   "codemirror_mode": {
    "name": "ipython",
    "version": 3
   },
   "file_extension": ".py",
   "mimetype": "text/x-python",
   "name": "python",
   "nbconvert_exporter": "python",
   "pygments_lexer": "ipython3",
   "version": "3.9.5"
  }
 },
 "nbformat": 4,
 "nbformat_minor": 2
}
