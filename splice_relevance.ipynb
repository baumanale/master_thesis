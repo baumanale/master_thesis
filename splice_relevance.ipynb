{
 "cells": [
  {
   "cell_type": "markdown",
   "id": "ada78249",
   "metadata": {},
   "source": [
    "To prioritize splice-relevant variants"
   ]
  },
  {
   "cell_type": "code",
   "execution_count": 1,
   "id": "798a5fd1",
   "metadata": {},
   "outputs": [],
   "source": [
    "import pandas as pd\n",
    "import matplotlib.pyplot as plt\n",
    "import numpy as np"
   ]
  },
  {
   "cell_type": "code",
   "execution_count": 7,
   "id": "b70fa9f5",
   "metadata": {},
   "outputs": [],
   "source": [
    "# function to search for specific name in column\n",
    "def search_col(inp):\n",
    "    return [i for i in naga_all.columns if inp in i.lower()]"
   ]
  },
  {
   "cell_type": "code",
   "execution_count": 23,
   "id": "a51594dc",
   "metadata": {},
   "outputs": [],
   "source": [
    "# function to make spliceAI prediction scores into floats\n",
    "def make_float(df):\n",
    "    for i in ['AG', 'AL', 'DG', 'DL']:\n",
    "        df[('SpliceAI_pred_DS_'+i)]=df[('SpliceAI_pred_DS_'+i)].astype(float)\n",
    "    for i in ['ada_score', 'rf_score', 'MaxEntScan_diff', 'MaxEntScan_alt', 'MaxEntScan_ref']:\n",
    "        df[i] = df[i].astype(float)\n",
    "    return df"
   ]
  },
  {
   "cell_type": "code",
   "execution_count": 24,
   "id": "a73b7c80",
   "metadata": {},
   "outputs": [],
   "source": [
    "# function to make excel tables with one variant per row\n",
    "columns_df_prior = ['#CHROM', 'POS', 'REF', 'ALT', 'MaxEntScan_alt', 'MaxEntScan_diff', 'MaxEntScan_ref', \n",
    "                    'CADD_PHRED', 'SpliceAI_pred_DP_AG', 'SpliceAI_pred_DP_AL', 'SpliceAI_pred_DP_DG', \n",
    "                    'SpliceAI_pred_DP_DL', 'SpliceAI_pred_DS_AG', 'SpliceAI_pred_DS_AL', 'SpliceAI_pred_DS_DG', \n",
    "                    'SpliceAI_pred_DS_DL', 'SpliceAI_pred_SYMBOL', 'ada_score', 'rf_score',\n",
    "                    'PosExonRefSeqAccession', 'PosExon_type', 'ClinVar_Pathogenicity', 'ClinVar_Traits', 'PID']\n",
    "columns_df_xlsx = columns_df_prior[:-1]\n",
    "columns_df_xlsx.extend(['PIDs', 'ct_PIDs'])\n",
    "cols_cpra = ['#CHROM', 'POS', 'REF', 'ALT']\n",
    "\n",
    "def xlsx_df(prio_df):\n",
    "    lists = []\n",
    "    for p,df in prio_df.groupby(by=['#CHROM', 'POS', 'REF', 'ALT']):\n",
    "        df = df.reset_index(drop=True)\n",
    "        list_df = [df.iloc[0][i] for i in columns_df_prior[:-1]]\n",
    "        list_df.append(list(df['PID']))\n",
    "        lists.append(list_df)\n",
    "    return pd.DataFrame(lists, columns=columns_df_xlsx)\n",
    "\n",
    "def xlsx_vars(prio_vars_df, name):\n",
    "    merged = pd.merge(naga_all[columns_df_prior], prio_vars_df, how='inner')\n",
    "    lists = []\n",
    "    for p,df in merged.groupby(by=['#CHROM', 'POS', 'REF', 'ALT']):\n",
    "        df = df.reset_index(drop=True)\n",
    "        list_df = [df.iloc[0][i] for i in columns_df_prior[:-1]]\n",
    "        list_df.extend([list(df['PID']), len(df['PID'])])\n",
    "        lists.append(list_df)\n",
    "    new_df = pd.DataFrame(lists, columns=columns_df_xlsx)\n",
    "    new_df['#CHROM'] = pd.Categorical(new_df['#CHROM'],\n",
    "                                      categories=['1','2','3','4','5','6','7','8','9','10','11','12', '13', '14', \n",
    "                                                  '15', '16', '17', '18', '19', '20', '21', '22', 'X', 'Y'],\n",
    "                                      ordered=True)\n",
    "    new_df.sort_values(by=['ct_PIDs', '#CHROM', 'POS', 'REF', 'ALT'], inplace=True, ignore_index=True, \n",
    "                       ascending=[False, True, True, True, True])\n",
    "    new_df.drop(axis='columns', columns='ct_PIDs', inplace=True)\n",
    "    new_df.to_excel('03_prioritized_xlsx/%s.xlsx'%name, index=False)"
   ]
  },
  {
   "cell_type": "code",
   "execution_count": 54,
   "id": "9abaf299",
   "metadata": {},
   "outputs": [],
   "source": [
    "# overview on variants counts for specific prioritizations\n",
    "# any spliceAI score > 0.9\n",
    "def splai_o09(df):\n",
    "    return df[((df['SpliceAI_pred_DS_AG']>0.9)|(df['SpliceAI_pred_DS_AL']>0.9)|\n",
    "               (df['SpliceAI_pred_DS_DG']>0.9)|(df['SpliceAI_pred_DS_DL']>0.9))].copy()\n",
    "\n",
    "# ada/rf score > 0.6\n",
    "def ada_rf_o06(df):\n",
    "    return df[(df['ada_score']>0.6)&\n",
    "              (df['rf_score']>0.6)].copy()\n",
    "\n",
    "# MaxEntScan high disruption of native splice site\n",
    "def MES_disr(df):\n",
    "    return df[(df['MaxEntScan_diff']>=0)&\n",
    "              (df['MaxEntScan_alt']<6.2)].copy()\n",
    "\n",
    "# MaxEntScan high possibility of creating new splice site\n",
    "def MES_new(df):\n",
    "    return df[(df['MaxEntScan_diff']<0)&\n",
    "              (df['MaxEntScan_alt']>8.5)].copy()\n",
    "\n",
    "# position relative to exon/intron boundary less than 3 and in intron\n",
    "def pos_rel_ei(df):\n",
    "    return df[((df['PosExonRefSeqAccession']<3)&\n",
    "               (df['PosExon_type'].isin(['outsideAcceptorSite', 'outsideDonorSite'])))|\n",
    "              ((df['PosExonRefSeqAccession']<2)&\n",
    "               (df['PosExon_type'].isin(['insideAcceptorSite', 'insideDonorSite'])))].copy()\n",
    "\n",
    "# variant categorization per hot/warm/cold genes\n",
    "def gene_prio(df):\n",
    "    gus = ['AKT2', 'AKT3', 'ATR', 'ATRX', 'CDKN1A', 'CDKN2B', 'CDKN2C', 'CDKN2D', 'CEBPA', 'CEP57', 'DAXX', 'EGFR', \n",
    "           'EGLN1', 'EGLN2', 'EPAS1', 'EPHB2', 'ABRAXAS1', 'FANCM', 'GPRC5A', 'HNF1A', 'HORMAD1', 'HORMAD2', 'JAK2',\n",
    "           'KIF1B', 'MAP3K1', 'MAP3K6', 'MDH2', 'MLH3', 'MMS19', 'MN1', 'MRE11', 'PALLD', 'PIK3C2G', 'PIK3R2', \n",
    "           'PMS1', 'PRF1', 'PTCH2', 'RAD50', 'RAD51', 'RECQL', 'RINT1']\n",
    "    not_gus = (set(gus) ^ set(df['HUGO_Symbol'][df['Splice Project Gene Priority']=='Warm (MASTER-ACMG)'].unique()))\n",
    "    df_lst = []\n",
    "    for i,lst in zip(['Hot (ACMG / MASTER)', 'Warm (MASTER-ACMG)', 'Warm (MASTER-ACMG)', 'Cold (387-ACMG-MASTER)'], \n",
    "                     [[''], gus, not_gus, ['']]):\n",
    "        df_lst.append(df[(df['Splice Project Gene Priority']==i)&\n",
    "                         (~df['HUGO_Symbol'].isin(lst))].copy())\n",
    "    return df_lst\n",
    "\n",
    "def var_scores(df):\n",
    "    table = pd.DataFrame(columns=['category', 'variant_count', 'row_count'])\n",
    "    for data,n in zip([splai_o09(df), ada_rf_o06(df), MES_disr(df), MES_new(df), pos_rel_ei(df)]+gene_prio(df),\n",
    "                      ['splai_o0.9', 'ada_rf_o0.6', 'MES_high_disr', 'MES_high_new', 'pos_rel_e_i', \n",
    "                       'gene_prio_hot', 'gene_prio_warm_wo_gus', 'gene_prio_gus', 'gene_prio_cold']):\n",
    "        table = table.append({'category':n, 'variant_count':len(data.drop_duplicates(subset=cols_cpra)), \n",
    "                              'row_count':len(data)}, ignore_index=True)\n",
    "    return table"
   ]
  },
  {
   "cell_type": "code",
   "execution_count": 26,
   "id": "6a821da0",
   "metadata": {},
   "outputs": [],
   "source": [
    "naga_all=pd.read_pickle('00_dataframes/naga_vep_floss_hboc_splai')\n",
    "naga_all['#CHROM'] = pd.Categorical(naga_all['#CHROM'],\n",
    "                                    categories=['1','2','3','4','5','6','7','8','9','10','11','12', '13', '14', \n",
    "                                                '15', '16', '17', '18', '19', '20', '21', '22', 'X', 'Y'],\n",
    "                                    ordered=True)\n",
    "naga_all = naga_all.sort_values(by=['#CHROM', 'POS', 'REF', 'ALT'], ignore_index=True)\n",
    "naga_all['PosExon_type'] = naga_all['PosExon_type'].replace({'insideDonor':'insideDonorSite', \n",
    "                                                             'outsideDonor':'outsideDonorSite'})\n",
    "naga_all = make_float(naga_all)"
   ]
  },
  {
   "cell_type": "markdown",
   "id": "f84806af",
   "metadata": {},
   "source": [
    "### Overview count of variants"
   ]
  },
  {
   "cell_type": "code",
   "execution_count": 60,
   "id": "2677c50c",
   "metadata": {},
   "outputs": [],
   "source": [
    "ov_all = var_scores(naga_all)\n",
    "#ov_all.to_excel('03_prioritized_xlsx/overview_var_counts_all.xlsx', index=False)"
   ]
  },
  {
   "cell_type": "markdown",
   "id": "6e367b19",
   "metadata": {},
   "source": [
    "# For grouped variants"
   ]
  },
  {
   "cell_type": "markdown",
   "id": "4e542393",
   "metadata": {},
   "source": [
    "## Variants grouped"
   ]
  },
  {
   "cell_type": "code",
   "execution_count": 10,
   "id": "de4c6ef9",
   "metadata": {},
   "outputs": [],
   "source": [
    "vars_grpd = naga_all.drop_duplicates(subset=cols_cpra)\n",
    "#len(naga_all), len(vars_grpd)"
   ]
  },
  {
   "cell_type": "markdown",
   "id": "a0bf9a85",
   "metadata": {},
   "source": [
    "## SpliceAI grouped"
   ]
  },
  {
   "cell_type": "code",
   "execution_count": 11,
   "id": "f28e6b88",
   "metadata": {},
   "outputs": [],
   "source": [
    "vars_grpd_splai = vars_grpd[vars_grpd['SpliceAI_pred_DP_AG'].notnull()].copy()\n",
    "vars_grpd_splai = make_float(vars_grpd_splai)\n",
    "\n",
    "vars_grpd_splai = vars_grpd_splai[cols_cpra][((vars_grpd_splai['SpliceAI_pred_DS_AG']>0.9)|\n",
    "                                              (vars_grpd_splai['SpliceAI_pred_DS_AL']>0.9)|\n",
    "                                              (vars_grpd_splai['SpliceAI_pred_DS_DG']>0.9)|\n",
    "                                              (vars_grpd_splai['SpliceAI_pred_DS_DL']>0.9))\n",
    "                                    ].drop_duplicates()\n",
    "vars_grpd_splai.reset_index(drop=True, inplace=True)"
   ]
  },
  {
   "cell_type": "code",
   "execution_count": 15,
   "id": "4c9270f1",
   "metadata": {},
   "outputs": [
    {
     "data": {
      "text/plain": [
       "219"
      ]
     },
     "execution_count": 15,
     "metadata": {},
     "output_type": "execute_result"
    }
   ],
   "source": [
    "len(naga_all[((naga_all['SpliceAI_pred_DS_AG']>0.9)|(naga_all['SpliceAI_pred_DS_AL']>0.9)|\n",
    "              (naga_all['SpliceAI_pred_DS_DG']>0.9)|(naga_all['SpliceAI_pred_DS_DL']>0.9))].drop_duplicates())"
   ]
  },
  {
   "cell_type": "markdown",
   "id": "b5b03eed",
   "metadata": {},
   "source": [
    "## MaxEntScan grouped"
   ]
  },
  {
   "cell_type": "code",
   "execution_count": null,
   "id": "a00ef6bb",
   "metadata": {},
   "outputs": [],
   "source": [
    "vars_grpd_MaxEntScan = vars_grpd[columns_df_prior][vars_grpd['MaxEntScan_alt'].notnull()].copy()\n",
    "vars_grpd_MaxEntScan[['MaxEntScan_alt', 'MaxEntScan_diff', 'MaxEntScan_ref']] = vars_grpd_MaxEntScan[[\n",
    "    'MaxEntScan_alt', 'MaxEntScan_diff', 'MaxEntScan_ref']].astype(float)\n",
    "\n",
    "# disr_ss = disrupts native splice site, diff > 0\n",
    "disr_ss_vars = vars_grpd_MaxEntScan[(vars_grpd_MaxEntScan['MaxEntScan_diff']>=0)].copy()\n",
    "disr_high_vars = disr_ss_vars[cols_cpra][disr_ss_vars['MaxEntScan_alt']<6.2]\n",
    "disr_mod_vars =disr_ss_vars[cols_cpra][(disr_ss_vars['MaxEntScan_alt']>=6.2)&\n",
    "                                     (disr_ss_vars['MaxEntScan_alt']<=8.5)]\n",
    "disr_low_vars = disr_ss_vars[cols_cpra][disr_ss_vars['MaxEntScan_alt']>8.5]\n",
    "\n",
    "#disr_high_xlsx, disr_mod_xlsx, disr_low_xlsx = [xlsx_df(i) for i in [disr_high, disr_mod, disr_low]]\n",
    "\n",
    "# new_ss = creates new splice site, diff < 0\n",
    "new_ss_vars = vars_grpd_MaxEntScan[(vars_grpd_MaxEntScan['MaxEntScan_diff']<0)].copy()\n",
    "new_high_vars = new_ss_vars[cols_cpra][new_ss_vars['MaxEntScan_alt']>8.5]\n",
    "new_mod_vars = new_ss_vars[cols_cpra][(new_ss_vars['MaxEntScan_alt']>=6.2)&\n",
    "                                      (new_ss_vars['MaxEntScan_alt']<=8.5)]\n",
    "new_low_vars = new_ss_vars[cols_cpra][new_ss_vars['MaxEntScan_alt']<6.2]\n",
    "\n",
    "# reset index for all dfs\n",
    "for df in [disr_high_vars, disr_low_vars, disr_mod_vars, new_high_vars, new_low_vars, new_mod_vars]:\n",
    "    df.reset_index(drop=True, inplace=True)\n",
    "\n",
    "#new_high_xlsx, new_mod_xlsx, new_low_xlsx = [xlsx_df(i) for i in [new_high, new_mod, new_low]]"
   ]
  },
  {
   "cell_type": "markdown",
   "id": "005ac265",
   "metadata": {},
   "source": [
    "## dbscSNV (ada score, rf score) grouped"
   ]
  },
  {
   "cell_type": "code",
   "execution_count": null,
   "id": "1d67dfdc",
   "metadata": {},
   "outputs": [],
   "source": [
    "vars_grpd_dbscSNV = vars_grpd[columns_df_prior][vars_grpd['ada_score'].notnull()&\n",
    "                                                vars_grpd['rf_score'].notnull()].copy()\n",
    "vars_grpd_dbscSNV[['ada_score', 'rf_score']] = vars_grpd_dbscSNV[['ada_score', 'rf_score']].astype(float)\n",
    "dbscSNV_high_vars = vars_grpd_dbscSNV[cols_cpra][(vars_grpd_dbscSNV['ada_score']>0.6)&\n",
    "                                                 (vars_grpd_dbscSNV['rf_score']>0.6)].copy()\n",
    "dbscSNV_high_vars.reset_index(drop=True, inplace=True)\n",
    "#dbscSNV_high_xlsx = xlsx_df(dbscSNV_high)"
   ]
  },
  {
   "cell_type": "markdown",
   "id": "84c98e49",
   "metadata": {},
   "source": [
    "## Variant position rel. to splice site grouped"
   ]
  },
  {
   "cell_type": "code",
   "execution_count": null,
   "id": "d042ed2c",
   "metadata": {},
   "outputs": [],
   "source": [
    "vars_grpd_pos_rel_df = vars_grpd[cols_cpra][(vars_grpd['PosExon_type'].isin(['outsideAcceptorSite', \n",
    "                                                        'outsideDonor']))&(vars_grpd['PosExonRefSeqAccession']<3)]\n",
    "vars_grpd_pos_rel_df.reset_index(drop=True, inplace=True)\n",
    "#pos_rel_df_xlsx = xlsx_df(pos_rel_df)\n",
    "#pos_rel_df_xlsx.to_excel('03_prioritized_xlsx/var_pos_ss.xlsx', index=False, sheet_name='Pos<3,oA,oD')"
   ]
  },
  {
   "cell_type": "markdown",
   "id": "6d3f27a5",
   "metadata": {},
   "source": [
    "## ClinVar characterization grouped"
   ]
  },
  {
   "cell_type": "code",
   "execution_count": null,
   "id": "5e14348e",
   "metadata": {},
   "outputs": [],
   "source": [
    "clinvar_unknown_vars = vars_grpd[cols_cpra][(vars_grpd['ClinVar_Pathogenicity']=='Uncertain Significance')|\n",
    "                                            (vars_grpd['ClinVar_Pathogenicity']=='uncertain_significance')|\n",
    "                                            (vars_grpd['ClinVar_Pathogenicity']=='Uncertain significance')|\n",
    "                                            (vars_grpd['ClinVar_Pathogenicity']=='not_provided')|\n",
    "                                            (vars_grpd['ClinVar_Pathogenicity'].isnull())]\n",
    "clinvar_benign_vars = vars_grpd[cols_cpra][(vars_grpd['ClinVar_Pathogenicity']=='Benign')|\n",
    "                                           (vars_grpd['ClinVar_Pathogenicity']=='Likely Benign')]\n",
    "clinvar_patho_vars = vars_grpd[cols_cpra][(vars_grpd['ClinVar_Pathogenicity']=='Pathogenic')|\n",
    "                                          (vars_grpd['ClinVar_Pathogenicity']=='Likely Pathogenic')]\n",
    "for df in [clinvar_unknown_vars, clinvar_benign_vars, clinvar_patho_vars]:\n",
    "    df.reset_index(drop=True, inplace=True)"
   ]
  },
  {
   "cell_type": "code",
   "execution_count": null,
   "id": "fa9a16f7",
   "metadata": {},
   "outputs": [],
   "source": [
    "controls_cols = ['#CHROM', 'POS', 'REF', 'ALT', 'MaxEntScan_alt', 'MaxEntScan_diff', 'MaxEntScan_ref', \n",
    "                 'CADD_PHRED', 'SpliceAI_pred_DP_AG', 'SpliceAI_pred_DP_AL', 'SpliceAI_pred_DP_DG', \n",
    "                 'SpliceAI_pred_DP_DL', 'SpliceAI_pred_DS_AG', 'SpliceAI_pred_DS_AL', 'SpliceAI_pred_DS_DG', \n",
    "                 'SpliceAI_pred_DS_DL', 'SpliceAI_pred_SYMBOL', 'ada_score', 'rf_score',\n",
    "                 'PosExonRefSeqAccession', 'PosExon_type', 'ClinVar_Pathogenicity', 'ClinVar_Traits', \n",
    "                 'VEP_Most_Severe_Consequence', 'PID']\n",
    "controls_xlsx_cols = controls_cols[:-1]\n",
    "controls_xlsx_cols.extend(['PIDs', 'ct_PIDs'])\n",
    "\n",
    "clinvar_benign_vars2 = vars_grpd[cols_cpra][(vars_grpd['ClinVar_Pathogenicity']=='Benign')|\n",
    "                                           (vars_grpd['ClinVar_Pathogenicity']=='Likely Benign')]\n",
    "clinvar_patho_vars2 = vars_grpd[cols_cpra][(vars_grpd['ClinVar_Pathogenicity']=='Pathogenic')|\n",
    "                                          (vars_grpd['ClinVar_Pathogenicity']=='Likely Pathogenic')]"
   ]
  },
  {
   "cell_type": "code",
   "execution_count": null,
   "id": "0306e5f3",
   "metadata": {},
   "outputs": [],
   "source": [
    "# with VEP most severe consequence for pathogenic variants as controls\n",
    "merged2 = pd.merge(naga_all[controls_cols], clinvar_patho_vars2, how='inner')\n",
    "lists2 = []\n",
    "for p,df2 in merged2.groupby(by=['#CHROM', 'POS', 'REF', 'ALT']):\n",
    "    df2 = df2.reset_index(drop=True)\n",
    "    list_df2 = [df2.iloc[0][i] for i in controls_cols[:-1]]\n",
    "    list_df2.extend([list(df2['PID']), len(df2['PID'])])\n",
    "    lists2.append(list_df2)\n",
    "new_df2 = pd.DataFrame(lists2, columns=controls_xlsx_cols)\n",
    "new_df2['#CHROM'] = pd.Categorical(new_df2['#CHROM'],\n",
    "                                    categories=['1','2','3','4','5','6','7','8','9','10','11','12', '13', '14', \n",
    "                                                '15', '16', '17', '18', '19', '20', '21', '22', 'X', 'Y'],\n",
    "                                    ordered=True)\n",
    "new_df2.sort_values(by=['ct_PIDs', '#CHROM', 'POS', 'REF', 'ALT'], inplace=True, ignore_index=True, \n",
    "                    ascending=[False, True, True, True, True])\n",
    "new_df2.drop(axis='columns', columns='ct_PIDs', inplace=True)\n"
   ]
  },
  {
   "cell_type": "code",
   "execution_count": null,
   "id": "2493bbcb",
   "metadata": {},
   "outputs": [],
   "source": [
    "# RNA expression data for specific variants\n",
    "pd.merge(merged2[['#CHROM', 'POS', 'REF', 'ALT', 'PID']], naga_all, how='left')[['#CHROM', 'POS', 'REF', 'ALT', \n",
    "         'PID', 'Control_VAF', 'Tumor_VAF', 'exome_control_AF', 'local_control_AF', 'RNA_VAF', 'AF_C', 'AF_T', \n",
    "         'AF_RNA', 'AF_RNA_noSkipReads', 'Tumor_dpALT', 'Control_dpALT', 'Alt_T', 'Alt_C', 'Cov_T', 'Cov_C']][\n",
    "    (pd.merge(merged2[['#CHROM', 'POS', 'REF', 'ALT', 'PID']], naga_all, how='left')['AF_C'].notnull())&\n",
    "    (pd.merge(merged2[['#CHROM', 'POS', 'REF', 'ALT', 'PID']], naga_all, how='left')['VEP_Most_Severe_Consequence']\n",
    "     =='splice_acceptor_variant')]"
   ]
  },
  {
   "cell_type": "code",
   "execution_count": null,
   "id": "70d4b542",
   "metadata": {},
   "outputs": [],
   "source": [
    "#new_df2.to_excel('03_prioritized_xlsx/clinvar_patho_vep.xlsx', index=False)"
   ]
  },
  {
   "cell_type": "markdown",
   "id": "a4615c7d",
   "metadata": {},
   "source": [
    "## Arnes variant table with positive controls by Gepado"
   ]
  },
  {
   "cell_type": "code",
   "execution_count": null,
   "id": "a45c4417",
   "metadata": {},
   "outputs": [],
   "source": [
    "arne_pos = pd.read_excel('03_prioritized_xlsx/arne_pos_crtls.xlsx')\n",
    "arne_pos[['#CHROM', 'REF', 'ALT']] = arne_pos[['#CHROM', 'REF', 'ALT']].astype(str)\n",
    "arne_pos['POS'] = arne_pos['POS'].astype(int)\n",
    "arne_pos = arne_pos.rename(columns={'PID':'PID_trans'})\n",
    "arne_pos_vars = arne_pos[cols_cpra].drop_duplicates().reset_index(drop=True)"
   ]
  },
  {
   "cell_type": "code",
   "execution_count": null,
   "id": "88cef6ee",
   "metadata": {},
   "outputs": [],
   "source": [
    "# variants of Arnes table (28) not all in Nagas table (14)\n",
    "arne_naga = pd.merge((arne_pos[['#CHROM', 'POS', 'REF', 'ALT']]).drop_duplicates(ignore_index=True), vars_grpd, \n",
    "                     how='inner')\n",
    "xlsx_vars(arne_naga, 'arne_naga_vars')"
   ]
  },
  {
   "cell_type": "code",
   "execution_count": null,
   "id": "465117c9",
   "metadata": {},
   "outputs": [],
   "source": [
    "#arne_naga[~arne_naga['HGVSg'].isin(pd.merge(ol_splai_mes_dbscSNV, naga_all, how='inner')['HGVSg'])]"
   ]
  },
  {
   "cell_type": "code",
   "execution_count": null,
   "id": "e819383f",
   "metadata": {},
   "outputs": [],
   "source": [
    "#ol_splai_mes_dbscSNV_naga['ClinVar_Pathogenicity'].value_counts()"
   ]
  },
  {
   "cell_type": "markdown",
   "id": "dbe6503b",
   "metadata": {},
   "source": [
    "## Hot/Cold splice project gene priority grouped"
   ]
  },
  {
   "cell_type": "code",
   "execution_count": null,
   "id": "ed31a9b5",
   "metadata": {},
   "outputs": [],
   "source": [
    "hot_gene_vars = vars_grpd[cols_cpra][vars_grpd['Splice Project Gene Priority']==\n",
    "                                     'Hot (ACMG / MASTER)'].reset_index(drop=True)\n",
    "warm_gene_vars = vars_grpd[cols_cpra][vars_grpd['Splice Project Gene Priority']==\n",
    "                                      'Warm (MASTER-ACMG)'].reset_index(drop=True)\n",
    "cold_gene_vars = vars_grpd[cols_cpra][vars_grpd['Splice Project Gene Priority']==\n",
    "                                      'Cold (387-ACMG-MASTER)'].reset_index(drop=True)\n",
    "#len(vars_grpd), len(hot_gene_vars), len(warm_gene_vars), len(cold_gene_vars)"
   ]
  },
  {
   "cell_type": "markdown",
   "id": "1ecaf2ab",
   "metadata": {},
   "source": [
    "## gnomAD AF grouped"
   ]
  },
  {
   "cell_type": "code",
   "execution_count": null,
   "id": "98931874",
   "metadata": {},
   "outputs": [],
   "source": [
    "# previously filtered by Naga -> only variants with AF < 0.005\n",
    "ga_af_vars = vars_grpd[vars_grpd['max_gnomAD_AF'].notnull()].copy()\n",
    "ga_af_vars['max_gnomAD_AF'] = ga_af_vars['max_gnomAD_AF'].astype(float)"
   ]
  },
  {
   "cell_type": "markdown",
   "id": "eb1ace3c",
   "metadata": {},
   "source": [
    "## Variants without splice prediction scores"
   ]
  },
  {
   "cell_type": "code",
   "execution_count": null,
   "id": "38ac0306",
   "metadata": {},
   "outputs": [],
   "source": [
    "no_splAI = vars_grpd[vars_grpd['SpliceAI_pred_DP_AG'].isnull()]\n",
    "no_MES = vars_grpd[vars_grpd['MaxEntScan_alt'].isnull()]\n",
    "no_dbsc = vars_grpd[vars_grpd['rf_score'].isnull()|vars_grpd['ada_score'].isnull()]\n",
    "\n",
    "len(vars_grpd), len(no_dbsc), len(no_MES), len(no_splAI)"
   ]
  },
  {
   "cell_type": "code",
   "execution_count": null,
   "id": "5e64783b",
   "metadata": {},
   "outputs": [],
   "source": [
    "#no_splAI[(no_splAI['ALT'].str.len()==1)&(no_splAI['REF'].str.len()==1)]"
   ]
  },
  {
   "cell_type": "markdown",
   "id": "23cc0b11",
   "metadata": {},
   "source": [
    "## Overlap of criteria grouped"
   ]
  },
  {
   "cell_type": "code",
   "execution_count": null,
   "id": "49e06ef2",
   "metadata": {},
   "outputs": [],
   "source": [
    "#len(vars_grpd_splai), len(disr_high_vars), len(dbscSNV_high_vars), len(vars_grpd_pos_rel_df), len(clinvar_patho_vars)"
   ]
  },
  {
   "cell_type": "code",
   "execution_count": null,
   "id": "60fa129c",
   "metadata": {},
   "outputs": [],
   "source": [
    "ol_splai_mes = pd.merge(vars_grpd_splai, disr_high_vars, how='inner')\n",
    "ol_splai_mes_dbscSNV = pd.merge(ol_splai_mes, dbscSNV_high_vars, how='inner')\n",
    "ol_splai_mes_dbscSNV_hot = pd.merge(ol_splai_mes_dbscSNV, hot_gene_vars, how='inner')"
   ]
  },
  {
   "cell_type": "markdown",
   "id": "0a390713",
   "metadata": {},
   "source": [
    "## Evaluated variants"
   ]
  },
  {
   "cell_type": "code",
   "execution_count": null,
   "id": "92115c9d",
   "metadata": {},
   "outputs": [],
   "source": [
    "new_splAI_high = pd.merge(vars_grpd_splai, vars_grpd, how='left'\n",
    "                         )[~pd.merge(vars_grpd_splai, vars_grpd, how='left')['HGVSg'].isin(\n",
    "    pd.merge(ol_splai_mes_dbscSNV, vars_grpd, how='left')['HGVSg'])]"
   ]
  },
  {
   "cell_type": "code",
   "execution_count": null,
   "id": "a2f2b4bc",
   "metadata": {},
   "outputs": [],
   "source": [
    "new_MES_high_disr = pd.merge(disr_high_vars, vars_grpd, how='left'\n",
    "                         )[~pd.merge(disr_high_vars, vars_grpd, how='left')['HGVSg'].isin(\n",
    "    pd.merge(ol_splai_mes_dbscSNV, vars_grpd, how='left')['HGVSg'])]"
   ]
  },
  {
   "cell_type": "code",
   "execution_count": null,
   "id": "b72f7b1d",
   "metadata": {},
   "outputs": [],
   "source": [
    "new_MES_high_new = pd.merge(new_high_vars, vars_grpd, how='left'\n",
    "                         )[~pd.merge(new_high_vars, vars_grpd, how='left')['HGVSg'].isin(\n",
    "    pd.merge(ol_splai_mes_dbscSNV, vars_grpd, how='left')['HGVSg'])]"
   ]
  },
  {
   "cell_type": "code",
   "execution_count": null,
   "id": "7334e947",
   "metadata": {},
   "outputs": [],
   "source": [
    "new_dbsc_high = pd.merge(dbscSNV_high_vars, vars_grpd, how='left'\n",
    "                         )[~pd.merge(dbscSNV_high_vars, vars_grpd, how='left')['HGVSg'].isin(\n",
    "    pd.merge(ol_splai_mes_dbscSNV, vars_grpd, how='left')['HGVSg'])]"
   ]
  },
  {
   "cell_type": "code",
   "execution_count": null,
   "id": "f425490a",
   "metadata": {},
   "outputs": [],
   "source": [
    "new_pos_rel = pd.merge(vars_grpd_pos_rel_df, vars_grpd, how='left'\n",
    "                         )[~pd.merge(vars_grpd_pos_rel_df, vars_grpd, how='left')['HGVSg'].isin(\n",
    "    pd.merge(ol_splai_mes_dbscSNV, vars_grpd, how='left')['HGVSg'])]"
   ]
  },
  {
   "cell_type": "code",
   "execution_count": null,
   "id": "ae722600",
   "metadata": {},
   "outputs": [],
   "source": []
  },
  {
   "cell_type": "markdown",
   "id": "65faa24f",
   "metadata": {},
   "source": [
    "## Make .xlsx with selected columns, PIDs for grouped variants"
   ]
  },
  {
   "cell_type": "code",
   "execution_count": null,
   "id": "a87bd4fd",
   "metadata": {},
   "outputs": [],
   "source": [
    "# dfs with all important information to .xlsx\n",
    "#for df, n in [(vars_grpd_splai, 'spliceAI_high'), (disr_high_vars, 'MaxEntScan_high_disr'), \n",
    "              #(new_high_vars, 'MaxEntScan_high_new_ss'), (dbscSNV_high_vars, 'dbscSNV_high'), \n",
    "              #(vars_grpd_pos_rel_df, 'pos_rel_IntExBound_under3'), (clinvar_benign_vars, 'clinvar_benign'), \n",
    "              #(clinvar_patho_vars, 'clinvar_patho'), (ol_splai_mes_dbscSNV_naga, 'merge_splAI_MES_dbsc')]:\n",
    "    #xlsx_vars(df, n)"
   ]
  },
  {
   "cell_type": "code",
   "execution_count": null,
   "id": "ee055f6e",
   "metadata": {
    "scrolled": true
   },
   "outputs": [],
   "source": [
    "#for df, n in [(new_splAI_high, 'new_splAI_high'), (new_MES_high_disr, 'new_MES_high_disr'), \n",
    "              #(new_MES_high_new, 'new_MES_high_new'), (new_dbsc_high, 'new_dbsc_high'), \n",
    "              #(new_pos_rel, 'new_pos_rel')]:\n",
    "    #xlsx_vars(df, n)"
   ]
  },
  {
   "cell_type": "code",
   "execution_count": null,
   "id": "a7651b4d",
   "metadata": {},
   "outputs": [],
   "source": [
    "# merged df to .xlsx\n",
    "#xlsx_vars(ol_splai_mes_dbscSNV_hot, 'merge_splAI_MES_dbsc_hot')"
   ]
  },
  {
   "cell_type": "markdown",
   "id": "f549e63a",
   "metadata": {},
   "source": [
    "# For original df, all rows"
   ]
  },
  {
   "cell_type": "markdown",
   "id": "2bf835b6",
   "metadata": {},
   "source": [
    "## SpliceAI"
   ]
  },
  {
   "cell_type": "code",
   "execution_count": null,
   "id": "fbb98d5f",
   "metadata": {},
   "outputs": [],
   "source": [
    "spl_ai = naga_all[naga_all['SpliceAI_pred_DP_AG'].notnull()].copy()\n",
    "spl_ai = make_float(spl_ai)\n",
    "\n",
    "# how many rows in each cutoff\n",
    "splAI_ct = [(round(i,1), len(spl_ai[(spl_ai['SpliceAI_pred_DS_AG']>i)|(spl_ai['SpliceAI_pred_DS_AL']>i)|\n",
    "                            (spl_ai['SpliceAI_pred_DS_DG']>i)|(spl_ai['SpliceAI_pred_DS_DL']>i)]))\n",
    "            for i in np.arange(0,1,0.1)]"
   ]
  },
  {
   "cell_type": "code",
   "execution_count": null,
   "id": "22661b34",
   "metadata": {},
   "outputs": [],
   "source": [
    "# high spliceAI scores (>0.9)\n",
    "spl_ai_df = spl_ai[columns_df_prior][((spl_ai['SpliceAI_pred_DS_AG']>0.9)|(spl_ai['SpliceAI_pred_DS_AL']>0.9)|\n",
    "                                      (spl_ai['SpliceAI_pred_DS_DG']>0.9)|(spl_ai['SpliceAI_pred_DS_DL']>0.9))\n",
    "                                    ].drop_duplicates()\n",
    "spl_ai_df_xlsx = xlsx_df(spl_ai_df)\n",
    "spl_ai_df_xlsx.to_excel('03_prioritized_xlsx/splAI_vars.xlsx', index=False, sheet_name='SpliceAI>0.9')"
   ]
  },
  {
   "cell_type": "code",
   "execution_count": null,
   "id": "a18562fb",
   "metadata": {},
   "outputs": [],
   "source": [
    "spl_ai_gain = spl_ai[columns_df_prior][(spl_ai['PosExonRefSeqAccession']>2)&\n",
    "                                       ((spl_ai['SpliceAI_pred_DS_AG']>0.9)|(spl_ai['SpliceAI_pred_DS_AL']>0.9)|\n",
    "                                        (spl_ai['SpliceAI_pred_DS_DG']>0.9)|(spl_ai['SpliceAI_pred_DS_DL']>0.9))\n",
    "                                      ].copy()\n",
    "spl_ai_gain_xlsx = xlsx_df(spl_ai_gain)\n",
    "spl_ai_gain_xlsx.to_excel('03_prioritized_xlsx/splAI_gain.xlsx', index=False, sheet_name='SpliceAI>0.9,pos>2')"
   ]
  },
  {
   "cell_type": "markdown",
   "id": "4e16f557",
   "metadata": {},
   "source": [
    "## MaxEntScan"
   ]
  },
  {
   "cell_type": "code",
   "execution_count": null,
   "id": "851bda3c",
   "metadata": {},
   "outputs": [],
   "source": [
    "# differentiation between: (1) variant disrupts native splice site and (2) variant creates new splice site\n",
    "MaxEntScan = naga_all[columns_df_prior][naga_all['MaxEntScan_alt'].notnull()].copy()\n",
    "MaxEntScan[['MaxEntScan_alt', 'MaxEntScan_diff', 'MaxEntScan_ref']] = MaxEntScan[['MaxEntScan_alt', \n",
    "                                                                                  'MaxEntScan_diff', \n",
    "                                                                                  'MaxEntScan_ref']].astype(float)\n",
    "# disr_ss = disrupts native splice site, diff > 0\n",
    "disr_ss = MaxEntScan[(MaxEntScan['MaxEntScan_diff']>=0)]\n",
    "disr_high = disr_ss[disr_ss['MaxEntScan_alt']<6.2]\n",
    "disr_mod = disr_ss[(disr_ss['MaxEntScan_alt']>=6.2)&(disr_ss['MaxEntScan_alt']<=8.5)]\n",
    "disr_low = disr_ss[disr_ss['MaxEntScan_alt']>8.5]\n",
    "\n",
    "disr_high_xlsx, disr_mod_xlsx, disr_low_xlsx = [xlsx_df(i) for i in [disr_high, disr_mod, disr_low]]\n",
    "\n",
    "# new_ss = creates new splice site, diff < 0\n",
    "new_ss = MaxEntScan[(MaxEntScan['MaxEntScan_diff']<0)]\n",
    "new_high = new_ss[new_ss['MaxEntScan_alt']>8.5]\n",
    "new_mod = new_ss[(new_ss['MaxEntScan_alt']>=6.2)&(new_ss['MaxEntScan_alt']<=8.5)]\n",
    "new_low = new_ss[new_ss['MaxEntScan_alt']<6.2]\n",
    "\n",
    "new_high_xlsx, new_mod_xlsx, new_low_xlsx = [xlsx_df(i) for i in [new_high, new_mod, new_low]]\n",
    "\n",
    "lens_MES = [(n,len(d)) for d,n in zip([disr_ss, disr_high, disr_mod, disr_low, new_ss, new_high, new_mod, new_low],\n",
    "                                      ['disr_ss', 'disr_high', 'disr_mod', 'disr_low', \n",
    "                                       'new_ss', 'new_high', 'new_mod', 'new_low'])]"
   ]
  },
  {
   "cell_type": "code",
   "execution_count": null,
   "id": "982bb93e",
   "metadata": {},
   "outputs": [],
   "source": [
    "writer = pd.ExcelWriter('03_prioritized_xlsx/MaxEntScan_vars.xlsx')\n",
    "disr_high_xlsx[disr_high_xlsx['PosExonRefSeqAccession']<3].to_excel(writer, index=False, \n",
    "                                                                    sheet_name='disr_high_pos<3')\n",
    "new_high_xlsx[new_high_xlsx['PosExonRefSeqAccession']>15].to_excel(writer, index=False, \n",
    "                                                                   sheet_name='new_high_pos>15')\n",
    "writer.save()"
   ]
  },
  {
   "cell_type": "markdown",
   "id": "fb684147",
   "metadata": {},
   "source": [
    "## dbscSNV (ada score, rf score)"
   ]
  },
  {
   "cell_type": "code",
   "execution_count": null,
   "id": "6cdad44e",
   "metadata": {},
   "outputs": [],
   "source": [
    "dbscSNV = naga_all[naga_all['ada_score'].notnull()&naga_all['rf_score'].notnull()].copy()\n",
    "dbscSNV[['ada_score', 'rf_score']] = dbscSNV[['ada_score', 'rf_score']].astype(float)\n",
    "dbscSNV_high = dbscSNV[(dbscSNV['ada_score']>0.6)&(dbscSNV['rf_score']>0.6)].copy()\n",
    "dbscSNV_high_xlsx = xlsx_df(dbscSNV_high)"
   ]
  },
  {
   "cell_type": "markdown",
   "id": "be19ea4d",
   "metadata": {},
   "source": [
    "## Variant position rel. to splice site"
   ]
  },
  {
   "cell_type": "code",
   "execution_count": null,
   "id": "f07deda9",
   "metadata": {},
   "outputs": [],
   "source": [
    "pos_rel_df = naga_all[columns_df_prior][(naga_all['PosExon_type'].isin(['outsideAcceptorSite', 'outsideDonor']))&\n",
    "                                        (naga_all['PosExonRefSeqAccession']<3)].drop_duplicates()\n",
    "pos_rel_df_xlsx = xlsx_df(pos_rel_df)\n",
    "pos_rel_df_xlsx.to_excel('03_prioritized_xlsx/var_pos_ss.xlsx', index=False, sheet_name='Pos<3,oA,oD')"
   ]
  },
  {
   "cell_type": "markdown",
   "id": "23fc6662",
   "metadata": {},
   "source": [
    "## Hot/Cold splice project gene priority"
   ]
  },
  {
   "cell_type": "code",
   "execution_count": null,
   "id": "04151d1c",
   "metadata": {},
   "outputs": [],
   "source": [
    "# gene priorities\n",
    "hot_gene, warm_gene, cold_gene = [naga_all[naga_all['Splice Project Gene Priority']==i].copy() for i in \n",
    "                                  ['Hot (ACMG / MASTER)', 'Warm (MASTER-ACMG)', 'Cold (387-ACMG-MASTER)']]\n",
    "hot_gene_xlsx = xlsx_df(hot_gene)"
   ]
  },
  {
   "cell_type": "code",
   "execution_count": null,
   "id": "b59eea77",
   "metadata": {},
   "outputs": [],
   "source": [
    "# overlap hot splice gene priority, high spliceAI score > 0.9\n",
    "hot_splAI_xlsx = pd.merge(spl_ai_df_xlsx, hot_gene_xlsx[cols_cpra], how='inner')\n",
    "hot_splAI_xlsx.to_excel('03_prioritized_xlsx/hot_gene_splAI.xlsx', sheet_name='hotGenePriority,splAI>0.9', \n",
    "                        index=False)"
   ]
  },
  {
   "cell_type": "markdown",
   "id": "7316815f",
   "metadata": {},
   "source": [
    "## ClinVar characterization"
   ]
  },
  {
   "cell_type": "code",
   "execution_count": null,
   "id": "4243dc04",
   "metadata": {},
   "outputs": [],
   "source": [
    "# ClinVar groups\n",
    "# clinvar_unknown: 12,520 rows (6,533 variants)\n",
    "# clinvar_benign: 5,475 rows (1,603 variants)\n",
    "# clinvar_patho: 173 rows (101 variants)\n",
    "clinvar_unknown = naga_all[(naga_all['ClinVar_Pathogenicity']=='Uncertain Significance')|\n",
    "                           (naga_all['ClinVar_Pathogenicity']=='uncertain_significance')|\n",
    "                           (naga_all['ClinVar_Pathogenicity']=='Uncertain significance')|\n",
    "                           (naga_all['ClinVar_Pathogenicity']=='not_provided')|\n",
    "                           (naga_all['ClinVar_Pathogenicity'].isnull())]\n",
    "clinvar_benign = naga_all[(naga_all['ClinVar_Pathogenicity']=='Benign')|\n",
    "                          (naga_all['ClinVar_Pathogenicity']=='Likely Benign')]\n",
    "clinvar_patho = naga_all[(naga_all['ClinVar_Pathogenicity']=='Pathogenic')|\n",
    "                         (naga_all['ClinVar_Pathogenicity']=='Likely Pathogenic')]"
   ]
  },
  {
   "cell_type": "code",
   "execution_count": null,
   "id": "c8e4d35d",
   "metadata": {},
   "outputs": [],
   "source": [
    "# for positive control: pathogenic, spliceAI>0.9 --> 63 rows, 30 variants\n",
    "path_splAI = clinvar_patho[clinvar_patho['SpliceAI_pred_DP_AG'].notnull()].copy()\n",
    "path_splAI = make_float(path_splAI)\n",
    "path_splAI = path_splAI[(path_splAI['SpliceAI_pred_DS_AG']>0.9)|(path_splAI['SpliceAI_pred_DS_AL']>0.9)|\n",
    "                        (path_splAI['SpliceAI_pred_DS_DG']>0.9)|(path_splAI['SpliceAI_pred_DS_DL']>0.9)\n",
    "                       ].reset_index(drop=True)\n",
    "path_splAI_xlsx = xlsx_df(path_splAI)\n",
    "\n",
    "# for negative control: benign, spliceAI == 0, rf/ada score < 0.001 --> 164 rows, 46 variants\n",
    "ben_splAI = clinvar_benign[(clinvar_benign['SpliceAI_pred_DP_AG'].notnull())&\n",
    "                           (clinvar_benign['ada_score'].notnull())].copy()\n",
    "ben_splAI = make_float(ben_splAI)\n",
    "ben_splAI[['ada_score', 'rf_score']] = ben_splAI[['ada_score', 'rf_score']].astype(float)\n",
    "ben_splAI = ben_splAI[(ben_splAI['SpliceAI_pred_DS_AG']==0)&(ben_splAI['SpliceAI_pred_DS_AL']==0)&\n",
    "                      (ben_splAI['SpliceAI_pred_DS_DG']==0)&(ben_splAI['SpliceAI_pred_DS_DL']==0)&\n",
    "                      (ben_splAI['MaxEntScan_diff'].notnull())&(ben_splAI['ada_score']<0.001)&\n",
    "                      (ben_splAI['rf_score']<0.001)].reset_index(drop=True)\n",
    "ben_splAI_xlsx = xlsx_df(ben_splAI)\n",
    "\n",
    "# in excel file\n",
    "writer = pd.ExcelWriter('03_prioritized_xlsx/control_vars.xlsx')\n",
    "path_splAI_xlsx.to_excel(writer, index=False, sheet_name='pos_crtl_path_high_splAI')\n",
    "ben_splAI_xlsx.to_excel(writer, index=False, sheet_name='neg_crtl_benign_low_scores')\n",
    "writer.save()"
   ]
  },
  {
   "cell_type": "markdown",
   "id": "1763dd29",
   "metadata": {},
   "source": [
    "## Allele Frequency gnomAD"
   ]
  },
  {
   "cell_type": "code",
   "execution_count": null,
   "id": "749375e3",
   "metadata": {},
   "outputs": [],
   "source": [
    "# AF by gnomAD ('max_gnomAD_AF') --> 15,174 rows (6,331 variants), all variants < 0.005 AF because of cutoff Naga\n",
    "gnomAD_af = naga_all[naga_all['max_gnomAD_AF'].notnull()].copy()\n",
    "gnomAD_af['max_gnomAD_AF'] = gnomAD_af['max_gnomAD_AF'].astype(float)"
   ]
  },
  {
   "cell_type": "markdown",
   "id": "e9f2cc70",
   "metadata": {},
   "source": [
    "## Redundant variants"
   ]
  },
  {
   "cell_type": "code",
   "execution_count": null,
   "id": "41e7e032",
   "metadata": {},
   "outputs": [],
   "source": [
    "red_vars = naga_all[['#CHROM', 'POS', 'REF', 'ALT']].value_counts()\n",
    "red_vars = red_vars[red_vars>5]"
   ]
  },
  {
   "cell_type": "code",
   "execution_count": null,
   "id": "e31e1031",
   "metadata": {},
   "outputs": [],
   "source": [
    "red_vars_df = naga_all.copy()\n",
    "red_vars_df_splAI = red_vars_df[columns_df_prior][(red_vars_df['SpliceAI_pred_DS_AG'].notnull())].copy()\n",
    "red_vars_df_splAI = make_float(red_vars_df_splAI)\n",
    "red_vars_splAI = []\n",
    "for (c,p,r,a), ct in zip(red_vars.index, red_vars):\n",
    "    df = red_vars_df_splAI[\n",
    "        ((red_vars_df_splAI['#CHROM']==c)&(red_vars_df_splAI['POS']==p)&\n",
    "         (red_vars_df_splAI['REF']==r)&(red_vars_df_splAI['ALT']==a))&\n",
    "        ((red_vars_df_splAI['SpliceAI_pred_DS_AG']>0)|(red_vars_df_splAI['SpliceAI_pred_DS_AL']>0)|\n",
    "         (red_vars_df_splAI['SpliceAI_pred_DS_DG']>0)|(red_vars_df_splAI['SpliceAI_pred_DS_DL']>0))\n",
    "    ].reset_index(drop=True)\n",
    "    if df.empty == False:\n",
    "        list_df = [df.iloc[0][i] for i in columns_df_prior[:-1]]\n",
    "        list_df.append(list(df['PID']))\n",
    "        red_vars_splAI.append(list_df)"
   ]
  },
  {
   "cell_type": "code",
   "execution_count": null,
   "id": "c9f24d02",
   "metadata": {},
   "outputs": [],
   "source": [
    "red_vars_splAI_xlsx = pd.DataFrame(red_vars_splAI, columns=columns_df_xlsx)\n",
    "red_vars_splAI_xlsx = red_vars_splAI_xlsx.join(pd.DataFrame(red_vars_splAI_xlsx['PIDs'].to_list())\n",
    "                                              ).drop(columns='PIDs')\n",
    "red_vars_splAI_xlsx.to_excel('03_prioritized_xlsx/redundant_vars_new.xlsx', sheet_name='redundant_vars_o6', \n",
    "                             index=False)"
   ]
  },
  {
   "cell_type": "markdown",
   "id": "e09f06aa",
   "metadata": {},
   "source": [
    "## One patient, many variants"
   ]
  },
  {
   "cell_type": "code",
   "execution_count": null,
   "id": "f62764ea",
   "metadata": {},
   "outputs": [],
   "source": [
    "# circos plot would be possible\n",
    "by_patient = naga_all['PID'].value_counts()\n",
    "by_patient_20x = by_patient[by_patient>19]\n",
    "#len(by_patient), len(by_patient_20x)"
   ]
  },
  {
   "cell_type": "markdown",
   "id": "d5d2b64e",
   "metadata": {},
   "source": [
    "## Overlap between prioritized variant categorizations"
   ]
  },
  {
   "cell_type": "code",
   "execution_count": null,
   "id": "5d2d3395",
   "metadata": {},
   "outputs": [],
   "source": [
    "# overlap between spliceAI, position relative to ss --> 117 rows\n",
    "# overlap between spliceAI, position relative to ss, MaxEntScan disr_high --> 115 rows\n",
    "# overlap between spliceAI, position relative to ss, MaxEntScan disr_high, dbscSNV_high --> 114 rows, 52 variants\n",
    "splAI_rel = pd.merge(spl_ai_df[['#CHROM', 'POS', 'REF', 'ALT', 'PID']], \n",
    "                        pos_rel_df[['#CHROM', 'POS', 'REF', 'ALT', 'PID']], how='inner')\n",
    "splAI_rel_MES = pd.merge(splAI_rel, \n",
    "                         disr_high[['#CHROM', 'POS', 'REF', 'ALT', 'PID']], how='inner')\n",
    "splAI_rel_MES_dbsc = pd.merge(splAI_rel_MES, \n",
    "                              dbscSNV_high[['#CHROM', 'POS', 'REF', 'ALT', 'PID']], how = 'inner')\n",
    "naga_all_merge = pd.merge(splAI_rel_MES_dbsc, naga_all, on=['#CHROM', 'POS', 'REF', 'ALT', 'PID'], how='inner')"
   ]
  },
  {
   "cell_type": "code",
   "execution_count": null,
   "id": "4cb81816",
   "metadata": {},
   "outputs": [],
   "source": [
    "# with _xlsx dataframes, variant-specific\n",
    "splAI_rel2 = pd.merge(spl_ai_df_xlsx[['#CHROM', 'POS', 'REF', 'ALT']], \n",
    "                        pos_rel_df_xlsx[['#CHROM', 'POS', 'REF', 'ALT']], how='inner')\n",
    "splAI_rel_MES2 = pd.merge(splAI_rel2, \n",
    "                         disr_high_xlsx[['#CHROM', 'POS', 'REF', 'ALT']], how='inner')\n",
    "splAI_rel_MES_dbsc2 = pd.merge(splAI_rel_MES2, \n",
    "                              dbscSNV_high_xlsx[['#CHROM', 'POS', 'REF', 'ALT']], how = 'inner')\n",
    "splAI_rel_MES_dbsc_red2 = pd.merge(splAI_rel_MES_dbsc2, \n",
    "                                   red_vars_splAI_xlsx[['#CHROM', 'POS', 'REF', 'ALT']], how = 'inner')\n",
    "#naga_all_merge2 = pd.merge(splAI_rel_MES_dbsc, naga_all, on=['#CHROM', 'POS', 'REF', 'ALT', 'PID'], how='inner')"
   ]
  },
  {
   "cell_type": "code",
   "execution_count": null,
   "id": "8dfa9f57",
   "metadata": {},
   "outputs": [],
   "source": [
    "merge2 = pd.merge(splAI_rel_MES_dbsc_red2, red_vars_splAI_xlsx, on=['#CHROM', 'POS', 'REF', 'ALT'], how='left')\n",
    "merge_wona = merge2.copy()\n",
    "merge_wona.dropna(axis=1, how='all', inplace=True)\n",
    "merge_wona"
   ]
  },
  {
   "cell_type": "code",
   "execution_count": null,
   "id": "c16746f4",
   "metadata": {},
   "outputs": [],
   "source": [
    "naga_all_merge[columns_df_prior].to_excel('03_prioritized_xlsx/prioriz_naga_vars.xlsx', index=False, \n",
    "                                          sheet_name='SplAI,Pos<3,MES,dbscSNV')"
   ]
  },
  {
   "cell_type": "code",
   "execution_count": null,
   "id": "5e4c2336",
   "metadata": {},
   "outputs": [],
   "source": [
    "# overlap high in spliceAI and create new splice site and position rel. to ss > 15 --> \n",
    "splAI_rel_MES_newSS = new_high[(new_high['SpliceAI_pred_DS_DG'].notnull())].copy()\n",
    "splAI_rel_MES_newSS = make_float(splAI_rel_MES_newSS)\n",
    "splAI_rel_MES_newSS =splAI_rel_MES_newSS[\n",
    "                               ((splAI_rel_MES_newSS['SpliceAI_pred_DS_AG']>0.2)|\n",
    "                                (splAI_rel_MES_newSS['SpliceAI_pred_DS_AL']>0.2)|\n",
    "                                (splAI_rel_MES_newSS['SpliceAI_pred_DS_DG']>0.2)|\n",
    "                                (splAI_rel_MES_newSS['SpliceAI_pred_DS_DL']>0.2))]"
   ]
  },
  {
   "cell_type": "code",
   "execution_count": null,
   "id": "adafc357",
   "metadata": {},
   "outputs": [],
   "source": []
  }
 ],
 "metadata": {
  "kernelspec": {
   "display_name": "Python 3",
   "language": "python",
   "name": "python3"
  },
  "language_info": {
   "codemirror_mode": {
    "name": "ipython",
    "version": 3
   },
   "file_extension": ".py",
   "mimetype": "text/x-python",
   "name": "python",
   "nbconvert_exporter": "python",
   "pygments_lexer": "ipython3",
   "version": "3.9.5"
  }
 },
 "nbformat": 4,
 "nbformat_minor": 5
}
