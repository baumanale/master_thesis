{
 "cells": [
  {
   "cell_type": "code",
   "execution_count": null,
   "id": "5b3840a9",
   "metadata": {},
   "outputs": [],
   "source": [
    "import matplotlib.pyplot as plt\n",
    "from matplotlib import cm\n",
    "import pandas as pd\n",
    "import numpy as np\n",
    "import matplotlib.ticker as tick\n",
    "import plotly.graph_objects as go"
   ]
  },
  {
   "cell_type": "code",
   "execution_count": null,
   "id": "0d28e04b",
   "metadata": {},
   "outputs": [],
   "source": [
    "all_vars = pd.read_pickle('all_annotated_variants')\n",
    "all_vars = right_type(all_vars)\n",
    "# unique variants\n",
    "wo_dup = all_vars.drop_duplicates(cols_cpra)"
   ]
  },
  {
   "cell_type": "code",
   "execution_count": null,
   "id": "ec54f48e",
   "metadata": {},
   "outputs": [],
   "source": [
    "# function to search for specific name in column\n",
    "def search_col(df, inp):\n",
    "    return [i for i in df.columns if inp.lower() in i.lower()]\n",
    "\n",
    "# function to make spliceAI prediction scores into floats\n",
    "def make_float(df):\n",
    "    for i in ['AG', 'AL', 'DG', 'DL']:\n",
    "        df[('SpliceAI_pred_DS_'+i)]=df[('SpliceAI_pred_DS_'+i)].astype(float)\n",
    "    for i in ['ada_score', 'rf_score', 'MaxEntScan_diff', 'MaxEntScan_alt', 'MaxEntScan_ref']:\n",
    "        df[i] = df[i].astype(float)\n",
    "    return df\n",
    "\n",
    "def right_type(df):\n",
    "    dfn = df.copy()\n",
    "    dfn[['#CHROM', 'REF', 'ALT']] = dfn[['#CHROM', 'REF', 'ALT']].astype(str)\n",
    "    dfn['POS'] = dfn['POS'].astype(int)\n",
    "    dfn['PosExon_type'] = dfn['PosExon_type'].replace({'outsideDonor':'outsideDonorSite', \n",
    "                                                       'insideDonor':'insideDonorSite'})\n",
    "    dfn['ClinVar_Pathogenicity'] = dfn['ClinVar_Pathogenicity'].replace(\n",
    "        {'Uncertain significance':'Uncertain Significance', 'uncertain_significance':'Uncertain Significance', \n",
    "         'not_provided':np.nan})\n",
    "    dfn = make_float(dfn)\n",
    "    return dfn\n",
    "\n",
    "cols_cpra = ['#CHROM', 'POS', 'REF', 'ALT']"
   ]
  },
  {
   "cell_type": "markdown",
   "id": "97cbd536",
   "metadata": {},
   "source": [
    "#### Splice prediction scores"
   ]
  },
  {
   "cell_type": "code",
   "execution_count": null,
   "id": "7239fb0b",
   "metadata": {},
   "outputs": [],
   "source": [
    "mes_s = len(wo_dup[wo_dup['MaxEntScan_diff'].notnull()])\n",
    "mes_ns = len(wo_dup[wo_dup['MaxEntScan_diff'].isnull()])\n",
    "ar_s = len(wo_dup[(wo_dup['ada_score'].notnull())&(wo_dup['rf_score'].notnull())])\n",
    "ar_ns = len(wo_dup[(wo_dup['ada_score'].isnull())|(wo_dup['rf_score'].isnull())])\n",
    "spl_s = len(wo_dup[wo_dup['SpliceAI_pred_DS_AG'].notnull()])\n",
    "spl_ns = len(wo_dup[wo_dup['SpliceAI_pred_DS_AG'].isnull()])"
   ]
  },
  {
   "cell_type": "code",
   "execution_count": null,
   "id": "a6bfbfaa",
   "metadata": {},
   "outputs": [],
   "source": [
    "fig, axes = plt.subplots(figsize=(14,5))\n",
    "\n",
    "for a,s,ns,n in zip([plt.subplot(1,3,n) for n in [1,2,3]], [mes_s, ar_s, spl_s], [mes_ns, ar_ns, spl_ns], \n",
    "                    ['A: MaxEntScan', 'B: Ada-/Rf-score', 'C: SpliceAI']):\n",
    "    a.pie([s, ns], labels=['score', 'no score'], counterclock=False, startangle=90, explode=(0.1, 0), \n",
    "          autopct='%1.1f%%', shadow=True, colors=['cornflowerblue', 'orange'], textprops={'size':'16'})\n",
    "    a.set_title(n, fontdict={'fontsize':'20', 'fontweight':'bold'}, loc='left')\n",
    "\n",
    "plt.tight_layout()\n",
    "plt.savefig('perc_splice_scores.png')"
   ]
  },
  {
   "cell_type": "markdown",
   "id": "9e4d8633",
   "metadata": {},
   "source": [
    "#### Gene priorities for unique variants"
   ]
  },
  {
   "cell_type": "code",
   "execution_count": null,
   "id": "2a3cd716",
   "metadata": {},
   "outputs": [],
   "source": [
    "gene_prios_n = [0.079155032171907, 0.24244263688236, 0.101736068957145, 0.576666261988588]\n",
    "gene_prios_c = ['Hot', 'Warm without GUS', 'Warm GUS', 'Cold']\n",
    "theme = plt.get_cmap('RdYlBu')\n",
    "\n",
    "fig, axes = plt.subplots(figsize=(12,5))\n",
    "\n",
    "ax1 = plt.subplot(1,1,1)\n",
    "ax1.set_prop_cycle('color', [theme(1.*i/len(gene_prios_n)) for i in range(len(gene_prios_n))])\n",
    "ax1.pie(gene_prios_n, counterclock=False, startangle=90, explode=(0.05, 0.05, 0.05, 0.05), shadow=True)\n",
    "\n",
    "lg = plt.legend(labels=['%s genes: %1.1f%%' %(c, n*100) for c,n in zip(gene_prios_c, gene_prios_n)], \n",
    "                bbox_to_anchor=(1,0.7), prop={'size':18})\n",
    "lg.set_title('$\\\\bf{Gene\\ category}$', prop={'size':18})\n",
    "\n",
    "plt.tight_layout()\n",
    "plt.gcf().subplots_adjust(bottom = 0.02, top = 0.98, left = 0.01, right = 0.5)\n",
    "\n",
    "plt.savefig('perc_gene_prio.png')"
   ]
  },
  {
   "cell_type": "markdown",
   "id": "47e9b245",
   "metadata": {},
   "source": [
    "#### ClinVar assessments"
   ]
  },
  {
   "cell_type": "code",
   "execution_count": null,
   "id": "688332be",
   "metadata": {},
   "outputs": [],
   "source": [
    "wo_dup['ClinVar_Pathogenicity'][wo_dup['ClinVar_Pathogenicity'].notnull()].value_counts()"
   ]
  },
  {
   "cell_type": "code",
   "execution_count": null,
   "id": "59818ea0",
   "metadata": {},
   "outputs": [],
   "source": [
    "fig, axes = plt.subplots(figsize=(12,7))\n",
    "ax1 = plt.subplot(1,1,1)\n",
    "ax1.pie([727, 876, 1230, 19, 82], counterclock=False, startangle=90, explode=(0.05,0.05,0.05,0.05,0.05),\n",
    "        colors=['green', 'yellow', 'grey', 'orange', 'red'])\n",
    "ax1.legend(['%s: %1.1f%%' %(cat, num/2934*100) for cat, num in \n",
    "            zip(['Benign', 'Likely Benign', 'Uncertain Significance', 'Likely Pathogenic', 'Pathogenic'], \n",
    "                [727, 876, 1230, 19, 82])], bbox_to_anchor=(1, 0.7), fontsize=16, title_fontsize=16,\n",
    "           title=r'$\\bf{ClinVar\\ characterization}$')\n",
    "plt.gcf().subplots_adjust(bottom = 0, top = 1, left = 0.01, right = 0.6)\n",
    "plt.savefig('clinvar_perc.png')"
   ]
  },
  {
   "cell_type": "markdown",
   "id": "2b2c89da",
   "metadata": {},
   "source": [
    "#### Connections between evaluation groups"
   ]
  },
  {
   "cell_type": "code",
   "execution_count": null,
   "id": "e6b7574e",
   "metadata": {},
   "outputs": [],
   "source": [
    "fig = go.Figure(data=[go.Sankey(\n",
    "    node = dict(\n",
    "      pad = 15,\n",
    "      thickness = 20,\n",
    "      line = dict(color = \"black\", width = 0.5),\n",
    "      label = ['ClinVar Pathogenic', 'ClinVar Likely Pathogenic', 'ClinVar VUS', 'ClinVar Likely Benign','ClinVar Benign', \n",
    "               'QCI Pathogenic', 'QCI Likely Pathogenic', 'QCI VUS', 'QCI Likely Benign','QCI Benign',\n",
    "               'RNA Pathogenic', 'RNA Likely Pathogenic', 'RNA VUS', 'RNA Likely Benign', 'RNA Benign'],\n",
    "      color = 3*['red','orange','grey','lime','green']\n",
    "    ),\n",
    "    link = dict(\n",
    "      source = [0, 1, 1, 2, 2, 2, 2, 2, 3, 3, # indices correspond to labels\n",
    "                5, 6, 6, 6, 7, 7, 8, 9],\n",
    "      target = [5, 5, 6, 5, 6, 7, 8, 9, 7, 8,\n",
    "                10, 10, 11, 12, 11, 12, 12, 12],\n",
    "      value =  [8, 3, 1, 3, 12, 8, 1, 1, 2, 0,\n",
    "                14, 3, 8, 2, 2, 8, 1, 1]\n",
    "  ))])\n",
    "\n",
    "#fig.update_layout(title_text=\"Sankey Diagram ClinVar to RNA-seq\", font_size=10)\n",
    "fig.show()\n",
    "fig.write_html('sankey_clinvar_qci_rna.html')"
   ]
  }
 ],
 "metadata": {
  "kernelspec": {
   "display_name": "Python 3",
   "language": "python",
   "name": "python3"
  },
  "language_info": {
   "codemirror_mode": {
    "name": "ipython",
    "version": 3
   },
   "file_extension": ".py",
   "mimetype": "text/x-python",
   "name": "python",
   "nbconvert_exporter": "python",
   "pygments_lexer": "ipython3",
   "version": "3.9.1"
  }
 },
 "nbformat": 4,
 "nbformat_minor": 5
}
