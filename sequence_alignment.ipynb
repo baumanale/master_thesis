{
 "cells": [
  {
   "cell_type": "code",
   "execution_count": 1,
   "id": "a3b2df3d",
   "metadata": {},
   "outputs": [],
   "source": [
    "import pandas as pd\n",
    "import numpy as np\n",
    "from Bio.Seq import Seq\n",
    "from Bio.Align import PairwiseAligner\n",
    "from Bio import pairwise2\n",
    "from Bio.pairwise2 import format_alignment\n",
    "import os\n",
    "import pickle"
   ]
  },
  {
   "cell_type": "code",
   "execution_count": 2,
   "id": "1ea79259",
   "metadata": {},
   "outputs": [],
   "source": [
    "variants = pd.read_pickle('00_dataframes/cDNA_protSeq_first_vars')"
   ]
  },
  {
   "cell_type": "code",
   "execution_count": 3,
   "id": "f393c4ae",
   "metadata": {},
   "outputs": [],
   "source": [
    "with open('prot_seqs_folding.txt', 'w') as o:\n",
    "    for sc, gene, alt, ref in zip(variants['shortcut'], variants['HUGO_Symbol'], \n",
    "                                  variants['termin_prot'], variants['ref_protein_seq']):\n",
    "        o.write('>%s\\n%s\\n>%s\\n%s\\n'%(sc,alt,gene,ref))"
   ]
  },
  {
   "cell_type": "code",
   "execution_count": 4,
   "id": "182bb62b",
   "metadata": {},
   "outputs": [],
   "source": [
    "# import InterProScan TSVs as df-dictionary\n",
    "files = os.listdir('03_for_cDNA/00_ip_scans')\n",
    "ip_dfs = {}\n",
    "for file in files:\n",
    "    df = pd.read_csv(('03_for_cDNA/00_ip_scans/'+file), sep='\\t', \n",
    "                      names=['seq', 'ID', 'prot_len', 'where_data_from', 'domain_short', 'info_domain', 'start_pos',\n",
    "                             'end_pos', 'probab', 'sth', 'date', 'ipr_id', 'more_info', 'go_id', 'many'], \n",
    "                      usecols=['where_data_from', 'domain_short', 'info_domain', 'start_pos', 'end_pos',\n",
    "                                'ipr_id', 'more_info', 'go_id'])\n",
    "    ip_dfs[file.split('_')[1].split('.')[0].upper()] = df.sort_values(by=['start_pos', 'end_pos']\n",
    "                                                                     ).reset_index(drop=True)"
   ]
  },
  {
   "cell_type": "code",
   "execution_count": 41,
   "id": "7a00f7ea",
   "metadata": {},
   "outputs": [],
   "source": [
    "#pickle.dump(ip_dfs, open('00_dataframes/ips_dict', 'wb'))"
   ]
  },
  {
   "cell_type": "code",
   "execution_count": 5,
   "id": "dc1cdbaf",
   "metadata": {},
   "outputs": [],
   "source": [
    "# check, which domains are effected\n",
    "def check_domains(ind):\n",
    "    domains = []\n",
    "    gene = variants.iloc[ind]['HUGO_Symbol']\n",
    "    pos_prot_change = variants.iloc[ind]['prot_change_pos']\n",
    "    if gene in ip_dfs.keys() and type(pos_prot_change) == int:\n",
    "        ip_scan = ip_dfs[variants.iloc[ind]['HUGO_Symbol']]\n",
    "        for s,e,dom in zip(ip_scan['start_pos'], ip_scan['end_pos'], ip_scan['domain_short']):\n",
    "            if pos_prot_change >= s and pos_prot_change <= e:\n",
    "                domains.append(dom)\n",
    "    return domains\n",
    "\n",
    "# check, which domains are deleted\n",
    "def deleted_domains(ind):\n",
    "    domains = []\n",
    "    gene = variants.iloc[ind]['HUGO_Symbol']\n",
    "    pos_prot_change = variants.iloc[ind]['prot_change_pos']\n",
    "    termin_prot_len = variants.iloc[ind]['termin_prot_len']\n",
    "    if gene in ip_dfs.keys() and type(pos_prot_change) == int:\n",
    "        ip_scan = ip_dfs[variants.iloc[ind]['HUGO_Symbol']]\n",
    "        for s,e,dom in zip(ip_scan['start_pos'], ip_scan['end_pos'], ip_scan['domain_short']):\n",
    "            if termin_prot_len <= s:\n",
    "                domains.append(dom)\n",
    "    return domains\n",
    "\n",
    "# new columns with effected/deleted domains\n",
    "variants['domains_effected'] = [check_domains(i) for i in variants.index]\n",
    "variants['domains_deleted'] = [deleted_domains(i) for i in variants.index]"
   ]
  },
  {
   "cell_type": "code",
   "execution_count": 7,
   "id": "f427c321",
   "metadata": {},
   "outputs": [],
   "source": [
    "#variants.to_pickle('03_for_cDNA/vars_prot_ips')"
   ]
  },
  {
   "cell_type": "markdown",
   "id": "640be9c9",
   "metadata": {},
   "source": [
    "### FASTA file with protein sequences/IDs"
   ]
  },
  {
   "cell_type": "code",
   "execution_count": null,
   "id": "4c4710f9",
   "metadata": {},
   "outputs": [],
   "source": [
    "[i for i,t,r in zip(variants.index, variants['termin_prot'], variants['ref_protein_seq']) if abs(len(r)-len(t))<5]"
   ]
  },
  {
   "cell_type": "code",
   "execution_count": null,
   "id": "d6d8457f",
   "metadata": {},
   "outputs": [],
   "source": [
    "# create fasta file with protein sequences and IDs\n",
    "with open('03_for_cDNA/fasta_form_first_seq.fa', 'w') as o:\n",
    "    for i in range(len(variants)):\n",
    "        o.write('>%s alt\\n%s\\n'%(variants.iloc[i]['ID_variant'], variants.iloc[i]['termin_prot']))\n",
    "        o.write('>%s ref\\n%s\\n'%(variants.iloc[i]['ID_variant'], variants.iloc[i]['ref_protein_seq']))"
   ]
  },
  {
   "cell_type": "code",
   "execution_count": null,
   "id": "ec8a6276",
   "metadata": {},
   "outputs": [],
   "source": []
  },
  {
   "cell_type": "markdown",
   "id": "78b17631",
   "metadata": {},
   "source": [
    "### Alignments"
   ]
  },
  {
   "cell_type": "code",
   "execution_count": null,
   "id": "798ba8f1",
   "metadata": {},
   "outputs": [],
   "source": [
    "seq_ref1 = Seq(variants.iloc[9]['ref_protein_seq'][:50])\n",
    "seq_alt1 = Seq(variants.iloc[9]['termin_prot'])"
   ]
  },
  {
   "cell_type": "code",
   "execution_count": null,
   "id": "498494cf",
   "metadata": {},
   "outputs": [],
   "source": [
    "aligner = PairwiseAligner()\n",
    "aligner.mode = 'local'\n",
    "alignments = aligner.align(seq_ref1, seq_alt1)\n",
    "len(alignments)"
   ]
  },
  {
   "cell_type": "code",
   "execution_count": null,
   "id": "7ed999b7",
   "metadata": {},
   "outputs": [],
   "source": [
    "aligner.score(seq_alt1, seq_ref1)"
   ]
  },
  {
   "cell_type": "code",
   "execution_count": null,
   "id": "5e1f69ef",
   "metadata": {},
   "outputs": [],
   "source": [
    "print(aligner)"
   ]
  },
  {
   "cell_type": "code",
   "execution_count": null,
   "id": "f8617a0e",
   "metadata": {},
   "outputs": [],
   "source": [
    "for al in alignments:\n",
    "    print(al)"
   ]
  },
  {
   "cell_type": "code",
   "execution_count": null,
   "id": "e9f313a2",
   "metadata": {},
   "outputs": [],
   "source": [
    "align1 = pairwise2.align.globalxx(seq_ref1, seq_alt1)"
   ]
  },
  {
   "cell_type": "code",
   "execution_count": null,
   "id": "ab015403",
   "metadata": {},
   "outputs": [],
   "source": [
    "len(variants.iloc[9]['termin_prot'])"
   ]
  },
  {
   "cell_type": "code",
   "execution_count": null,
   "id": "545a0ded",
   "metadata": {},
   "outputs": [],
   "source": [
    "pairwise2.align.alignment_function()"
   ]
  },
  {
   "cell_type": "code",
   "execution_count": null,
   "id": "a80c04a4",
   "metadata": {},
   "outputs": [],
   "source": []
  }
 ],
 "metadata": {
  "kernelspec": {
   "display_name": "Python 3",
   "language": "python",
   "name": "python3"
  },
  "language_info": {
   "codemirror_mode": {
    "name": "ipython",
    "version": 3
   },
   "file_extension": ".py",
   "mimetype": "text/x-python",
   "name": "python",
   "nbconvert_exporter": "python",
   "pygments_lexer": "ipython3",
   "version": "3.9.5"
  }
 },
 "nbformat": 4,
 "nbformat_minor": 5
}
