{
 "cells": [
  {
   "cell_type": "code",
   "execution_count": null,
   "id": "798a5fd1",
   "metadata": {},
   "outputs": [],
   "source": [
    "import pandas as pd\n",
    "import matplotlib.pyplot as plt\n",
    "import numpy as np"
   ]
  },
  {
   "cell_type": "markdown",
   "id": "997215eb",
   "metadata": {},
   "source": [
    "#### Functions"
   ]
  },
  {
   "cell_type": "code",
   "execution_count": null,
   "id": "b70fa9f5",
   "metadata": {},
   "outputs": [],
   "source": [
    "# function to search for specific name in column\n",
    "def search_col(df,inp):\n",
    "    return [i for i in df.columns if inp.lower() in i.lower()]"
   ]
  },
  {
   "cell_type": "code",
   "execution_count": null,
   "id": "a51594dc",
   "metadata": {},
   "outputs": [],
   "source": [
    "# function to make spliceAI prediction scores into floats\n",
    "def make_float(df):\n",
    "    for i in ['AG', 'AL', 'DG', 'DL']:\n",
    "        df[('SpliceAI_pred_DS_'+i)]=df[('SpliceAI_pred_DS_'+i)].astype(float)\n",
    "    for i in ['ada_score', 'rf_score', 'MaxEntScan_diff', 'MaxEntScan_alt', 'MaxEntScan_ref']:\n",
    "        df[i] = df[i].astype(float)\n",
    "    return df"
   ]
  },
  {
   "cell_type": "code",
   "execution_count": null,
   "id": "a73b7c80",
   "metadata": {},
   "outputs": [],
   "source": [
    "# function to make excel tables with one variant per row\n",
    "columns_df_prior = ['#CHROM', 'POS', 'REF', 'ALT', 'MaxEntScan_alt', 'MaxEntScan_diff', 'MaxEntScan_ref', \n",
    "                    'CADD_PHRED', 'SpliceAI_pred_DP_AG', 'SpliceAI_pred_DP_AL', 'SpliceAI_pred_DP_DG', \n",
    "                    'SpliceAI_pred_DP_DL', 'SpliceAI_pred_DS_AG', 'SpliceAI_pred_DS_AL', 'SpliceAI_pred_DS_DG', \n",
    "                    'SpliceAI_pred_DS_DL', 'SpliceAI_pred_SYMBOL', 'ada_score', 'rf_score',\n",
    "                    'PosExonRefSeqAccession', 'PosExon_type', 'ClinVar_Pathogenicity', 'ClinVar_Traits', 'PID']\n",
    "columns_df_xlsx = columns_df_prior[:-1]\n",
    "columns_df_xlsx.extend(['PIDs', 'ct_PIDs'])\n",
    "cols_cpra = ['#CHROM', 'POS', 'REF', 'ALT']\n",
    "\n",
    "def xlsx_df(prio_df):\n",
    "    lists = []\n",
    "    for p,df in prio_df.groupby(by=['#CHROM', 'POS', 'REF', 'ALT']):\n",
    "        df = df.reset_index(drop=True)\n",
    "        list_df = [df.iloc[0][i] for i in columns_df_prior[:-1]]\n",
    "        list_df.append(list(df['PID']))\n",
    "        lists.append(list_df)\n",
    "    return pd.DataFrame(lists, columns=columns_df_xlsx)\n",
    "\n",
    "def xlsx_vars(prio_vars_df, name):\n",
    "    merged = pd.merge(all_variants[columns_df_prior], prio_vars_df, how='inner')\n",
    "    lists = []\n",
    "    for p,df in merged.groupby(by=['#CHROM', 'POS', 'REF', 'ALT']):\n",
    "        df = df.reset_index(drop=True)\n",
    "        list_df = [df.iloc[0][i] for i in columns_df_prior[:-1]]\n",
    "        list_df.extend([list(df['PID']), len(df['PID'])])\n",
    "        lists.append(list_df)\n",
    "    new_df = pd.DataFrame(lists, columns=columns_df_xlsx)\n",
    "    new_df['#CHROM'] = pd.Categorical(new_df['#CHROM'],\n",
    "                                      categories=['1','2','3','4','5','6','7','8','9','10','11','12', '13', '14', \n",
    "                                                  '15', '16', '17', '18', '19', '20', '21', '22', 'X', 'Y'],\n",
    "                                      ordered=True)\n",
    "    new_df.sort_values(by=['ct_PIDs', '#CHROM', 'POS', 'REF', 'ALT'], inplace=True, ignore_index=True, \n",
    "                       ascending=[False, True, True, True, True])\n",
    "    new_df.drop(axis='columns', columns='ct_PIDs', inplace=True)\n",
    "    new_df.to_excel('03_prioritized_xlsx/%s.xlsx'%name, index=False)"
   ]
  },
  {
   "cell_type": "code",
   "execution_count": null,
   "id": "9abaf299",
   "metadata": {},
   "outputs": [],
   "source": [
    "# overview on variants counts for specific prioritizations\n",
    "# any spliceAI score > 0.9\n",
    "def splai_o09(df):\n",
    "    return df[((df['SpliceAI_pred_DS_AG']>0.9)|(df['SpliceAI_pred_DS_AL']>0.9)|\n",
    "               (df['SpliceAI_pred_DS_DG']>0.9)|(df['SpliceAI_pred_DS_DL']>0.9))].copy()\n",
    "\n",
    "# ada/rf score > 0.6\n",
    "def ada_rf_o06(df):\n",
    "    return df[(df['ada_score']>0.6)&\n",
    "              (df['rf_score']>0.6)].copy()\n",
    "\n",
    "# MaxEntScan high disruption of native splice site\n",
    "def MES_disr(df):\n",
    "    return df[(df['MaxEntScan_diff']>=0)&\n",
    "              (df['MaxEntScan_alt']<6.2)].copy()\n",
    "\n",
    "# MaxEntScan high possibility of creating new splice site\n",
    "def MES_new(df):\n",
    "    return df[(df['MaxEntScan_diff']<0)&\n",
    "              (df['MaxEntScan_alt']>8.5)].copy()\n",
    "\n",
    "# position relative to exon/intron boundary less than 3 and in intron\n",
    "def pos_rel_ei(df):\n",
    "    return df[((df['PosExonRefSeqAccession']<3)&\n",
    "               (df['PosExon_type'].isin(['outsideAcceptorSite', 'outsideDonorSite'])))|\n",
    "              ((df['PosExonRefSeqAccession']<2)&\n",
    "               (df['PosExon_type'].isin(['insideAcceptorSite', 'insideDonorSite'])))].copy()\n",
    "\n",
    "# variant categorization per hot/warm/cold genes\n",
    "def gene_prio(df):\n",
    "    gus = ['AKT2', 'AKT3', 'ATR', 'ATRX', 'CDKN1A', 'CDKN2B', 'CDKN2C', 'CDKN2D', 'CEBPA', 'CEP57', 'DAXX', 'EGFR', \n",
    "           'EGLN1', 'EGLN2', 'EPAS1', 'EPHB2', 'ABRAXAS1', 'FANCM', 'GPRC5A', 'HNF1A', 'HORMAD1', 'HORMAD2', 'JAK2',\n",
    "           'KIF1B', 'MAP3K1', 'MAP3K6', 'MDH2', 'MLH3', 'MMS19', 'MN1', 'MRE11', 'PALLD', 'PIK3C2G', 'PIK3R2', \n",
    "           'PMS1', 'PRF1', 'PTCH2', 'RAD50', 'RAD51', 'RECQL', 'RINT1']\n",
    "    not_gus = (set(gus) ^ set(df['HUGO_Symbol'][df['Splice Project Gene Priority']=='Warm (MASTER-ACMG)'].unique()))\n",
    "    df_lst = []\n",
    "    for i,lst in zip(['Hot (ACMG / MASTER)', 'Warm (MASTER-ACMG)', 'Warm (MASTER-ACMG)', 'Cold (387-ACMG-MASTER)'], \n",
    "                     [[''], gus, not_gus, ['']]):\n",
    "        df_lst.append(df[(df['Splice Project Gene Priority']==i)&\n",
    "                         (~df['HUGO_Symbol'].isin(lst))].copy())\n",
    "    return df_lst"
   ]
  },
  {
   "cell_type": "markdown",
   "id": "ce9a5b90",
   "metadata": {},
   "source": [
    "#### DataFrame with all annotations"
   ]
  },
  {
   "cell_type": "code",
   "execution_count": null,
   "id": "6a821da0",
   "metadata": {},
   "outputs": [],
   "source": [
    "all_variants = pd.read_pickle('all_annotated_variants')\n",
    "all_variants['#CHROM'] = pd.Categorical(all_variants['#CHROM'],\n",
    "                                    categories=['1','2','3','4','5','6','7','8','9','10','11','12', '13', '14', \n",
    "                                                '15', '16', '17', '18', '19', '20', '21', '22', 'X', 'Y'],\n",
    "                                    ordered=True)\n",
    "all_variants = all_variants.sort_values(by=['#CHROM', 'POS', 'REF', 'ALT'], ignore_index=True)\n",
    "all_variants['PosExon_type'] = all_variants['PosExon_type'].replace({'insideDonor':'insideDonorSite', \n",
    "                                                             'outsideDonor':'outsideDonorSite'})\n",
    "all_variants = make_float(all_variants)\n",
    "\n",
    "# unique variants\n",
    "vars_grpd = all_variants.drop_duplicates(subset=cols_cpra)"
   ]
  },
  {
   "cell_type": "markdown",
   "id": "a0bf9a85",
   "metadata": {},
   "source": [
    "#### SpliceAI > 0.9"
   ]
  },
  {
   "cell_type": "code",
   "execution_count": null,
   "id": "f28e6b88",
   "metadata": {},
   "outputs": [],
   "source": [
    "vars_grpd_splai = vars_grpd[vars_grpd['SpliceAI_pred_DP_AG'].notnull()].copy()\n",
    "vars_grpd_splai = make_float(vars_grpd_splai)\n",
    "\n",
    "vars_grpd_splai = vars_grpd_splai[cols_cpra][((vars_grpd_splai['SpliceAI_pred_DS_AG']>0.9)|\n",
    "                                              (vars_grpd_splai['SpliceAI_pred_DS_AL']>0.9)|\n",
    "                                              (vars_grpd_splai['SpliceAI_pred_DS_DG']>0.9)|\n",
    "                                              (vars_grpd_splai['SpliceAI_pred_DS_DL']>0.9))\n",
    "                                    ].drop_duplicates(cols_cpra)\n",
    "vars_grpd_splai.reset_index(drop=True, inplace=True)\n",
    "# -> 116 variants"
   ]
  },
  {
   "cell_type": "markdown",
   "id": "b5b03eed",
   "metadata": {},
   "source": [
    "#### MaxEntScan high disruption/creation of splice site"
   ]
  },
  {
   "cell_type": "code",
   "execution_count": null,
   "id": "a00ef6bb",
   "metadata": {},
   "outputs": [],
   "source": [
    "vars_grpd_MaxEntScan = vars_grpd[columns_df_prior][vars_grpd['MaxEntScan_alt'].notnull()].copy()\n",
    "vars_grpd_MaxEntScan[['MaxEntScan_alt', 'MaxEntScan_diff', 'MaxEntScan_ref']] = vars_grpd_MaxEntScan[[\n",
    "    'MaxEntScan_alt', 'MaxEntScan_diff', 'MaxEntScan_ref']].astype(float)\n",
    "\n",
    "# disr_ss = disrupts native splice site, diff > 0\n",
    "disr_ss_vars = vars_grpd_MaxEntScan[(vars_grpd_MaxEntScan['MaxEntScan_diff']>=0)].copy()\n",
    "disr_high_vars = disr_ss_vars[cols_cpra][disr_ss_vars['MaxEntScan_alt']<6.2]\n",
    "disr_mod_vars =disr_ss_vars[cols_cpra][(disr_ss_vars['MaxEntScan_alt']>=6.2)&\n",
    "                                     (disr_ss_vars['MaxEntScan_alt']<=8.5)]\n",
    "disr_low_vars = disr_ss_vars[cols_cpra][disr_ss_vars['MaxEntScan_alt']>8.5]\n",
    "\n",
    "# -> MES high disr -> 417 variants -> too many\n",
    "disr_high_vars = disr_high_vars[disr_high_vars['PosExonRefSeqAccession']<3]\n",
    "# -> 159 variants\n",
    "\n",
    "# new_ss = creates new splice site, diff < 0\n",
    "new_ss_vars = vars_grpd_MaxEntScan[(vars_grpd_MaxEntScan['MaxEntScan_diff']<0)].copy()\n",
    "new_high_vars = new_ss_vars[cols_cpra][new_ss_vars['MaxEntScan_alt']>8.5]\n",
    "new_mod_vars = new_ss_vars[cols_cpra][(new_ss_vars['MaxEntScan_alt']>=6.2)&\n",
    "                                      (new_ss_vars['MaxEntScan_alt']<=8.5)]\n",
    "new_low_vars = new_ss_vars[cols_cpra][new_ss_vars['MaxEntScan_alt']<6.2]\n",
    "\n",
    "# -> MES high new -> 472 variants -> too many\n",
    "new_high_vars = new_high_vars[new_high_vars['PosExonRefSeqAccession']>15]\n",
    "# -> 84 variants"
   ]
  },
  {
   "cell_type": "markdown",
   "id": "005ac265",
   "metadata": {},
   "source": [
    "#### dbscSNV (ada score, rf score) > 0.6"
   ]
  },
  {
   "cell_type": "code",
   "execution_count": null,
   "id": "1d67dfdc",
   "metadata": {},
   "outputs": [],
   "source": [
    "vars_grpd_dbscSNV = vars_grpd[columns_df_prior][vars_grpd['ada_score'].notnull()&\n",
    "                                                vars_grpd['rf_score'].notnull()].copy()\n",
    "vars_grpd_dbscSNV[['ada_score', 'rf_score']] = vars_grpd_dbscSNV[['ada_score', 'rf_score']].astype(float)\n",
    "dbscSNV_high_vars = vars_grpd_dbscSNV[cols_cpra][(vars_grpd_dbscSNV['ada_score']>0.6)&\n",
    "                                                 (vars_grpd_dbscSNV['rf_score']>0.6)].copy()\n",
    "dbscSNV_high_vars.reset_index(drop=True, inplace=True)\n",
    "#dbscSNV_high_xlsx = xlsx_df(dbscSNV_high)\n",
    "\n",
    "# -> 278 variants"
   ]
  },
  {
   "cell_type": "markdown",
   "id": "84c98e49",
   "metadata": {},
   "source": [
    "#### Variant position rel. to splice site intronic +/- 1,2"
   ]
  },
  {
   "cell_type": "code",
   "execution_count": null,
   "id": "d042ed2c",
   "metadata": {},
   "outputs": [],
   "source": [
    "vars_grpd_pos_rel_df = vars_grpd[cols_cpra][(vars_grpd['PosExon_type'].isin(['outsideAcceptorSite', \n",
    "                                                        'outsideDonor']))&(vars_grpd['PosExonRefSeqAccession']<3)]\n",
    "vars_grpd_pos_rel_df.reset_index(drop=True, inplace=True)\n",
    "#pos_rel_df_xlsx = xlsx_df(pos_rel_df)\n",
    "\n",
    "# -> 56 variants"
   ]
  },
  {
   "cell_type": "markdown",
   "id": "6d3f27a5",
   "metadata": {},
   "source": [
    "#### ClinVar assessment for positive/negative controls"
   ]
  },
  {
   "cell_type": "code",
   "execution_count": null,
   "id": "5e14348e",
   "metadata": {},
   "outputs": [],
   "source": [
    "clinvar_unknown_vars = vars_grpd[cols_cpra][(vars_grpd['ClinVar_Pathogenicity']=='Uncertain Significance')|\n",
    "                                            (vars_grpd['ClinVar_Pathogenicity']=='uncertain_significance')|\n",
    "                                            (vars_grpd['ClinVar_Pathogenicity']=='Uncertain significance')|\n",
    "                                            (vars_grpd['ClinVar_Pathogenicity']=='not_provided')|\n",
    "                                            (vars_grpd['ClinVar_Pathogenicity'].isnull())]\n",
    "clinvar_benign_vars = vars_grpd[cols_cpra][(vars_grpd['ClinVar_Pathogenicity']=='Benign')|\n",
    "                                           (vars_grpd['ClinVar_Pathogenicity']=='Likely Benign')]\n",
    "clinvar_patho_vars = vars_grpd[cols_cpra][(vars_grpd['ClinVar_Pathogenicity']=='Pathogenic')|\n",
    "                                          (vars_grpd['ClinVar_Pathogenicity']=='Likely Pathogenic')]\n",
    "\n",
    "# pathogenic: 101 variants -> more filters needed\n",
    "# benign: 1,603 variants -> more filters needed"
   ]
  },
  {
   "cell_type": "code",
   "execution_count": null,
   "id": "e86f189c",
   "metadata": {},
   "outputs": [],
   "source": [
    "# for positive controls: pathogenic, spliceAI>0.9\n",
    "path_splAI = clinvar_patho_vars[clinvar_patho_vars['SpliceAI_pred_DP_AG'].notnull()].copy()\n",
    "path_splAI = make_float(path_splAI)\n",
    "path_splAI = path_splAI[(path_splAI['SpliceAI_pred_DS_AG']>0.9)|(path_splAI['SpliceAI_pred_DS_AL']>0.9)|\n",
    "                        (path_splAI['SpliceAI_pred_DS_DG']>0.9)|(path_splAI['SpliceAI_pred_DS_DL']>0.9)\n",
    "                       ].reset_index(drop=True)\n",
    "\n",
    "# -> 30 variants\n",
    "\n",
    "# for negative controls: benign, spliceAI == 0, rf/ada score < 0.001\n",
    "ben_splAI = clinvar_benign_vars[(clinvar_benign_vars['SpliceAI_pred_DP_AG'].notnull())&\n",
    "                                (clinvar_benign_vars['ada_score'].notnull())].copy()\n",
    "ben_splAI = make_float(ben_splAI)\n",
    "ben_splAI[['ada_score', 'rf_score']] = ben_splAI[['ada_score', 'rf_score']].astype(float)\n",
    "ben_splAI = ben_splAI[(ben_splAI['SpliceAI_pred_DS_AG']==0)&(ben_splAI['SpliceAI_pred_DS_AL']==0)&\n",
    "                      (ben_splAI['SpliceAI_pred_DS_DG']==0)&(ben_splAI['SpliceAI_pred_DS_DL']==0)&\n",
    "                      (ben_splAI['MaxEntScan_diff'].notnull())&(ben_splAI['ada_score']<0.001)&\n",
    "                      (ben_splAI['rf_score']<0.001)].reset_index(drop=True)\n",
    "\n",
    "# -> 46 variants"
   ]
  },
  {
   "cell_type": "markdown",
   "id": "f2d8b488",
   "metadata": {},
   "source": [
    "#### Redundant variants"
   ]
  },
  {
   "cell_type": "code",
   "execution_count": null,
   "id": "b2d57c9a",
   "metadata": {},
   "outputs": [],
   "source": [
    "red_vars = all_variants[['#CHROM', 'POS', 'REF', 'ALT']].value_counts()\n",
    "red_vars = red_vars[red_vars>5]\n",
    "\n",
    "red_vars_df = all_variants.copy()\n",
    "red_vars_df_splAI = red_vars_df[columns_df_prior][(red_vars_df['SpliceAI_pred_DS_AG'].notnull())].copy()\n",
    "red_vars_df_splAI = make_float(red_vars_df_splAI)\n",
    "red_vars_splAI = []\n",
    "for (c,p,r,a), ct in zip(red_vars.index, red_vars):\n",
    "    df = red_vars_df_splAI[\n",
    "        ((red_vars_df_splAI['#CHROM']==c)&(red_vars_df_splAI['POS']==p)&\n",
    "         (red_vars_df_splAI['REF']==r)&(red_vars_df_splAI['ALT']==a))&\n",
    "        ((red_vars_df_splAI['SpliceAI_pred_DS_AG']>0)|(red_vars_df_splAI['SpliceAI_pred_DS_AL']>0)|\n",
    "         (red_vars_df_splAI['SpliceAI_pred_DS_DG']>0)|(red_vars_df_splAI['SpliceAI_pred_DS_DL']>0))\n",
    "    ].reset_index(drop=True)\n",
    "    if df.empty == False:\n",
    "        list_df = [df.iloc[0][i] for i in columns_df_prior[:-1]]\n",
    "        list_df.append(list(df['PID']))\n",
    "        red_vars_splAI.append(list_df)\n",
    "\n",
    "red_vars_splAI_xlsx = pd.DataFrame(red_vars_splAI, columns=columns_df_xlsx[:-1])\n",
    "red_vars_splAI_xlsx = red_vars_splAI_xlsx.join(pd.DataFrame(red_vars_splAI_xlsx['PIDs'].to_list())\n",
    "                                              ).drop(columns='PIDs')\n",
    "\n",
    "# -> 206 variants"
   ]
  },
  {
   "cell_type": "markdown",
   "id": "dbe6503b",
   "metadata": {},
   "source": [
    "#### Hot/Cold splice project gene priority"
   ]
  },
  {
   "cell_type": "code",
   "execution_count": null,
   "id": "ed31a9b5",
   "metadata": {},
   "outputs": [],
   "source": [
    "hot_gene_vars = vars_grpd[cols_cpra][vars_grpd['Splice Project Gene Priority']==\n",
    "                                     'Hot (ACMG / MASTER)'].reset_index(drop=True)\n",
    "warm_gene_vars = vars_grpd[cols_cpra][vars_grpd['Splice Project Gene Priority']==\n",
    "                                      'Warm (MASTER-ACMG)'].reset_index(drop=True)\n",
    "cold_gene_vars = vars_grpd[cols_cpra][vars_grpd['Splice Project Gene Priority']==\n",
    "                                      'Cold (387-ACMG-MASTER)'].reset_index(drop=True)\n",
    "#len(vars_grpd), len(hot_gene_vars), len(warm_gene_vars), len(cold_gene_vars)"
   ]
  }
 ],
 "metadata": {
  "kernelspec": {
   "display_name": "Python 3",
   "language": "python",
   "name": "python3"
  },
  "language_info": {
   "codemirror_mode": {
    "name": "ipython",
    "version": 3
   },
   "file_extension": ".py",
   "mimetype": "text/x-python",
   "name": "python",
   "nbconvert_exporter": "python",
   "pygments_lexer": "ipython3",
   "version": "3.9.1"
  }
 },
 "nbformat": 4,
 "nbformat_minor": 5
}
