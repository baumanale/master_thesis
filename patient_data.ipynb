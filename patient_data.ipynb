{
 "cells": [
  {
   "cell_type": "code",
   "execution_count": 1,
   "id": "7d2b6da7",
   "metadata": {},
   "outputs": [],
   "source": [
    "import pandas as pd\n",
    "import numpy as np"
   ]
  },
  {
   "cell_type": "code",
   "execution_count": 192,
   "id": "89ae5692",
   "metadata": {},
   "outputs": [],
   "source": [
    "def cpra_type(df):\n",
    "    dfn = df.copy()\n",
    "    dfn[['#CHROM', 'REF', 'ALT']] = dfn[['#CHROM', 'REF', 'ALT']].astype(str)\n",
    "    dfn['POS'] = dfn['POS'].astype(int)\n",
    "    return dfn"
   ]
  },
  {
   "cell_type": "code",
   "execution_count": 193,
   "id": "5519dc90",
   "metadata": {},
   "outputs": [],
   "source": [
    "df = pd.read_excel('01_xlsx_files/vars_facts_together.xlsx')\n",
    "gene_lst = pd.read_excel('01_xlsx_files/2021-08-06_gene list confluence.xlsx', sheet_name='Genes (A-Z)')\n",
    "df = pd.merge(df, gene_lst[['Gene', 'Master_Erbgang Predisposition(s)']], left_on='HUGO_Symbol', right_on='Gene',\n",
    "              how='left').drop(axis=1, columns='Gene')\n",
    "df = cpra_type(df)\n",
    "\n",
    "pat_dat_an = pd.read_excel(\n",
    "    '01_xlsx_files/2021-10-11_NCT_MASTER_Onkostar_prioritzed_PIDs_2021-07-06_10-05-37_323.xlsx', \n",
    "    sheet_name='Onkostar_Anmeldung zum MASTER P')\n",
    "pat_dat_tb = pd.read_excel(\n",
    "    '01_xlsx_files/2021-10-11_NCT_MASTER_Onkostar_prioritzed_PIDs_2021-07-06_10-05-37_323.xlsx', \n",
    "    sheet_name='Onkostar_8_Tumorboard_2021-07-0')\n",
    "all_vars = pd.read_pickle('00_dataframes/all_annotated_vars')\n",
    "all_vars = cpra_type(all_vars)"
   ]
  },
  {
   "cell_type": "code",
   "execution_count": 194,
   "id": "dc9df163",
   "metadata": {},
   "outputs": [],
   "source": [
    "df1 = df[['#CHROM', 'POS', 'REF', 'ALT', 'PosExonRefSeqAccession', 'PosExon_type', \n",
    "          'ClinVar_Pathogenicity', 'hgsv_new', 'INFO_IGV', 'too_low_coverage',\n",
    "          'splice_change', 'shortcut', 'Splice Project Gene Priority', 'var_in_blood_perc',\n",
    "          'var_in_tumor_perc', 'counts_coverage', 'perc_coverage', 'loh', 'SNP_nearby',\n",
    "          'WGS_exome', 'NMD_seen', 'info_cDNA', 'more_consequences', 'shortcut_v', \n",
    "          'HUGO_Symbol', 'prob_effect', 'splice_site', 'variants_after_pos',\n",
    "          'seen_in_gepado', 'other_variants_in_patient', 'Anmerkungen',\n",
    "          'own_ACMG_assessment', 'own_ACMG_class', 'qci_disease', 'cancer_types', \n",
    "          'ID_Person', 'KGE_HBOC', 'patient_data_used', 'patient_data',\n",
    "          'Master_Erbgang Predisposition(s)']].copy().drop_duplicates(subset=['#CHROM', 'POS']\n",
    "                                                                     ).reset_index(drop=True)\n",
    "dfm = pd.merge(all_vars[['#CHROM', 'POS', 'REF', 'ALT', 'PID_trans']][all_vars['POS'].isin(df1['POS'])], df1,\n",
    "               on=['#CHROM', 'POS', 'REF', 'ALT'], how='inner')"
   ]
  },
  {
   "cell_type": "code",
   "execution_count": 197,
   "id": "88f5432b",
   "metadata": {},
   "outputs": [],
   "source": [
    "df_pat = pd.merge(dfm, pat_dat_an, left_on='PID_trans', right_on='Patienten-ID', suffixes=('', '_an'))\n",
    "df_pat = pd.merge(df_pat, pat_dat_tb, left_on='PID_trans', right_on='Patienten-ID', suffixes=('_an', '_tb'))"
   ]
  },
  {
   "cell_type": "code",
   "execution_count": 200,
   "id": "9829171d",
   "metadata": {},
   "outputs": [],
   "source": [
    "df_pat.to_excel('02_output_analysis/2021-10-11_onkostar_merged.xlsx', index=False)"
   ]
  },
  {
   "cell_type": "code",
   "execution_count": null,
   "id": "ec502d0a",
   "metadata": {},
   "outputs": [],
   "source": []
  },
  {
   "cell_type": "markdown",
   "id": "dd38f0e9",
   "metadata": {},
   "source": [
    "### Tumor Board Slide Input"
   ]
  },
  {
   "cell_type": "code",
   "execution_count": 1,
   "id": "af2a9cab",
   "metadata": {},
   "outputs": [],
   "source": [
    "import pandas as pd\n",
    "import numpy as np\n",
    "from pptx import Presentation"
   ]
  },
  {
   "cell_type": "code",
   "execution_count": 12,
   "id": "fd4fff38",
   "metadata": {},
   "outputs": [],
   "source": [
    "prs = Presentation('02_output_analysis/VEAUMV_TuBoSlide.pptx')\n",
    "text_runs = []"
   ]
  },
  {
   "cell_type": "code",
   "execution_count": 13,
   "id": "a931ce01",
   "metadata": {},
   "outputs": [],
   "source": [
    "for slide in prs.slides:\n",
    "    for shape in slide.shapes:\n",
    "        if not shape.has_text_frame:\n",
    "            continue\n",
    "        for par in shape.text_frame.paragraphs:\n",
    "            for run in par.runs:\n",
    "                text_runs.append(run.text)"
   ]
  },
  {
   "cell_type": "code",
   "execution_count": 14,
   "id": "ddfb2efa",
   "metadata": {},
   "outputs": [
    {
     "name": "stdout",
     "output_type": "stream",
     "text": [
      "78%\n"
     ]
    }
   ],
   "source": [
    "for i in text_runs:\n",
    "    if 'Purity' in i:\n",
    "        print(i.split('Purity: ')[1])"
   ]
  },
  {
   "cell_type": "code",
   "execution_count": 15,
   "id": "83b1e7a5",
   "metadata": {},
   "outputs": [
    {
     "data": {
      "text/plain": [
       "['VEAUMV – (BER-187) Kolonkarzinom, HEP Met',\n",
       " 'snv = single nucleotide variant, in = insertion, del = deletion, amp = amplification, exp+ = increased expression',\n",
       " 'exp- = decreased expression, fus = fusion, sv = structural variant',\n",
       " 'Sequencing: WES+RNA       Ploidy: 2       Purity: 78%',\n",
       " 'HRD: 2 LST: 2        MSIsensor: 0.33',\n",
       " 'Signatures: AC18 unknown 79% CI=[76,106], AC10 altered POL E 17% CI=[14,27], AC4 tobacco mutagens, benzo(a)pyrene 5% CI=[-9,42]',\n",
       " 'RNA',\n",
       " ' 81% mapping rate, 47% duplication rate, 85M library size',\n",
       " '0',\n",
       " '100',\n",
       " 'Mutational Load of the Tumor',\n",
       " '                                                                                                         ▼']"
      ]
     },
     "execution_count": 15,
     "metadata": {},
     "output_type": "execute_result"
    }
   ],
   "source": [
    "text_runs"
   ]
  },
  {
   "cell_type": "code",
   "execution_count": null,
   "id": "ab3434ce",
   "metadata": {},
   "outputs": [],
   "source": []
  }
 ],
 "metadata": {
  "kernelspec": {
   "display_name": "Python 3",
   "language": "python",
   "name": "python3"
  },
  "language_info": {
   "codemirror_mode": {
    "name": "ipython",
    "version": 3
   },
   "file_extension": ".py",
   "mimetype": "text/x-python",
   "name": "python",
   "nbconvert_exporter": "python",
   "pygments_lexer": "ipython3",
   "version": "3.9.5"
  }
 },
 "nbformat": 4,
 "nbformat_minor": 5
}
