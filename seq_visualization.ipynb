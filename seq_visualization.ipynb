{
 "cells": [
  {
   "cell_type": "code",
   "execution_count": 1,
   "id": "9481b88b",
   "metadata": {},
   "outputs": [],
   "source": [
    "import matplotlib.pyplot as plt\n",
    "import matplotlib.patches as pplt\n",
    "import seaborn as sns\n",
    "import pandas as pd\n",
    "import numpy as np\n",
    "import pickle\n",
    "from gtfparse import read_gtf"
   ]
  },
  {
   "cell_type": "code",
   "execution_count": 2,
   "id": "bf7328e8",
   "metadata": {},
   "outputs": [],
   "source": [
    "variants = pd.read_pickle('03_for_cDNA/vars_prot_ips')\n",
    "ips_dict = pickle.load(open('00_dataframes/ips_dict', 'rb'))\n",
    "all_vars = pd.read_pickle('00_dataframes/all_annotated_vars')"
   ]
  },
  {
   "cell_type": "code",
   "execution_count": 3,
   "id": "7610ac85",
   "metadata": {},
   "outputs": [],
   "source": [
    "def search_col(df, inp):\n",
    "    return [i for i in df.columns if inp.lower() in (i.lower())]"
   ]
  },
  {
   "cell_type": "code",
   "execution_count": 8,
   "id": "3c1b8e48",
   "metadata": {},
   "outputs": [],
   "source": [
    "#variants[['#CHROM', 'pos_last', 'pos_next', 'kind', 'shortcut', 'strand',\n",
    "#       'HUGO_Symbol', 'RefSeq accession', 'cDNA_len',\n",
    "#       'termin_prot_len', 'ref_cDNA_len', 'ref_protein_seq_len',\n",
    "#       'nuc_change_pos', 'prot_change_pos', 'aa_next_pos', 'exons_lengths',\n",
    "#       'max_exon', 'len_del_ins', 'changed_exon', 'hgsv_pos',\n",
    "#       'domains_effected', 'domains_deleted']].to_excel('02_output_analysis/variants_aa_pos.xlsx')"
   ]
  },
  {
   "cell_type": "markdown",
   "id": "a636cda8",
   "metadata": {},
   "source": [
    "### InterProScan dictionary"
   ]
  },
  {
   "cell_type": "code",
   "execution_count": 96,
   "id": "e0e9aa4f",
   "metadata": {},
   "outputs": [],
   "source": [
    "dom_eff = variants[(variants['domains_effected'].astype(str)!='[]')|(variants['domains_deleted'].astype(str)!='[]')\n",
    "                  ].copy().reset_index(drop=True)"
   ]
  },
  {
   "cell_type": "code",
   "execution_count": null,
   "id": "a552ccee",
   "metadata": {},
   "outputs": [],
   "source": [
    "# for ips selection: 'where_data_from' --> ProSiteProfiles, MobiDBLite"
   ]
  },
  {
   "cell_type": "markdown",
   "id": "15f930a0",
   "metadata": {},
   "source": [
    "### UniProt domains"
   ]
  },
  {
   "cell_type": "code",
   "execution_count": 18,
   "id": "6603927c",
   "metadata": {},
   "outputs": [],
   "source": [
    "# search for right gene/protein for UniProt ID\n",
    "with open('uniprot_ids.txt', 'w') as o:\n",
    "    for i in sorted(set(variants['HUGO_Symbol'])):\n",
    "        o.write(i+'\\n')"
   ]
  },
  {
   "cell_type": "code",
   "execution_count": 19,
   "id": "8ea375d9",
   "metadata": {},
   "outputs": [
    {
     "name": "stderr",
     "output_type": "stream",
     "text": [
      "/software/miniconda3/envs/Alexandra_DEV/lib/python3.9/site-packages/openpyxl/styles/stylesheet.py:221: UserWarning: Workbook contains no default style, apply openpyxl's default\n",
      "  warn(\"Workbook contains no default style, apply openpyxl's default\")\n"
     ]
    }
   ],
   "source": [
    "# IDs as df\n",
    "exc_uniprot = pd.read_excel('03_for_cDNA/gene_id_uniprot.xlsx')\n",
    "exc_uniprot = exc_uniprot.drop(index=[5, 6, 9, 11], columns=['Entry name', 'Status', 'Gene names', 'Organism'])\n",
    "exc_uniprot = exc_uniprot.rename(columns={'yourlist:M2021091492C7BAECDB1C5C413EE0E0348724B6821DAE3C1':'gene'})"
   ]
  },
  {
   "cell_type": "code",
   "execution_count": 20,
   "id": "5bd38a90",
   "metadata": {},
   "outputs": [],
   "source": [
    "# gff format of UniProt outcome with domains\n",
    "gff = pd.read_csv('03_for_cDNA/uniprot_proteins.gff', sep='\\t', comment='#', \n",
    "                  names=['Entry', 'where_from', 'item', 'start_pos', 'end_pos', 'o0', 'o1', 'o2', 'ids', 'o3'], \n",
    "                  usecols=['Entry', 'item', 'start_pos', 'end_pos', 'ids'])\n",
    "gff = gff[gff['item'].isin(['Domain', 'Nucleotide binding', 'Region', 'Active site', 'Binding site', 'Zinc finger',\n",
    "                            'Site', 'Metal binding', 'Motif', 'Compositional bias', 'Signal peptide', 'Propeptide', \n",
    "                            'Topological domain', 'Transmembrane', 'DNA binding', 'Transit peptide'])]"
   ]
  },
  {
   "cell_type": "code",
   "execution_count": 21,
   "id": "c132c510",
   "metadata": {},
   "outputs": [],
   "source": [
    "# merged gene name and domains\n",
    "up_df = pd.merge(gff, exc_uniprot, on='Entry', how='right')\n",
    "up_df = up_df.drop_duplicates()\n",
    "up_df = up_df[up_df['start_pos'].notnull()]\n",
    "up_df[['start_pos', 'end_pos', 'Length']] = up_df[['start_pos', 'end_pos', 'Length']].astype(int)\n",
    "up_df['info_domain'] = up_df['ids'].str.split('=', expand=True)[1].str.split(';', expand=True)[0]\n",
    "up_df = up_df[['gene', 'Entry', 'start_pos', 'end_pos', 'item', 'info_domain', 'Length', 'Protein names', 'ids']]\n",
    "up_df = up_df.sort_values(by=['gene', 'start_pos', 'end_pos']).reset_index(drop=True)"
   ]
  },
  {
   "cell_type": "code",
   "execution_count": 23,
   "id": "2dda4997",
   "metadata": {},
   "outputs": [],
   "source": [
    "#up_df.to_pickle('00_dataframes/uniprot_domains')"
   ]
  },
  {
   "cell_type": "code",
   "execution_count": 10,
   "id": "3c70968e",
   "metadata": {},
   "outputs": [],
   "source": [
    "#pd.read_pickle('00_dataframes/uniprot_domains').to_excel('02_output_analysis/domains_uniprot.xlsx')"
   ]
  },
  {
   "cell_type": "markdown",
   "id": "981cb0a1",
   "metadata": {},
   "source": [
    "### Protein domain analysis"
   ]
  },
  {
   "cell_type": "code",
   "execution_count": 5,
   "id": "2713751d",
   "metadata": {},
   "outputs": [],
   "source": [
    "up_df = pd.read_pickle('00_dataframes/uniprot_domains')"
   ]
  },
  {
   "cell_type": "markdown",
   "id": "4bdaece7",
   "metadata": {},
   "source": [
    "### Visualization Exons"
   ]
  },
  {
   "cell_type": "code",
   "execution_count": 183,
   "id": "1547c086",
   "metadata": {},
   "outputs": [],
   "source": [
    "def prot_domains(ind, df_var, up_df):\n",
    "    if ind in df_var.index:\n",
    "        prot = df_var.iloc[ind]['HUGO_Symbol']\n",
    "        ips_prot = up_df[up_df['gene']==prot]\n",
    "\n",
    "        prot_change_pos = df_var.iloc[ind]['prot_change_pos']\n",
    "        aa_next_pos = df_var.iloc[ind]['aa_next_pos']\n",
    "        termin_pos = df_var.iloc[ind]['termin_prot_len']\n",
    "\n",
    "        max_pos = df_var.iloc[ind]['ref_protein_seq_len']\n",
    "\n",
    "        seq_alt = df_var.iloc[ind]['protein_seq']\n",
    "        seq_ref = df_var.iloc[ind]['ref_protein_seq']\n",
    "    \n",
    "        if type(prot_change_pos)==int:\n",
    "            try:\n",
    "                seq_alt = seq_alt[prot_change_pos-10:prot_change_pos+9]\n",
    "                seq_ref = seq_ref[prot_change_pos-10:prot_change_pos+9]\n",
    "            except:\n",
    "                seq_alt = seq_alt[prot_change_pos-10:]\n",
    "                seq_ref = seq_ref[prot_change_pos-10:]\n",
    "            seq_match = ''\n",
    "            for a,r in zip(seq_alt, seq_ref):\n",
    "                if a==r:\n",
    "                    seq_match += '|'\n",
    "                else:\n",
    "                    seq_match += ' '\n",
    "\n",
    "            inds = ips_prot.index\n",
    "            starts = ips_prot['start_pos']\n",
    "            ends = ips_prot['end_pos']\n",
    "            ids = ips_prot['info_domain']\n",
    "            ys = np.arange(0.01,1,1/len(ips_prot))\n",
    "\n",
    "            fig = plt.subplots(figsize=(14, 6))\n",
    "            ax1 = plt.subplot(1,1,1)\n",
    "\n",
    "            plt.ylim([0,1])\n",
    "            plt.xlim([0,max_pos])\n",
    "            ax1.get_yaxis().set_visible(False)\n",
    "            ax1.set_xlabel('amino acid position', fontsize=12)\n",
    "            ax1.xaxis.set_label_coords(0.5, -0.1)\n",
    "\n",
    "            ax1.set_title('Protein domains of %s' %prot, fontsize = 18, fontweight = 'bold', loc = 'center')\n",
    "\n",
    "            for i,s,e,y,t in zip(inds, starts, ends, ys, ids):\n",
    "                ax1.add_patch(pplt.Rectangle((s, y), e-s, 0.01, fc = 'black', ec = 'black', alpha = 1))\n",
    "                plt.text(max_pos+5, y, t, size = 13, ha='left')\n",
    "            if prot_change_pos != 'no_change':\n",
    "                ax1.add_patch(pplt.Rectangle((prot_change_pos, 0), 0.01, 1, fc = 'green', ec = 'green', alpha = 1))\n",
    "                if aa_next_pos not in ['probably frameshift', 'error']:\n",
    "                    ax1.add_patch(pplt.Rectangle((prot_change_pos, aa_next_pos), 0.01, 1, fc = 'green', \n",
    "                                                 ec = 'green', alpha = 1))\n",
    "                    plt.text(x=aa_next_pos, y=-0.07, s='aa substitution', ha='center', c='green')\n",
    "            \n",
    "            if aa_next_pos not in ['probably frameshift', 'error']:\n",
    "                ax1.add_patch(pplt.Rectangle((termin_pos+(aa_next_pos-prot_change_pos), 0), 0.01, 1, fc = 'red', \n",
    "                                             ec = 'red', alpha = 1))\n",
    "                plt.text(x=termin_pos+(aa_next_pos-prot_change_pos), y=-0.07, s='stop', ha='center', c='red')\n",
    "            elif aa_next_pos == 'probably frameshift':\n",
    "                ax1.add_patch(pplt.Rectangle((termin_pos, 0), 0.01, 1, fc = 'red', ec = 'red', alpha = 1))\n",
    "                plt.text(x=termin_pos, y=-0.07, s='stop', ha='center', c='red')\n",
    "            \n",
    "            plt.text(x=1, y=0.9, s=seq_alt, size = 15, ha='left', family='monospace')\n",
    "            plt.text(x=1, y=0.85, s=seq_match, size = 15, ha='left', family='monospace')\n",
    "            plt.text(x=1, y=0.8, s=seq_ref, size = 15, ha='left', family='monospace')\n",
    "            plt.gcf().subplots_adjust(bottom = 0.1, top = 0.94, left = 0.01, right = 0.6)\n",
    "        else:\n",
    "            print('no change in protein sequence')\n",
    "    else:\n",
    "        print('index not in dataframe')"
   ]
  },
  {
   "cell_type": "code",
   "execution_count": 184,
   "id": "47634b53",
   "metadata": {
    "scrolled": false
   },
   "outputs": [
    {
     "data": {
      "image/png": "[encoded data removed]",
      "text/plain": [
       "<Figure size 1008x432 with 1 Axes>"
      ]
     },
     "metadata": {
      "needs_background": "light"
     },
     "output_type": "display_data"
    }
   ],
   "source": [
    "prot_domains(0, variants, up_df)"
   ]
  },
  {
   "cell_type": "code",
   "execution_count": 157,
   "id": "aac832e4",
   "metadata": {
    "collapsed": true
   },
   "outputs": [
    {
     "data": {
      "text/html": [
       "<div>\n",
       "<style scoped>\n",
       "    .dataframe tbody tr th:only-of-type {\n",
       "        vertical-align: middle;\n",
       "    }\n",
       "\n",
       "    .dataframe tbody tr th {\n",
       "        vertical-align: top;\n",
       "    }\n",
       "\n",
       "    .dataframe thead th {\n",
       "        text-align: right;\n",
       "    }\n",
       "</style>\n",
       "<table border=\"1\" class=\"dataframe\">\n",
       "  <thead>\n",
       "    <tr style=\"text-align: right;\">\n",
       "      <th></th>\n",
       "      <th>gene</th>\n",
       "      <th>Entry</th>\n",
       "      <th>start_pos</th>\n",
       "      <th>end_pos</th>\n",
       "      <th>item</th>\n",
       "      <th>info_domain</th>\n",
       "      <th>Length</th>\n",
       "      <th>Protein names</th>\n",
       "      <th>ids</th>\n",
       "    </tr>\n",
       "  </thead>\n",
       "  <tbody>\n",
       "    <tr>\n",
       "      <th>630</th>\n",
       "      <td>XPA</td>\n",
       "      <td>P23025</td>\n",
       "      <td>4</td>\n",
       "      <td>97</td>\n",
       "      <td>Region</td>\n",
       "      <td>Interaction with CEP164 and required for UV re...</td>\n",
       "      <td>273</td>\n",
       "      <td>DNA repair protein complementing XP-A cells (X...</td>\n",
       "      <td>Note=Interaction with CEP164 and required for ...</td>\n",
       "    </tr>\n",
       "    <tr>\n",
       "      <th>631</th>\n",
       "      <td>XPA</td>\n",
       "      <td>P23025</td>\n",
       "      <td>26</td>\n",
       "      <td>47</td>\n",
       "      <td>Motif</td>\n",
       "      <td>Nuclear localization signal</td>\n",
       "      <td>273</td>\n",
       "      <td>DNA repair protein complementing XP-A cells (X...</td>\n",
       "      <td>Note=Nuclear localization signal;Ontology_term...</td>\n",
       "    </tr>\n",
       "    <tr>\n",
       "      <th>632</th>\n",
       "      <td>XPA</td>\n",
       "      <td>P23025</td>\n",
       "      <td>105</td>\n",
       "      <td>129</td>\n",
       "      <td>Zinc finger</td>\n",
       "      <td>None</td>\n",
       "      <td>273</td>\n",
       "      <td>DNA repair protein complementing XP-A cells (X...</td>\n",
       "      <td>.</td>\n",
       "    </tr>\n",
       "  </tbody>\n",
       "</table>\n",
       "</div>"
      ],
      "text/plain": [
       "    gene   Entry  start_pos  end_pos         item  \\\n",
       "630  XPA  P23025          4       97       Region   \n",
       "631  XPA  P23025         26       47        Motif   \n",
       "632  XPA  P23025        105      129  Zinc finger   \n",
       "\n",
       "                                           info_domain  Length  \\\n",
       "630  Interaction with CEP164 and required for UV re...     273   \n",
       "631                        Nuclear localization signal     273   \n",
       "632                                               None     273   \n",
       "\n",
       "                                         Protein names  \\\n",
       "630  DNA repair protein complementing XP-A cells (X...   \n",
       "631  DNA repair protein complementing XP-A cells (X...   \n",
       "632  DNA repair protein complementing XP-A cells (X...   \n",
       "\n",
       "                                                   ids  \n",
       "630  Note=Interaction with CEP164 and required for ...  \n",
       "631  Note=Nuclear localization signal;Ontology_term...  \n",
       "632                                                  .  "
      ]
     },
     "execution_count": 157,
     "metadata": {},
     "output_type": "execute_result"
    }
   ],
   "source": [
    "up_df[up_df['gene']=='XPA']"
   ]
  },
  {
   "cell_type": "code",
   "execution_count": 139,
   "id": "a0068e08",
   "metadata": {
    "collapsed": true
   },
   "outputs": [
    {
     "data": {
      "text/plain": [
       "#CHROM                                                                 7\n",
       "pos_last                                                        66459198\n",
       "pos_next                                                        66459207\n",
       "kind                                                                 del\n",
       "shortcut                                                7_66459197_A_G_0\n",
       "strand                                                             minus\n",
       "HUGO_Symbol                                                         SBDS\n",
       "QCI_ID                                            c.253_258+2delAAGCAGGT\n",
       "QCI_analysis           likely pathogenic, activity loss, in domain SB...\n",
       "length_indel                                                           9\n",
       "RefSeq accession                                               NM_016038\n",
       "CHR                                                                    7\n",
       "POS                                                             66459197\n",
       "REF                                                                    A\n",
       "ALT                                                                    G\n",
       "nr                                                                     0\n",
       "cDNA                   ATGTCGATCTTCACCCCCACCAACCAGATCCGCCTAACCAATGTGG...\n",
       "hgsv_pos                                                        66459198\n",
       "ref_n                                                          CCTGCTTAC\n",
       "alt_n                                                                  C\n",
       "protein_seq            MSIFTPTNQIRLTNVAVVRMKRAGKRFEIACYKNKVVGWRSGVEKD...\n",
       "termin_prot            MSIFTPTNQIRLTNVAVVRMKRAGKRFEIACYKNKVVGWRSGVEKD...\n",
       "ref_cDNA               ATGTCGATCTTCACCCCCACCAACCAGATCCGCCTAACCAATGTGG...\n",
       "ref_protein_seq        MSIFTPTNQIRLTNVAVVRMKRAGKRFEIACYKNKVVGWRSGVEKD...\n",
       "cDNA_len                                                             742\n",
       "termin_prot_len                                                       86\n",
       "ref_cDNA_len                                                         750\n",
       "ref_protein_seq_len                                                  250\n",
       "nuc_change_pos                                                       251\n",
       "prot_change_pos                                                       84\n",
       "aa_next_pos                                          probably frameshift\n",
       "len_indel_substit                                                      0\n",
       "exons_lengths          [(1, 1, 128), (2, 129, 258), (3, 259, 459), (4...\n",
       "max_exon                                                               5\n",
       "changed_exon                                                           2\n",
       "domains_effected       [G3DSA:3.30.1250.10, PTHR10927, PTHR10927:SF1,...\n",
       "domains_deleted        [SSF109728, G3DSA:1.10.10.900, PF09377, Coil, ...\n",
       "Name: 66, dtype: object"
      ]
     },
     "execution_count": 139,
     "metadata": {},
     "output_type": "execute_result"
    }
   ],
   "source": [
    "variants.loc[66]"
   ]
  },
  {
   "cell_type": "code",
   "execution_count": 140,
   "id": "7e02d9f9",
   "metadata": {
    "scrolled": false
   },
   "outputs": [
    {
     "data": {
      "text/html": [
       "<div>\n",
       "<style scoped>\n",
       "    .dataframe tbody tr th:only-of-type {\n",
       "        vertical-align: middle;\n",
       "    }\n",
       "\n",
       "    .dataframe tbody tr th {\n",
       "        vertical-align: top;\n",
       "    }\n",
       "\n",
       "    .dataframe thead th {\n",
       "        text-align: right;\n",
       "    }\n",
       "</style>\n",
       "<table border=\"1\" class=\"dataframe\">\n",
       "  <thead>\n",
       "    <tr style=\"text-align: right;\">\n",
       "      <th></th>\n",
       "      <th>termin_prot_len</th>\n",
       "      <th>ref_protein_seq_len</th>\n",
       "      <th>prot_change_pos</th>\n",
       "      <th>aa_next_pos</th>\n",
       "      <th>length_indel</th>\n",
       "    </tr>\n",
       "  </thead>\n",
       "  <tbody>\n",
       "    <tr>\n",
       "      <th>66</th>\n",
       "      <td>86</td>\n",
       "      <td>250</td>\n",
       "      <td>84</td>\n",
       "      <td>probably frameshift</td>\n",
       "      <td>9</td>\n",
       "    </tr>\n",
       "  </tbody>\n",
       "</table>\n",
       "</div>"
      ],
      "text/plain": [
       "    termin_prot_len  ref_protein_seq_len prot_change_pos          aa_next_pos  \\\n",
       "66               86                  250              84  probably frameshift   \n",
       "\n",
       "    length_indel  \n",
       "66             9  "
      ]
     },
     "execution_count": 140,
     "metadata": {},
     "output_type": "execute_result"
    }
   ],
   "source": [
    "variants[['termin_prot_len', 'ref_protein_seq_len', 'prot_change_pos', 'aa_next_pos', 'length_indel']\n",
    "        ][variants['shortcut']=='7_66459197_A_G_0']"
   ]
  },
  {
   "cell_type": "code",
   "execution_count": null,
   "id": "168c67bc",
   "metadata": {},
   "outputs": [],
   "source": []
  },
  {
   "cell_type": "code",
   "execution_count": null,
   "id": "ab293559",
   "metadata": {},
   "outputs": [],
   "source": []
  },
  {
   "cell_type": "code",
   "execution_count": null,
   "id": "13f2c88c",
   "metadata": {},
   "outputs": [],
   "source": []
  }
 ],
 "metadata": {
  "kernelspec": {
   "display_name": "Python 3",
   "language": "python",
   "name": "python3"
  },
  "language_info": {
   "codemirror_mode": {
    "name": "ipython",
    "version": 3
   },
   "file_extension": ".py",
   "mimetype": "text/x-python",
   "name": "python",
   "nbconvert_exporter": "python",
   "pygments_lexer": "ipython3",
   "version": "3.9.5"
  }
 },
 "nbformat": 4,
 "nbformat_minor": 5
}
