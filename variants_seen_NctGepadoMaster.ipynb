{
 "cells": [
  {
   "cell_type": "code",
   "execution_count": 1,
   "id": "d8021715",
   "metadata": {},
   "outputs": [],
   "source": [
    "import pandas as pd\n",
    "import numpy as np"
   ]
  },
  {
   "cell_type": "markdown",
   "id": "a06acc93",
   "metadata": {},
   "source": [
    "### Functions"
   ]
  },
  {
   "cell_type": "code",
   "execution_count": 2,
   "id": "5306239b",
   "metadata": {},
   "outputs": [],
   "source": [
    "def search_col(df, inp):\n",
    "    return [i for i in df.columns if inp in i.lower()]\n",
    "cols_cpra = ['#CHROM', 'POS', 'REF', 'ALT']"
   ]
  },
  {
   "cell_type": "code",
   "execution_count": 3,
   "id": "a09cb3fa",
   "metadata": {},
   "outputs": [],
   "source": [
    "# exclude one pandas dataframe (df2) from another dataframe (df1)\n",
    "# pd.concat([df1, df2, df2]).drop_duplicates(keep=False)"
   ]
  },
  {
   "cell_type": "markdown",
   "id": "5370c153",
   "metadata": {},
   "source": [
    "### Variant input, cleaning known variants from NCT/Gepado/MASTER"
   ]
  },
  {
   "cell_type": "code",
   "execution_count": 4,
   "id": "94a140cd",
   "metadata": {},
   "outputs": [],
   "source": [
    "all_vars = pd.read_pickle('00_dataframes/all_annotated_vars')\n",
    "igv_vars = pd.read_pickle('00_dataframes/igv_vars')\n",
    "known_vars = pd.read_excel('01_xlsx_files/2021-08-12_NCT_gepado_MASTER_variants.xlsx')"
   ]
  },
  {
   "cell_type": "code",
   "execution_count": 5,
   "id": "c43ee5b2",
   "metadata": {},
   "outputs": [],
   "source": [
    "known_vars = known_vars.replace('\\n\\n', np.nan)\n",
    "known_vars['Chr'] = known_vars['Chr'].replace({'0'+str(i):str(i) for i in range(1,10)})\n",
    "known_vars = known_vars.rename(columns={'Chr':'#CHROM', 'Position':'POS', 'Reference Nucleotide':'REF',\n",
    "                                        'Variant Nucleotide':'ALT'})\n",
    "known_vars['PID_trans'] = known_vars['Patient Name'].str.split(',', expand=True)[0]\n",
    "known_vars = known_vars[known_vars['POS'].str.isnumeric()==True].copy()"
   ]
  },
  {
   "cell_type": "code",
   "execution_count": 6,
   "id": "cc6a6c6c",
   "metadata": {},
   "outputs": [],
   "source": [
    "# see, if entries with different names exist\n",
    "#known_vars[['try1', 'try2']] = known_vars['Patient Name'].str.split(', ', expand = True)\n",
    "#known_vars[known_vars['try1']!=known_vars['try2']]\n",
    "#known_vars = known_vars.drop(columns=['try1', 'try2'])\n",
    "# --> 15 entries with different name after ',' -> but all not relevant"
   ]
  },
  {
   "cell_type": "code",
   "execution_count": 6,
   "id": "88dc5803",
   "metadata": {
    "scrolled": true
   },
   "outputs": [],
   "source": [
    "for df in [all_vars, igv_vars, known_vars]:\n",
    "    for i in ['#CHROM', 'REF', 'ALT']:\n",
    "        df[i] = df[i].astype(str)\n",
    "    df['POS'] = df['POS'].astype(int)"
   ]
  },
  {
   "cell_type": "code",
   "execution_count": 8,
   "id": "0b76847a",
   "metadata": {},
   "outputs": [],
   "source": [
    "#known_vars.to_pickle('00_dataframes/nct_gepado_master_vars')"
   ]
  },
  {
   "cell_type": "code",
   "execution_count": null,
   "id": "27c52668",
   "metadata": {},
   "outputs": [],
   "source": []
  },
  {
   "cell_type": "code",
   "execution_count": 100,
   "id": "9de19865",
   "metadata": {},
   "outputs": [
    {
     "data": {
      "text/plain": [
       "['SpliceAI_pred_DP_AG',\n",
       " 'SpliceAI_pred_DP_AL',\n",
       " 'SpliceAI_pred_DP_DG',\n",
       " 'SpliceAI_pred_DP_DL',\n",
       " 'SpliceAI_pred_DS_AG',\n",
       " 'SpliceAI_pred_DS_AL',\n",
       " 'SpliceAI_pred_DS_DG',\n",
       " 'SpliceAI_pred_DS_DL',\n",
       " 'SpliceAI_pred_SYMBOL']"
      ]
     },
     "execution_count": 100,
     "metadata": {},
     "output_type": "execute_result"
    }
   ],
   "source": [
    "search_col(all_vars, 'spliceai')"
   ]
  },
  {
   "cell_type": "code",
   "execution_count": null,
   "id": "54d45637",
   "metadata": {},
   "outputs": [],
   "source": []
  },
  {
   "cell_type": "code",
   "execution_count": null,
   "id": "dfd0933e",
   "metadata": {},
   "outputs": [],
   "source": []
  },
  {
   "cell_type": "markdown",
   "id": "8f10a046",
   "metadata": {},
   "source": [
    "### Merge dataframes"
   ]
  },
  {
   "cell_type": "code",
   "execution_count": 7,
   "id": "a11f56c9",
   "metadata": {},
   "outputs": [],
   "source": [
    "# merge vars: variants being described in known_vars and analyzed by me in IGV\n",
    "merge_vars = pd.merge(igv_vars[cols_cpra].drop_duplicates(), known_vars[cols_cpra].drop_duplicates(), how='inner'\n",
    "                     ).drop_duplicates()\n",
    "# not_known_vars: variants only analyzed by me in IGV, but not in known_vars\n",
    "not_known_vars = pd.concat([igv_vars[cols_cpra].drop_duplicates(), merge_vars, merge_vars]\n",
    "                          ).drop_duplicates(keep=False)"
   ]
  },
  {
   "cell_type": "code",
   "execution_count": 10,
   "id": "e9d96747",
   "metadata": {},
   "outputs": [],
   "source": [
    "# merge IGV variants (476 variants) and NCT known variants (4414 variants) --> 108 variants\n",
    "#len(pd.merge(igv_vars[cols_cpra].drop_duplicates(), known_vars[cols_cpra].drop_duplicates(), how='inner'))\n",
    "\n",
    "# merge all Naga variants (8237 variants) and NCT known variants (4414 variants) --> 788 variants\n",
    "#len(pd.merge(all_vars[cols_cpra].drop_duplicates(), known_vars[cols_cpra].drop_duplicates(), how='inner'))"
   ]
  },
  {
   "cell_type": "code",
   "execution_count": 8,
   "id": "9f5bc8e8",
   "metadata": {},
   "outputs": [],
   "source": [
    "# df with all by NCT/Gepado... known variants and splice prioritized, seen in IGV\n",
    "merge_df = pd.merge(merge_vars, igv_vars, how='inner')\n",
    "merge_df = pd.merge(merge_df, known_vars, on=cols_cpra+['PID_trans'], how='inner').drop_duplicates(\n",
    "    subset=igv_vars.columns)\n",
    "\n",
    "# df with all in IGV seen splice prioritized variants plus PID without ones in NCT/Gepado...\n",
    "not_known_df = pd.merge(not_known_vars, igv_vars, how='inner')\n",
    "not_known_df = pd.concat([igv_vars,merge_df,merge_df]).drop_duplicates(subset=igv_vars.columns,keep=False)"
   ]
  },
  {
   "cell_type": "code",
   "execution_count": 9,
   "id": "beba45b9",
   "metadata": {},
   "outputs": [
    {
     "data": {
      "text/plain": [
       "['shortcut']"
      ]
     },
     "execution_count": 9,
     "metadata": {},
     "output_type": "execute_result"
    }
   ],
   "source": [
    "search_col(merge_df, 'short')"
   ]
  },
  {
   "cell_type": "code",
   "execution_count": 88,
   "id": "e8ff4d4c",
   "metadata": {},
   "outputs": [],
   "source": [
    "# control length of dfs\n",
    "#len(merge_vars), len(not_known_vars), len(igv_vars[cols_cpra].drop_duplicates())\n",
    "#len(merge_df), len(not_known_df), len(igv_vars), len(merge_df.append(not_known_df))"
   ]
  },
  {
   "cell_type": "code",
   "execution_count": 10,
   "id": "8ccaadfe",
   "metadata": {},
   "outputs": [
    {
     "name": "stdout",
     "output_type": "stream",
     "text": [
      "8_30916058_A_G\n",
      "2_48033789_C_T\n",
      "12_133254296_C_A\n",
      "16_3650977_T_TA\n",
      "17_7579699_C_T\n"
     ]
    }
   ],
   "source": [
    "for i in ['8_30916058_A_G', '16_2137924_TCCCTGCAGTGCAGGAAAGGTAGGGCCGGGTGGGG_T', '22_24175755_G_A', '1_45797835_T_G', \n",
    "          '2_47612302_C_G', '2_48033789_C_T', '3_14190057_C_T', '3_52443725_C_G', '10_104389820_C_A', \n",
    "          '11_108224490_T_G', '12_133254296_C_A', '13_48881547_G_A', '13_48953712_CTTTTT_C', '14_105243112_G_T', \n",
    "          '16_3650977_T_TA', '17_7579699_C_T', '17_29482996_TTCAGCTTCCAATA_T']:\n",
    "    if i in merge_df['shortcut'].unique():\n",
    "        print(i)"
   ]
  },
  {
   "cell_type": "code",
   "execution_count": null,
   "id": "6639bc41",
   "metadata": {},
   "outputs": [],
   "source": []
  },
  {
   "cell_type": "code",
   "execution_count": 99,
   "id": "801d6a50",
   "metadata": {},
   "outputs": [
    {
     "data": {
      "text/plain": [
       "{'11_108117691_G_A',\n",
       " '16_2112580_C_T',\n",
       " '16_2121617_T_C',\n",
       " '1_243663089_C_T',\n",
       " '1_45797228_C_T',\n",
       " '21_36231773_C_T',\n",
       " '2_128017002_A_C',\n",
       " '3_37035130_C_G',\n",
       " '8_30916058_A_G'}"
      ]
     },
     "execution_count": 99,
     "metadata": {},
     "output_type": "execute_result"
    }
   ],
   "source": [
    "# variants in both subsets, because some in some patients not written down\n",
    "set(not_known_df['shortcut'].unique())&set(merge_df['shortcut'].unique())"
   ]
  },
  {
   "cell_type": "code",
   "execution_count": null,
   "id": "37c2ae45",
   "metadata": {},
   "outputs": [],
   "source": [
    "merged_known_igv = pd.merge(igv_vars[cols_cpra+['shortcut', 'PID_trans']].drop_duplicates(), \n",
    "             known_vars[cols_cpra+['Variant Classification Total', 'PID_trans']].drop_duplicates(), \n",
    "             on=(cols_cpra+['PID_trans']), how='inner').drop_duplicates()\n",
    "uncertain_merged = merged_known_igv[merged_known_igv['Variant Classification Total'].isin([\n",
    "    'Unklare Signifikanz', 'Artefakt, fraglich', np.nan, 'Artefakt, gesichert'])]"
   ]
  },
  {
   "cell_type": "code",
   "execution_count": null,
   "id": "27def722",
   "metadata": {},
   "outputs": [],
   "source": [
    "uncertain_splice_yes = pd.merge(uncertain_merged, igv_vars.drop_duplicates(subset=cols_cpra), how='left')[\n",
    "    pd.merge(uncertain_merged, igv_vars.drop_duplicates(subset=cols_cpra), how='left')['splice_change']=='yes']\n",
    "uncertain_splice_yes = pd.merge(uncertain_splice_yes, known_vars, \n",
    "                                on=cols_cpra+['PID_trans', 'Variant Classification Total'], how='left')"
   ]
  },
  {
   "cell_type": "code",
   "execution_count": null,
   "id": "71e26de7",
   "metadata": {},
   "outputs": [],
   "source": [
    "not_known = pd.concat([igv_vars[cols_cpra+['PID_trans']], merged_known_igv[cols_cpra+['PID_trans']], \n",
    "                       merged_known_igv[cols_cpra+['PID_trans']]]).drop_duplicates(keep=False)"
   ]
  },
  {
   "cell_type": "code",
   "execution_count": null,
   "id": "107f1811",
   "metadata": {},
   "outputs": [],
   "source": [
    "len(not_known.groupby(cols_cpra)), len(merged_known_igv.groupby(cols_cpra)), len(igv_vars.groupby(cols_cpra))"
   ]
  },
  {
   "cell_type": "code",
   "execution_count": null,
   "id": "ca18b481",
   "metadata": {},
   "outputs": [],
   "source": []
  },
  {
   "cell_type": "code",
   "execution_count": null,
   "id": "a2a13129",
   "metadata": {
    "scrolled": true
   },
   "outputs": [],
   "source": [
    "uncertain_splice_yes[['#CHROM', 'POS', 'REF', 'ALT', 'PID_trans', 'Variant Classification Total', 'INFO_IGV',\n",
    "                      'Tumorboard Counseling Information', 'Included in Report', 'Splice Project Gene Priority']]"
   ]
  },
  {
   "cell_type": "code",
   "execution_count": null,
   "id": "4b5324f6",
   "metadata": {},
   "outputs": [],
   "source": []
  },
  {
   "cell_type": "code",
   "execution_count": null,
   "id": "dd7d1e15",
   "metadata": {},
   "outputs": [],
   "source": []
  },
  {
   "cell_type": "code",
   "execution_count": null,
   "id": "08b5be7e",
   "metadata": {},
   "outputs": [],
   "source": []
  },
  {
   "cell_type": "code",
   "execution_count": null,
   "id": "c0060676",
   "metadata": {},
   "outputs": [],
   "source": [
    "no_classif = pd.merge(uncertain_merged[uncertain_merged['Variant Classification Total'].isnull()], igv_vars, \n",
    "                      on=cols_cpra)"
   ]
  },
  {
   "cell_type": "code",
   "execution_count": null,
   "id": "f803d6cb",
   "metadata": {},
   "outputs": [],
   "source": [
    "spl_no_classif = no_classif[cols_cpra][no_classif['splice_change']=='yes'].drop_duplicates(subset=cols_cpra)"
   ]
  },
  {
   "cell_type": "code",
   "execution_count": null,
   "id": "33ad6345",
   "metadata": {},
   "outputs": [],
   "source": [
    "spl_no_classif_info = pd.merge(spl_no_classif, known_vars, on=cols_cpra, how='left')\n"
   ]
  },
  {
   "cell_type": "code",
   "execution_count": null,
   "id": "bb2ad18d",
   "metadata": {},
   "outputs": [],
   "source": [
    "spl_no_classif_info"
   ]
  },
  {
   "cell_type": "code",
   "execution_count": null,
   "id": "87466b51",
   "metadata": {},
   "outputs": [],
   "source": [
    "spl_no_classif_nct = pd.merge(spl_no_classif_info, on=cols_cpra, how='left')\n",
    "                               igv_vars[['#CHROM', 'POS', 'REF', 'ALT', 'consensus_sequence_IGV_region_left',\n",
    "                                       'consensus_sequence_IGV_sequence_left', 'consensus_sequence_IGV_region_right',\n",
    "                                       'consensus_sequence_IGV_sequence_right', 'INFO_IGV', 'too_low_coverage',\n",
    "                                       'splice_change']].drop_duplicates(subset=cols_cpra), \n",
    "                               on=cols_cpra, how='left')\n"
   ]
  },
  {
   "cell_type": "code",
   "execution_count": null,
   "id": "67355aa1",
   "metadata": {},
   "outputs": [],
   "source": [
    "spl_no_classif_info"
   ]
  },
  {
   "cell_type": "code",
   "execution_count": null,
   "id": "e8eb91cb",
   "metadata": {},
   "outputs": [],
   "source": [
    "len(no_classif_info)"
   ]
  },
  {
   "cell_type": "code",
   "execution_count": null,
   "id": "4e0b4b4b",
   "metadata": {},
   "outputs": [],
   "source": [
    "len(pd.merge(uncertain_merged, igv_vars, on=cols_cpra)[pd.merge(uncertain_merged, igv_vars, on=cols_cpra)\n",
    "                                                       ['splice_change']=='yes'].groupby(cols_cpra))"
   ]
  },
  {
   "cell_type": "code",
   "execution_count": null,
   "id": "440ff7e9",
   "metadata": {},
   "outputs": [],
   "source": []
  }
 ],
 "metadata": {
  "kernelspec": {
   "display_name": "Python 3",
   "language": "python",
   "name": "python3"
  },
  "language_info": {
   "codemirror_mode": {
    "name": "ipython",
    "version": 3
   },
   "file_extension": ".py",
   "mimetype": "text/x-python",
   "name": "python",
   "nbconvert_exporter": "python",
   "pygments_lexer": "ipython3",
   "version": "3.9.5"
  }
 },
 "nbformat": 4,
 "nbformat_minor": 5
}
